{
 "cells": [
  {
   "cell_type": "markdown",
   "id": "23a203ca",
   "metadata": {},
   "source": [
    "# Assignment #1"
   ]
  },
  {
   "cell_type": "markdown",
   "id": "700669c0",
   "metadata": {},
   "source": [
    "1. Make two list's one of clothing items and accesories such as shirts, shorts, jeans etc and another list of atleast five colours such as red, white etc.\n",
    "\n",
    "\n",
    "2. Write a nested loop printing out each clothing item and accessory in every colour with the string statment \n",
    "- 'item from list of clothing item' are of 'colour from list of colour'. \n",
    "- Example statment \"shirts are of white colour\", \"shirts are of red colour\""
   ]
  },
  {
   "cell_type": "markdown",
   "id": "f745fab0",
   "metadata": {},
   "source": [
    "# Solution "
   ]
  },
  {
   "cell_type": "code",
   "execution_count": 1,
   "id": "ab5918dd",
   "metadata": {},
   "outputs": [
    {
     "name": "stdout",
     "output_type": "stream",
     "text": [
      "shirt are of white\n",
      "shoes are of white\n",
      "glasses are of white\n",
      "coat are of white\n",
      "shorts are of white\n",
      "shirt are of gray\n",
      "shoes are of gray\n",
      "glasses are of gray\n",
      "coat are of gray\n",
      "shorts are of gray\n",
      "shirt are of black\n",
      "shoes are of black\n",
      "glasses are of black\n",
      "coat are of black\n",
      "shorts are of black\n",
      "shirt are of blue\n",
      "shoes are of blue\n",
      "glasses are of blue\n",
      "coat are of blue\n",
      "shorts are of blue\n",
      "shirt are of brown\n",
      "shoes are of brown\n",
      "glasses are of brown\n",
      "coat are of brown\n",
      "shorts are of brown\n"
     ]
    }
   ],
   "source": [
    "a = [\"shirt\",\"shoes\",\"glasses\",\"coat\",\"shorts\",]\n",
    "b = [\"white\",\"gray\",\"black\",\"blue\",\"brown\",]\n",
    "b=[\"are of \" + item for item in b]\n",
    "i = 0 \n",
    "while i < len(a):\n",
    "    print(a[0],b[i])\n",
    "    print(a[1],b[i])\n",
    "    print(a[2],b[i])\n",
    "    print(a[3],b[i])\n",
    "    print(a[4],b[i])\n",
    "    i=i + 1\n"
   ]
  },
  {
   "cell_type": "code",
   "execution_count": null,
   "id": "5bdbb882",
   "metadata": {},
   "outputs": [],
   "source": []
  }
 ],
 "metadata": {
  "kernelspec": {
   "display_name": "Python 3 (ipykernel)",
   "language": "python",
   "name": "python3"
  },
  "language_info": {
   "codemirror_mode": {
    "name": "ipython",
    "version": 3
   },
   "file_extension": ".py",
   "mimetype": "text/x-python",
   "name": "python",
   "nbconvert_exporter": "python",
   "pygments_lexer": "ipython3",
   "version": "3.9.12"
  }
 },
 "nbformat": 4,
 "nbformat_minor": 5
}
