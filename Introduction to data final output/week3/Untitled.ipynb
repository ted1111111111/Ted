{
 "cells": [
  {
   "cell_type": "code",
   "execution_count": null,
   "id": "36c0b87a",
   "metadata": {},
   "outputs": [],
   "source": [
    "#https://www.theatlantic.com/technology/archive/2019/03/what-happened-uber-x-companies/584236/\n",
    "#https://docs.google.com/spreadsheets/d/1qPcpQ9rk08JhEApPSr2jSfJtSWa8RH0ANPibtWuRnh0/edit?usp=sharing\n",
    "#https://jungleworks.com/11-uber-for-x-startups-that-failed-are-you-making-the-same-mistakes/\n",
    "#https://www.quora.com/Uber-for-X-What-startups-are-working-on-Uber-for-X\n",
    "#https://www.producthunt.com/e/uber-for-x\n",
    "#https://news.crunchbase.com/news/upcounsel-raises-12m-series-b-connect-lawyers-businesses/\n",
    "#https://www.wired.com/2015/10/why-homejoy-failed/\n"
   ]
  },
  {
   "cell_type": "code",
   "execution_count": null,
   "id": "9b819522",
   "metadata": {},
   "outputs": [],
   "source": [
    "Uber for X."
   ]
  },
  {
   "cell_type": "code",
   "execution_count": null,
   "id": "0609e637",
   "metadata": {},
   "outputs": [],
   "source": []
  },
  {
   "cell_type": "code",
   "execution_count": 22,
   "id": "d776c57f",
   "metadata": {},
   "outputs": [
    {
     "name": "stdout",
     "output_type": "stream",
     "text": [
      "Requirement already satisfied: requests in c:\\users\\soperde\\anaconda3\\lib\\site-packages (2.27.1)\n",
      "Requirement already satisfied: charset-normalizer~=2.0.0 in c:\\users\\soperde\\anaconda3\\lib\\site-packages (from requests) (2.0.4)\n",
      "Requirement already satisfied: certifi>=2017.4.17 in c:\\users\\soperde\\anaconda3\\lib\\site-packages (from requests) (2021.10.8)\n",
      "Requirement already satisfied: urllib3<1.27,>=1.21.1 in c:\\users\\soperde\\anaconda3\\lib\\site-packages (from requests) (1.26.9)\n",
      "Requirement already satisfied: idna<4,>=2.5 in c:\\users\\soperde\\anaconda3\\lib\\site-packages (from requests) (3.3)\n"
     ]
    }
   ],
   "source": [
    "import sys\n",
    "!{sys.executable} -m pip install requests"
   ]
  },
  {
   "cell_type": "code",
   "execution_count": 2,
   "id": "adf7083d",
   "metadata": {},
   "outputs": [],
   "source": [
    "import numpy as np\n",
    "import pandas as pd\n",
    "import matplotlib.pyplot as plt"
   ]
  },
  {
   "cell_type": "code",
   "execution_count": 3,
   "id": "ee09bd7b",
   "metadata": {},
   "outputs": [],
   "source": [
    "df = pd.read_csv(\"data/Uber.csv\")"
   ]
  },
  {
   "cell_type": "code",
   "execution_count": 4,
   "id": "bb24c6fb",
   "metadata": {},
   "outputs": [
    {
     "data": {
      "text/plain": [
       "(105, 8)"
      ]
     },
     "execution_count": 4,
     "metadata": {},
     "output_type": "execute_result"
    }
   ],
   "source": [
    "df.shape"
   ]
  },
  {
   "cell_type": "code",
   "execution_count": 5,
   "id": "48e46a12",
   "metadata": {},
   "outputs": [
    {
     "data": {
      "text/html": [
       "<div>\n",
       "<style scoped>\n",
       "    .dataframe tbody tr th:only-of-type {\n",
       "        vertical-align: middle;\n",
       "    }\n",
       "\n",
       "    .dataframe tbody tr th {\n",
       "        vertical-align: top;\n",
       "    }\n",
       "\n",
       "    .dataframe thead th {\n",
       "        text-align: right;\n",
       "    }\n",
       "</style>\n",
       "<table border=\"1\" class=\"dataframe\">\n",
       "  <thead>\n",
       "    <tr style=\"text-align: right;\">\n",
       "      <th></th>\n",
       "      <th>Name</th>\n",
       "      <th>Funding</th>\n",
       "      <th>Business</th>\n",
       "      <th>Founded</th>\n",
       "      <th>Fate</th>\n",
       "      <th>Comment</th>\n",
       "      <th>Unnamed: 6</th>\n",
       "      <th>Unnamed: 7</th>\n",
       "    </tr>\n",
       "  </thead>\n",
       "  <tbody>\n",
       "    <tr>\n",
       "      <th>0</th>\n",
       "      <td>BiteSquad</td>\n",
       "      <td>Self</td>\n",
       "      <td>Delivery-Food</td>\n",
       "      <td>2012</td>\n",
       "      <td>Acquired</td>\n",
       "      <td>Acquired by Waitr for $321 million</td>\n",
       "      <td>https://table.skift.com/2018/12/12/waitr-acqui...</td>\n",
       "      <td>https://foodondemandnews.com/a-conversation-wi...</td>\n",
       "    </tr>\n",
       "    <tr>\n",
       "      <th>1</th>\n",
       "      <td>Canary</td>\n",
       "      <td>Self</td>\n",
       "      <td>Delivery-Weed</td>\n",
       "      <td>2014</td>\n",
       "      <td>Gone</td>\n",
       "      <td>Out in 2015</td>\n",
       "      <td>https://www.geekwire.com/2015/uber-for-pot-sta...</td>\n",
       "      <td>NaN</td>\n",
       "    </tr>\n",
       "    <tr>\n",
       "      <th>2</th>\n",
       "      <td>Bannerman</td>\n",
       "      <td>Seed</td>\n",
       "      <td>Services-Security</td>\n",
       "      <td>2014</td>\n",
       "      <td>Alive</td>\n",
       "      <td>\"We raised a small number and hit profitabilit...</td>\n",
       "      <td>https://www.pymnts.com/uber-of-x/2016/uber-of-...</td>\n",
       "      <td>NaN</td>\n",
       "    </tr>\n",
       "    <tr>\n",
       "      <th>3</th>\n",
       "      <td>Buttery</td>\n",
       "      <td>Seed</td>\n",
       "      <td>Delivery-Booze</td>\n",
       "      <td>2015</td>\n",
       "      <td>Acquired</td>\n",
       "      <td>Acquired by Drizly</td>\n",
       "      <td>NaN</td>\n",
       "      <td>NaN</td>\n",
       "    </tr>\n",
       "    <tr>\n",
       "      <th>4</th>\n",
       "      <td>Caarbon</td>\n",
       "      <td>Seed</td>\n",
       "      <td>Services-Valet</td>\n",
       "      <td>2014</td>\n",
       "      <td>Gone</td>\n",
       "      <td>Out by 2016</td>\n",
       "      <td>https://www.bizjournals.com/sanjose/blog/techf...</td>\n",
       "      <td>NaN</td>\n",
       "    </tr>\n",
       "    <tr>\n",
       "      <th>...</th>\n",
       "      <td>...</td>\n",
       "      <td>...</td>\n",
       "      <td>...</td>\n",
       "      <td>...</td>\n",
       "      <td>...</td>\n",
       "      <td>...</td>\n",
       "      <td>...</td>\n",
       "      <td>...</td>\n",
       "    </tr>\n",
       "    <tr>\n",
       "      <th>100</th>\n",
       "      <td>BottlesTonight</td>\n",
       "      <td>$260,000</td>\n",
       "      <td>Services-Bottle Service</td>\n",
       "      <td>2013</td>\n",
       "      <td>Alive</td>\n",
       "      <td>But close</td>\n",
       "      <td>NaN</td>\n",
       "      <td>NaN</td>\n",
       "    </tr>\n",
       "    <tr>\n",
       "      <th>101</th>\n",
       "      <td>Shortcut</td>\n",
       "      <td>$215,000</td>\n",
       "      <td>Services-Barbers</td>\n",
       "      <td>2014</td>\n",
       "      <td>Alive</td>\n",
       "      <td>NaN</td>\n",
       "      <td>NaN</td>\n",
       "      <td>NaN</td>\n",
       "    </tr>\n",
       "    <tr>\n",
       "      <th>102</th>\n",
       "      <td>Laborocity</td>\n",
       "      <td>$125,000</td>\n",
       "      <td>Services-General Labor</td>\n",
       "      <td>2014</td>\n",
       "      <td>Alive</td>\n",
       "      <td>NaN</td>\n",
       "      <td>NaN</td>\n",
       "      <td>NaN</td>\n",
       "    </tr>\n",
       "    <tr>\n",
       "      <th>103</th>\n",
       "      <td>StyleBee</td>\n",
       "      <td>$120,000</td>\n",
       "      <td>Services-Stylists</td>\n",
       "      <td>2014</td>\n",
       "      <td>Alive</td>\n",
       "      <td>NaN</td>\n",
       "      <td>NaN</td>\n",
       "      <td>NaN</td>\n",
       "    </tr>\n",
       "    <tr>\n",
       "      <th>104</th>\n",
       "      <td>Dinnr</td>\n",
       "      <td>$90,700</td>\n",
       "      <td>Delivery-Grocery</td>\n",
       "      <td>2012</td>\n",
       "      <td>Gone</td>\n",
       "      <td>Out in 2014</td>\n",
       "      <td>NaN</td>\n",
       "      <td>NaN</td>\n",
       "    </tr>\n",
       "  </tbody>\n",
       "</table>\n",
       "<p>105 rows × 8 columns</p>\n",
       "</div>"
      ],
      "text/plain": [
       "               Name   Funding                 Business  Founded      Fate  \\\n",
       "0         BiteSquad      Self            Delivery-Food     2012  Acquired   \n",
       "1            Canary      Self            Delivery-Weed     2014      Gone   \n",
       "2         Bannerman      Seed        Services-Security     2014     Alive   \n",
       "3           Buttery      Seed           Delivery-Booze     2015  Acquired   \n",
       "4           Caarbon      Seed           Services-Valet     2014      Gone   \n",
       "..              ...       ...                      ...      ...       ...   \n",
       "100  BottlesTonight  $260,000  Services-Bottle Service     2013     Alive   \n",
       "101        Shortcut  $215,000         Services-Barbers     2014     Alive   \n",
       "102      Laborocity  $125,000   Services-General Labor     2014     Alive   \n",
       "103        StyleBee  $120,000        Services-Stylists     2014     Alive   \n",
       "104           Dinnr   $90,700         Delivery-Grocery     2012      Gone   \n",
       "\n",
       "                                               Comment  \\\n",
       "0                   Acquired by Waitr for $321 million   \n",
       "1                                          Out in 2015   \n",
       "2    \"We raised a small number and hit profitabilit...   \n",
       "3                                   Acquired by Drizly   \n",
       "4                                          Out by 2016   \n",
       "..                                                 ...   \n",
       "100                                          But close   \n",
       "101                                                NaN   \n",
       "102                                                NaN   \n",
       "103                                                NaN   \n",
       "104                                        Out in 2014   \n",
       "\n",
       "                                            Unnamed: 6  \\\n",
       "0    https://table.skift.com/2018/12/12/waitr-acqui...   \n",
       "1    https://www.geekwire.com/2015/uber-for-pot-sta...   \n",
       "2    https://www.pymnts.com/uber-of-x/2016/uber-of-...   \n",
       "3                                                  NaN   \n",
       "4    https://www.bizjournals.com/sanjose/blog/techf...   \n",
       "..                                                 ...   \n",
       "100                                                NaN   \n",
       "101                                                NaN   \n",
       "102                                                NaN   \n",
       "103                                                NaN   \n",
       "104                                                NaN   \n",
       "\n",
       "                                            Unnamed: 7  \n",
       "0    https://foodondemandnews.com/a-conversation-wi...  \n",
       "1                                                  NaN  \n",
       "2                                                  NaN  \n",
       "3                                                  NaN  \n",
       "4                                                  NaN  \n",
       "..                                                 ...  \n",
       "100                                                NaN  \n",
       "101                                                NaN  \n",
       "102                                                NaN  \n",
       "103                                                NaN  \n",
       "104                                                NaN  \n",
       "\n",
       "[105 rows x 8 columns]"
      ]
     },
     "execution_count": 5,
     "metadata": {},
     "output_type": "execute_result"
    }
   ],
   "source": [
    "df"
   ]
  },
  {
   "cell_type": "code",
   "execution_count": 6,
   "id": "520fd815",
   "metadata": {},
   "outputs": [
    {
     "data": {
      "text/plain": [
       "Name          object\n",
       "Funding       object\n",
       "Business      object\n",
       "Founded        int64\n",
       "Fate          object\n",
       "Comment       object\n",
       "Unnamed: 6    object\n",
       "Unnamed: 7    object\n",
       "dtype: object"
      ]
     },
     "execution_count": 6,
     "metadata": {},
     "output_type": "execute_result"
    }
   ],
   "source": [
    "df.dtypes"
   ]
  },
  {
   "cell_type": "code",
   "execution_count": 7,
   "id": "b49709f6",
   "metadata": {},
   "outputs": [
    {
     "data": {
      "text/html": [
       "<div>\n",
       "<style scoped>\n",
       "    .dataframe tbody tr th:only-of-type {\n",
       "        vertical-align: middle;\n",
       "    }\n",
       "\n",
       "    .dataframe tbody tr th {\n",
       "        vertical-align: top;\n",
       "    }\n",
       "\n",
       "    .dataframe thead th {\n",
       "        text-align: right;\n",
       "    }\n",
       "</style>\n",
       "<table border=\"1\" class=\"dataframe\">\n",
       "  <thead>\n",
       "    <tr style=\"text-align: right;\">\n",
       "      <th></th>\n",
       "      <th>Name</th>\n",
       "      <th>Funding</th>\n",
       "      <th>Business</th>\n",
       "      <th>Founded</th>\n",
       "      <th>Fate</th>\n",
       "      <th>Comment</th>\n",
       "      <th>Unnamed: 6</th>\n",
       "      <th>Unnamed: 7</th>\n",
       "    </tr>\n",
       "  </thead>\n",
       "  <tbody>\n",
       "    <tr>\n",
       "      <th>count</th>\n",
       "      <td>105</td>\n",
       "      <td>95</td>\n",
       "      <td>105</td>\n",
       "      <td>105.000000</td>\n",
       "      <td>105</td>\n",
       "      <td>65</td>\n",
       "      <td>56</td>\n",
       "      <td>1</td>\n",
       "    </tr>\n",
       "    <tr>\n",
       "      <th>unique</th>\n",
       "      <td>105</td>\n",
       "      <td>78</td>\n",
       "      <td>44</td>\n",
       "      <td>NaN</td>\n",
       "      <td>4</td>\n",
       "      <td>50</td>\n",
       "      <td>56</td>\n",
       "      <td>1</td>\n",
       "    </tr>\n",
       "    <tr>\n",
       "      <th>top</th>\n",
       "      <td>BiteSquad</td>\n",
       "      <td>Seed</td>\n",
       "      <td>Delivery-Food</td>\n",
       "      <td>NaN</td>\n",
       "      <td>Alive</td>\n",
       "      <td>Last round in 2018</td>\n",
       "      <td>https://table.skift.com/2018/12/12/waitr-acqui...</td>\n",
       "      <td>https://foodondemandnews.com/a-conversation-wi...</td>\n",
       "    </tr>\n",
       "    <tr>\n",
       "      <th>freq</th>\n",
       "      <td>1</td>\n",
       "      <td>9</td>\n",
       "      <td>9</td>\n",
       "      <td>NaN</td>\n",
       "      <td>54</td>\n",
       "      <td>9</td>\n",
       "      <td>1</td>\n",
       "      <td>1</td>\n",
       "    </tr>\n",
       "    <tr>\n",
       "      <th>mean</th>\n",
       "      <td>NaN</td>\n",
       "      <td>NaN</td>\n",
       "      <td>NaN</td>\n",
       "      <td>2012.780952</td>\n",
       "      <td>NaN</td>\n",
       "      <td>NaN</td>\n",
       "      <td>NaN</td>\n",
       "      <td>NaN</td>\n",
       "    </tr>\n",
       "    <tr>\n",
       "      <th>std</th>\n",
       "      <td>NaN</td>\n",
       "      <td>NaN</td>\n",
       "      <td>NaN</td>\n",
       "      <td>1.743013</td>\n",
       "      <td>NaN</td>\n",
       "      <td>NaN</td>\n",
       "      <td>NaN</td>\n",
       "      <td>NaN</td>\n",
       "    </tr>\n",
       "    <tr>\n",
       "      <th>min</th>\n",
       "      <td>NaN</td>\n",
       "      <td>NaN</td>\n",
       "      <td>NaN</td>\n",
       "      <td>2004.000000</td>\n",
       "      <td>NaN</td>\n",
       "      <td>NaN</td>\n",
       "      <td>NaN</td>\n",
       "      <td>NaN</td>\n",
       "    </tr>\n",
       "    <tr>\n",
       "      <th>25%</th>\n",
       "      <td>NaN</td>\n",
       "      <td>NaN</td>\n",
       "      <td>NaN</td>\n",
       "      <td>2012.000000</td>\n",
       "      <td>NaN</td>\n",
       "      <td>NaN</td>\n",
       "      <td>NaN</td>\n",
       "      <td>NaN</td>\n",
       "    </tr>\n",
       "    <tr>\n",
       "      <th>50%</th>\n",
       "      <td>NaN</td>\n",
       "      <td>NaN</td>\n",
       "      <td>NaN</td>\n",
       "      <td>2013.000000</td>\n",
       "      <td>NaN</td>\n",
       "      <td>NaN</td>\n",
       "      <td>NaN</td>\n",
       "      <td>NaN</td>\n",
       "    </tr>\n",
       "    <tr>\n",
       "      <th>75%</th>\n",
       "      <td>NaN</td>\n",
       "      <td>NaN</td>\n",
       "      <td>NaN</td>\n",
       "      <td>2014.000000</td>\n",
       "      <td>NaN</td>\n",
       "      <td>NaN</td>\n",
       "      <td>NaN</td>\n",
       "      <td>NaN</td>\n",
       "    </tr>\n",
       "    <tr>\n",
       "      <th>max</th>\n",
       "      <td>NaN</td>\n",
       "      <td>NaN</td>\n",
       "      <td>NaN</td>\n",
       "      <td>2018.000000</td>\n",
       "      <td>NaN</td>\n",
       "      <td>NaN</td>\n",
       "      <td>NaN</td>\n",
       "      <td>NaN</td>\n",
       "    </tr>\n",
       "  </tbody>\n",
       "</table>\n",
       "</div>"
      ],
      "text/plain": [
       "             Name Funding       Business      Founded   Fate  \\\n",
       "count         105      95            105   105.000000    105   \n",
       "unique        105      78             44          NaN      4   \n",
       "top     BiteSquad    Seed  Delivery-Food          NaN  Alive   \n",
       "freq            1       9              9          NaN     54   \n",
       "mean          NaN     NaN            NaN  2012.780952    NaN   \n",
       "std           NaN     NaN            NaN     1.743013    NaN   \n",
       "min           NaN     NaN            NaN  2004.000000    NaN   \n",
       "25%           NaN     NaN            NaN  2012.000000    NaN   \n",
       "50%           NaN     NaN            NaN  2013.000000    NaN   \n",
       "75%           NaN     NaN            NaN  2014.000000    NaN   \n",
       "max           NaN     NaN            NaN  2018.000000    NaN   \n",
       "\n",
       "                   Comment                                         Unnamed: 6  \\\n",
       "count                   65                                                 56   \n",
       "unique                  50                                                 56   \n",
       "top     Last round in 2018  https://table.skift.com/2018/12/12/waitr-acqui...   \n",
       "freq                     9                                                  1   \n",
       "mean                   NaN                                                NaN   \n",
       "std                    NaN                                                NaN   \n",
       "min                    NaN                                                NaN   \n",
       "25%                    NaN                                                NaN   \n",
       "50%                    NaN                                                NaN   \n",
       "75%                    NaN                                                NaN   \n",
       "max                    NaN                                                NaN   \n",
       "\n",
       "                                               Unnamed: 7  \n",
       "count                                                   1  \n",
       "unique                                                  1  \n",
       "top     https://foodondemandnews.com/a-conversation-wi...  \n",
       "freq                                                    1  \n",
       "mean                                                  NaN  \n",
       "std                                                   NaN  \n",
       "min                                                   NaN  \n",
       "25%                                                   NaN  \n",
       "50%                                                   NaN  \n",
       "75%                                                   NaN  \n",
       "max                                                   NaN  "
      ]
     },
     "execution_count": 7,
     "metadata": {},
     "output_type": "execute_result"
    }
   ],
   "source": [
    "df.describe(include = \"all\")"
   ]
  },
  {
   "cell_type": "code",
   "execution_count": 9,
   "id": "5e3e979f",
   "metadata": {},
   "outputs": [
    {
     "data": {
      "text/html": [
       "<div>\n",
       "<style scoped>\n",
       "    .dataframe tbody tr th:only-of-type {\n",
       "        vertical-align: middle;\n",
       "    }\n",
       "\n",
       "    .dataframe tbody tr th {\n",
       "        vertical-align: top;\n",
       "    }\n",
       "\n",
       "    .dataframe thead th {\n",
       "        text-align: right;\n",
       "    }\n",
       "</style>\n",
       "<table border=\"1\" class=\"dataframe\">\n",
       "  <thead>\n",
       "    <tr style=\"text-align: right;\">\n",
       "      <th></th>\n",
       "      <th>Business</th>\n",
       "      <th>Fate</th>\n",
       "    </tr>\n",
       "  </thead>\n",
       "  <tbody>\n",
       "    <tr>\n",
       "      <th>0</th>\n",
       "      <td>Delivery-Food</td>\n",
       "      <td>Acquired</td>\n",
       "    </tr>\n",
       "    <tr>\n",
       "      <th>1</th>\n",
       "      <td>Delivery-Weed</td>\n",
       "      <td>Gone</td>\n",
       "    </tr>\n",
       "    <tr>\n",
       "      <th>2</th>\n",
       "      <td>Services-Security</td>\n",
       "      <td>Alive</td>\n",
       "    </tr>\n",
       "    <tr>\n",
       "      <th>3</th>\n",
       "      <td>Delivery-Booze</td>\n",
       "      <td>Acquired</td>\n",
       "    </tr>\n",
       "    <tr>\n",
       "      <th>4</th>\n",
       "      <td>Services-Valet</td>\n",
       "      <td>Gone</td>\n",
       "    </tr>\n",
       "    <tr>\n",
       "      <th>...</th>\n",
       "      <td>...</td>\n",
       "      <td>...</td>\n",
       "    </tr>\n",
       "    <tr>\n",
       "      <th>100</th>\n",
       "      <td>Services-Bottle Service</td>\n",
       "      <td>Alive</td>\n",
       "    </tr>\n",
       "    <tr>\n",
       "      <th>101</th>\n",
       "      <td>Services-Barbers</td>\n",
       "      <td>Alive</td>\n",
       "    </tr>\n",
       "    <tr>\n",
       "      <th>102</th>\n",
       "      <td>Services-General Labor</td>\n",
       "      <td>Alive</td>\n",
       "    </tr>\n",
       "    <tr>\n",
       "      <th>103</th>\n",
       "      <td>Services-Stylists</td>\n",
       "      <td>Alive</td>\n",
       "    </tr>\n",
       "    <tr>\n",
       "      <th>104</th>\n",
       "      <td>Delivery-Grocery</td>\n",
       "      <td>Gone</td>\n",
       "    </tr>\n",
       "  </tbody>\n",
       "</table>\n",
       "<p>105 rows × 2 columns</p>\n",
       "</div>"
      ],
      "text/plain": [
       "                    Business      Fate\n",
       "0              Delivery-Food  Acquired\n",
       "1              Delivery-Weed      Gone\n",
       "2          Services-Security     Alive\n",
       "3             Delivery-Booze  Acquired\n",
       "4             Services-Valet      Gone\n",
       "..                       ...       ...\n",
       "100  Services-Bottle Service     Alive\n",
       "101         Services-Barbers     Alive\n",
       "102   Services-General Labor     Alive\n",
       "103        Services-Stylists     Alive\n",
       "104         Delivery-Grocery      Gone\n",
       "\n",
       "[105 rows x 2 columns]"
      ]
     },
     "execution_count": 9,
     "metadata": {},
     "output_type": "execute_result"
    }
   ],
   "source": [
    "df[[\"Business\",\"Fate\"]]\n",
    "#To found out which type of business is ALIVE"
   ]
  },
  {
   "cell_type": "code",
   "execution_count": 50,
   "id": "3561049d",
   "metadata": {},
   "outputs": [
    {
     "data": {
      "text/html": [
       "<div>\n",
       "<style scoped>\n",
       "    .dataframe tbody tr th:only-of-type {\n",
       "        vertical-align: middle;\n",
       "    }\n",
       "\n",
       "    .dataframe tbody tr th {\n",
       "        vertical-align: top;\n",
       "    }\n",
       "\n",
       "    .dataframe thead th {\n",
       "        text-align: right;\n",
       "    }\n",
       "</style>\n",
       "<table border=\"1\" class=\"dataframe\">\n",
       "  <thead>\n",
       "    <tr style=\"text-align: right;\">\n",
       "      <th></th>\n",
       "      <th>Name</th>\n",
       "      <th>Funding</th>\n",
       "      <th>Business</th>\n",
       "      <th>Founded</th>\n",
       "      <th>Fate</th>\n",
       "      <th>Comment</th>\n",
       "      <th>Unnamed: 6</th>\n",
       "      <th>Unnamed: 7</th>\n",
       "    </tr>\n",
       "  </thead>\n",
       "  <tbody>\n",
       "    <tr>\n",
       "      <th>40</th>\n",
       "      <td>Shyp</td>\n",
       "      <td>$62,100,000</td>\n",
       "      <td>Services-Shipping</td>\n",
       "      <td>2018</td>\n",
       "      <td>Gone</td>\n",
       "      <td>Closed 2018</td>\n",
       "      <td>NaN</td>\n",
       "      <td>NaN</td>\n",
       "    </tr>\n",
       "    <tr>\n",
       "      <th>17</th>\n",
       "      <td>KallDoc</td>\n",
       "      <td>NaN</td>\n",
       "      <td>Services-Health</td>\n",
       "      <td>2016</td>\n",
       "      <td>Gone</td>\n",
       "      <td>NaN</td>\n",
       "      <td>NaN</td>\n",
       "      <td>NaN</td>\n",
       "    </tr>\n",
       "    <tr>\n",
       "      <th>85</th>\n",
       "      <td>Vetted</td>\n",
       "      <td>$3,300,000</td>\n",
       "      <td>Services-Vet</td>\n",
       "      <td>2015</td>\n",
       "      <td>Alive</td>\n",
       "      <td>Last round in 2017</td>\n",
       "      <td>NaN</td>\n",
       "      <td>NaN</td>\n",
       "    </tr>\n",
       "    <tr>\n",
       "      <th>63</th>\n",
       "      <td>FitMob</td>\n",
       "      <td>$14,750,000</td>\n",
       "      <td>Services-Fitness</td>\n",
       "      <td>2015</td>\n",
       "      <td>Acquired</td>\n",
       "      <td>Acquired by ClassPass</td>\n",
       "      <td>https://techcrunch.com/2015/04/23/classpass-ac...</td>\n",
       "      <td>NaN</td>\n",
       "    </tr>\n",
       "    <tr>\n",
       "      <th>3</th>\n",
       "      <td>Buttery</td>\n",
       "      <td>Seed</td>\n",
       "      <td>Delivery-Booze</td>\n",
       "      <td>2015</td>\n",
       "      <td>Acquired</td>\n",
       "      <td>Acquired by Drizly</td>\n",
       "      <td>NaN</td>\n",
       "      <td>NaN</td>\n",
       "    </tr>\n",
       "    <tr>\n",
       "      <th>59</th>\n",
       "      <td>Wrench</td>\n",
       "      <td>$17,200,000</td>\n",
       "      <td>Services-Car Repair</td>\n",
       "      <td>2015</td>\n",
       "      <td>Alive</td>\n",
       "      <td>Last round in 2018</td>\n",
       "      <td>NaN</td>\n",
       "      <td>NaN</td>\n",
       "    </tr>\n",
       "    <tr>\n",
       "      <th>19</th>\n",
       "      <td>Squeegy</td>\n",
       "      <td>NaN</td>\n",
       "      <td>Services-Car Washing</td>\n",
       "      <td>2015</td>\n",
       "      <td>Gone</td>\n",
       "      <td>Some operations acquired by Spiffy</td>\n",
       "      <td>https://blog.getspiffy.com/announcing-spiffy-5...</td>\n",
       "      <td>NaN</td>\n",
       "    </tr>\n",
       "    <tr>\n",
       "      <th>81</th>\n",
       "      <td>Swipecast</td>\n",
       "      <td>$4,000,000</td>\n",
       "      <td>Services-Models</td>\n",
       "      <td>2015</td>\n",
       "      <td>Alive</td>\n",
       "      <td>NaN</td>\n",
       "      <td>http://www.documentjournal.com/2018/10/swipeca...</td>\n",
       "      <td>NaN</td>\n",
       "    </tr>\n",
       "    <tr>\n",
       "      <th>73</th>\n",
       "      <td>Cleanly</td>\n",
       "      <td>$7,300,000</td>\n",
       "      <td>Services-Laundry</td>\n",
       "      <td>2015</td>\n",
       "      <td>Alive</td>\n",
       "      <td>NaN</td>\n",
       "      <td>https://techcrunch.com/2017/04/11/cleanly-rais...</td>\n",
       "      <td>NaN</td>\n",
       "    </tr>\n",
       "    <tr>\n",
       "      <th>78</th>\n",
       "      <td>Jitjajo</td>\n",
       "      <td>$5,000,000</td>\n",
       "      <td>Services-Hospitality Labor</td>\n",
       "      <td>2015</td>\n",
       "      <td>Alive</td>\n",
       "      <td>NaN</td>\n",
       "      <td>https://www.fierceceo.com/growth-innovation/ce...</td>\n",
       "      <td>NaN</td>\n",
       "    </tr>\n",
       "    <tr>\n",
       "      <th>46</th>\n",
       "      <td>HelloTech</td>\n",
       "      <td>$42,000,000</td>\n",
       "      <td>Services-Tech</td>\n",
       "      <td>2014</td>\n",
       "      <td>Alive</td>\n",
       "      <td>NaN</td>\n",
       "      <td>NaN</td>\n",
       "      <td>NaN</td>\n",
       "    </tr>\n",
       "    <tr>\n",
       "      <th>83</th>\n",
       "      <td>Lugg</td>\n",
       "      <td>$3,900,000</td>\n",
       "      <td>Services-Mover</td>\n",
       "      <td>2014</td>\n",
       "      <td>Alive</td>\n",
       "      <td>NaN</td>\n",
       "      <td>NaN</td>\n",
       "      <td>NaN</td>\n",
       "    </tr>\n",
       "    <tr>\n",
       "      <th>31</th>\n",
       "      <td>Eaze</td>\n",
       "      <td>$117,000,000</td>\n",
       "      <td>Delivery-Weed</td>\n",
       "      <td>2014</td>\n",
       "      <td>Alive</td>\n",
       "      <td>Last round 12/2018</td>\n",
       "      <td>https://www.eaze.com/blog/posts/eaze-closes-se...</td>\n",
       "      <td>NaN</td>\n",
       "    </tr>\n",
       "    <tr>\n",
       "      <th>33</th>\n",
       "      <td>Enjoy</td>\n",
       "      <td>$80,000,000</td>\n",
       "      <td>Services-Tech</td>\n",
       "      <td>2014</td>\n",
       "      <td>Alive</td>\n",
       "      <td>Last round 08/15</td>\n",
       "      <td>NaN</td>\n",
       "      <td>NaN</td>\n",
       "    </tr>\n",
       "    <tr>\n",
       "      <th>52</th>\n",
       "      <td>Honk</td>\n",
       "      <td>$31,800,000</td>\n",
       "      <td>Services-Car Repair</td>\n",
       "      <td>2014</td>\n",
       "      <td>Alive</td>\n",
       "      <td>Last round 2018</td>\n",
       "      <td>https://techcrunch.com/2018/06/26/honk-the-ube...</td>\n",
       "      <td>NaN</td>\n",
       "    </tr>\n",
       "    <tr>\n",
       "      <th>47</th>\n",
       "      <td>Nurx</td>\n",
       "      <td>$41,400,000</td>\n",
       "      <td>Services-Health</td>\n",
       "      <td>2014</td>\n",
       "      <td>Alive</td>\n",
       "      <td>NaN</td>\n",
       "      <td>https://techcrunch.com/2018/07/11/nurx-raises-...</td>\n",
       "      <td>NaN</td>\n",
       "    </tr>\n",
       "    <tr>\n",
       "      <th>90</th>\n",
       "      <td>Lawn Love</td>\n",
       "      <td>$1,900,000</td>\n",
       "      <td>Services-Gardening</td>\n",
       "      <td>2014</td>\n",
       "      <td>Alive</td>\n",
       "      <td>NaN</td>\n",
       "      <td>https://www.lawnandlandscape.com/article/ll-02...</td>\n",
       "      <td>NaN</td>\n",
       "    </tr>\n",
       "    <tr>\n",
       "      <th>1</th>\n",
       "      <td>Canary</td>\n",
       "      <td>Self</td>\n",
       "      <td>Delivery-Weed</td>\n",
       "      <td>2014</td>\n",
       "      <td>Gone</td>\n",
       "      <td>Out in 2015</td>\n",
       "      <td>https://www.geekwire.com/2015/uber-for-pot-sta...</td>\n",
       "      <td>NaN</td>\n",
       "    </tr>\n",
       "    <tr>\n",
       "      <th>53</th>\n",
       "      <td>Maple</td>\n",
       "      <td>$29,000,000</td>\n",
       "      <td>Delivery-Food</td>\n",
       "      <td>2014</td>\n",
       "      <td>Acquired</td>\n",
       "      <td>Acquired by Deliveroo in May 2017</td>\n",
       "      <td>https://techcrunch.com/2017/05/08/maple-shuts-...</td>\n",
       "      <td>NaN</td>\n",
       "    </tr>\n",
       "    <tr>\n",
       "      <th>55</th>\n",
       "      <td>Operator</td>\n",
       "      <td>$25,000,000</td>\n",
       "      <td>Services-Shopping</td>\n",
       "      <td>2014</td>\n",
       "      <td>Alive</td>\n",
       "      <td>Maybe gone? US app done</td>\n",
       "      <td>https://www.reddit.com/r/iphone/comments/7k3vk...</td>\n",
       "      <td>NaN</td>\n",
       "    </tr>\n",
       "  </tbody>\n",
       "</table>\n",
       "</div>"
      ],
      "text/plain": [
       "         Name       Funding                    Business  Founded      Fate  \\\n",
       "40       Shyp   $62,100,000           Services-Shipping     2018      Gone   \n",
       "17    KallDoc           NaN             Services-Health     2016      Gone   \n",
       "85     Vetted    $3,300,000                Services-Vet     2015     Alive   \n",
       "63     FitMob   $14,750,000            Services-Fitness     2015  Acquired   \n",
       "3     Buttery          Seed              Delivery-Booze     2015  Acquired   \n",
       "59     Wrench   $17,200,000         Services-Car Repair     2015     Alive   \n",
       "19   Squeegy            NaN        Services-Car Washing     2015      Gone   \n",
       "81  Swipecast    $4,000,000             Services-Models     2015     Alive   \n",
       "73    Cleanly    $7,300,000            Services-Laundry     2015     Alive   \n",
       "78    Jitjajo    $5,000,000  Services-Hospitality Labor     2015     Alive   \n",
       "46  HelloTech   $42,000,000               Services-Tech     2014     Alive   \n",
       "83       Lugg    $3,900,000              Services-Mover     2014     Alive   \n",
       "31       Eaze  $117,000,000               Delivery-Weed     2014     Alive   \n",
       "33      Enjoy   $80,000,000               Services-Tech     2014     Alive   \n",
       "52       Honk   $31,800,000         Services-Car Repair     2014     Alive   \n",
       "47       Nurx   $41,400,000             Services-Health     2014     Alive   \n",
       "90  Lawn Love    $1,900,000          Services-Gardening     2014     Alive   \n",
       "1      Canary          Self               Delivery-Weed     2014      Gone   \n",
       "53      Maple   $29,000,000               Delivery-Food     2014  Acquired   \n",
       "55   Operator   $25,000,000           Services-Shopping     2014     Alive   \n",
       "\n",
       "                               Comment  \\\n",
       "40                         Closed 2018   \n",
       "17                                 NaN   \n",
       "85                 Last round in 2017    \n",
       "63               Acquired by ClassPass   \n",
       "3                   Acquired by Drizly   \n",
       "59                  Last round in 2018   \n",
       "19  Some operations acquired by Spiffy   \n",
       "81                                 NaN   \n",
       "73                                 NaN   \n",
       "78                                 NaN   \n",
       "46                                 NaN   \n",
       "83                                 NaN   \n",
       "31                  Last round 12/2018   \n",
       "33                    Last round 08/15   \n",
       "52                     Last round 2018   \n",
       "47                                 NaN   \n",
       "90                                 NaN   \n",
       "1                          Out in 2015   \n",
       "53   Acquired by Deliveroo in May 2017   \n",
       "55             Maybe gone? US app done   \n",
       "\n",
       "                                           Unnamed: 6 Unnamed: 7  \n",
       "40                                                NaN        NaN  \n",
       "17                                                NaN        NaN  \n",
       "85                                                NaN        NaN  \n",
       "63  https://techcrunch.com/2015/04/23/classpass-ac...        NaN  \n",
       "3                                                 NaN        NaN  \n",
       "59                                                NaN        NaN  \n",
       "19  https://blog.getspiffy.com/announcing-spiffy-5...        NaN  \n",
       "81  http://www.documentjournal.com/2018/10/swipeca...        NaN  \n",
       "73  https://techcrunch.com/2017/04/11/cleanly-rais...        NaN  \n",
       "78  https://www.fierceceo.com/growth-innovation/ce...        NaN  \n",
       "46                                                NaN        NaN  \n",
       "83                                                NaN        NaN  \n",
       "31  https://www.eaze.com/blog/posts/eaze-closes-se...        NaN  \n",
       "33                                                NaN        NaN  \n",
       "52  https://techcrunch.com/2018/06/26/honk-the-ube...        NaN  \n",
       "47  https://techcrunch.com/2018/07/11/nurx-raises-...        NaN  \n",
       "90  https://www.lawnandlandscape.com/article/ll-02...        NaN  \n",
       "1   https://www.geekwire.com/2015/uber-for-pot-sta...        NaN  \n",
       "53  https://techcrunch.com/2017/05/08/maple-shuts-...        NaN  \n",
       "55  https://www.reddit.com/r/iphone/comments/7k3vk...        NaN  "
      ]
     },
     "execution_count": 50,
     "metadata": {},
     "output_type": "execute_result"
    }
   ],
   "source": [
    "df.sort_values(by='Founded', ascending=False)[:20]"
   ]
  },
  {
   "cell_type": "code",
   "execution_count": 13,
   "id": "af619ee0",
   "metadata": {},
   "outputs": [
    {
     "data": {
      "text/plain": [
       "Name          1.000000\n",
       "Funding       0.904762\n",
       "Business      1.000000\n",
       "Founded       1.000000\n",
       "Fate          1.000000\n",
       "Comment       0.619048\n",
       "Unnamed: 6    0.533333\n",
       "Unnamed: 7    0.009524\n",
       "dtype: float64"
      ]
     },
     "execution_count": 13,
     "metadata": {},
     "output_type": "execute_result"
    }
   ],
   "source": [
    "df.count() / len(df)"
   ]
  },
  {
   "cell_type": "code",
   "execution_count": 53,
   "id": "a93ddb11",
   "metadata": {},
   "outputs": [
    {
     "data": {
      "text/plain": [
       "Name            0\n",
       "Funding        10\n",
       "Business        0\n",
       "Founded         0\n",
       "Fate            0\n",
       "Comment        40\n",
       "Unnamed: 6     49\n",
       "Unnamed: 7    104\n",
       "dtype: int64"
      ]
     },
     "execution_count": 53,
     "metadata": {},
     "output_type": "execute_result"
    }
   ],
   "source": [
    "df.isna().sum()"
   ]
  },
  {
   "cell_type": "code",
   "execution_count": 14,
   "id": "11e7a916",
   "metadata": {},
   "outputs": [
    {
     "data": {
      "text/html": [
       "<div>\n",
       "<style scoped>\n",
       "    .dataframe tbody tr th:only-of-type {\n",
       "        vertical-align: middle;\n",
       "    }\n",
       "\n",
       "    .dataframe tbody tr th {\n",
       "        vertical-align: top;\n",
       "    }\n",
       "\n",
       "    .dataframe thead th {\n",
       "        text-align: right;\n",
       "    }\n",
       "</style>\n",
       "<table border=\"1\" class=\"dataframe\">\n",
       "  <thead>\n",
       "    <tr style=\"text-align: right;\">\n",
       "      <th></th>\n",
       "      <th>Funding</th>\n",
       "    </tr>\n",
       "  </thead>\n",
       "  <tbody>\n",
       "    <tr>\n",
       "      <th>0</th>\n",
       "      <td>Self</td>\n",
       "    </tr>\n",
       "    <tr>\n",
       "      <th>1</th>\n",
       "      <td>Self</td>\n",
       "    </tr>\n",
       "    <tr>\n",
       "      <th>2</th>\n",
       "      <td>Seed</td>\n",
       "    </tr>\n",
       "    <tr>\n",
       "      <th>3</th>\n",
       "      <td>Seed</td>\n",
       "    </tr>\n",
       "    <tr>\n",
       "      <th>4</th>\n",
       "      <td>Seed</td>\n",
       "    </tr>\n",
       "    <tr>\n",
       "      <th>...</th>\n",
       "      <td>...</td>\n",
       "    </tr>\n",
       "    <tr>\n",
       "      <th>100</th>\n",
       "      <td>$260,000</td>\n",
       "    </tr>\n",
       "    <tr>\n",
       "      <th>101</th>\n",
       "      <td>$215,000</td>\n",
       "    </tr>\n",
       "    <tr>\n",
       "      <th>102</th>\n",
       "      <td>$125,000</td>\n",
       "    </tr>\n",
       "    <tr>\n",
       "      <th>103</th>\n",
       "      <td>$120,000</td>\n",
       "    </tr>\n",
       "    <tr>\n",
       "      <th>104</th>\n",
       "      <td>$90,700</td>\n",
       "    </tr>\n",
       "  </tbody>\n",
       "</table>\n",
       "<p>105 rows × 1 columns</p>\n",
       "</div>"
      ],
      "text/plain": [
       "      Funding\n",
       "0        Self\n",
       "1        Self\n",
       "2        Seed\n",
       "3        Seed\n",
       "4        Seed\n",
       "..        ...\n",
       "100  $260,000\n",
       "101  $215,000\n",
       "102  $125,000\n",
       "103  $120,000\n",
       "104   $90,700\n",
       "\n",
       "[105 rows x 1 columns]"
      ]
     },
     "execution_count": 14,
     "metadata": {},
     "output_type": "execute_result"
    }
   ],
   "source": [
    "df[[\"Funding\"]].fillna(\"unknown\")"
   ]
  },
  {
   "cell_type": "code",
   "execution_count": 31,
   "id": "ecaa6e96",
   "metadata": {},
   "outputs": [],
   "source": [
    "import json\n",
    "import plotly.graph_objects as go\n",
    "import plotly.express as px"
   ]
  },
  {
   "cell_type": "code",
   "execution_count": 40,
   "id": "2e558b07",
   "metadata": {},
   "outputs": [
    {
     "data": {
      "application/vnd.plotly.v1+json": {
       "config": {
        "plotlyServerURL": "https://plot.ly"
       },
       "data": [
        {
         "alignmentgroup": "True",
         "hovertemplate": "Fate=%{text}<br>Funding=%{x}<br>Founded=%{y}<extra></extra>",
         "legendgroup": "Acquired",
         "marker": {
          "color": "#636efa",
          "pattern": {
           "shape": ""
          }
         },
         "name": "Acquired",
         "offsetgroup": "Acquired",
         "orientation": "v",
         "showlegend": true,
         "text": [
          "Acquired",
          "Acquired",
          "Acquired",
          "Acquired",
          "Acquired",
          "Acquired",
          "Acquired",
          "Acquired",
          "Acquired",
          "Acquired",
          "Acquired",
          "Acquired",
          "Acquired",
          "Acquired",
          "Acquired",
          "Acquired",
          "Acquired",
          "Acquired",
          "Acquired"
         ],
         "textposition": "auto",
         "type": "bar",
         "x": [
          "Self",
          "Seed",
          "Seed",
          "Seed",
          null,
          "$110,700,000",
          "$50,000,000",
          "$29,000,000",
          "$16,100,000",
          "$14,750,000",
          "$13,500,000",
          "$7,700,000",
          "$5,000,000",
          "$3,300,000",
          "$2,200,000",
          "$1,900,000",
          "$1,900,000",
          "$1,800,000",
          "$1,100,000"
         ],
         "xaxis": "x",
         "y": [
          2012,
          2015,
          2010,
          2013,
          2011,
          2012,
          2008,
          2014,
          2014,
          2015,
          2013,
          2013,
          2012,
          2011,
          2010,
          2013,
          2010,
          2010,
          2014
         ],
         "yaxis": "y"
        },
        {
         "alignmentgroup": "True",
         "hovertemplate": "Fate=%{text}<br>Funding=%{x}<br>Founded=%{y}<extra></extra>",
         "legendgroup": "Gone",
         "marker": {
          "color": "#EF553B",
          "pattern": {
           "shape": ""
          }
         },
         "name": "Gone",
         "offsetgroup": "Gone",
         "orientation": "v",
         "showlegend": true,
         "text": [
          "Gone",
          "Gone",
          "Gone",
          "Gone",
          "Gone",
          "Gone",
          "Gone",
          "Gone",
          "Gone",
          "Gone",
          "Gone",
          "Gone",
          "Gone",
          "Gone",
          "Gone",
          "Gone",
          "Gone",
          "Gone",
          "Gone",
          "Gone",
          "Gone",
          "Gone",
          "Gone",
          "Gone",
          "Gone",
          "Gone",
          "Gone",
          "Gone"
         ],
         "textposition": "auto",
         "type": "bar",
         "x": [
          "Self",
          "Seed",
          "Seed",
          "Seed",
          "Seed",
          "Seed",
          null,
          null,
          null,
          null,
          null,
          null,
          null,
          null,
          null,
          "$125,400,000",
          "$65,900,000",
          "$62,100,000",
          "$40,500,000",
          "$16,800,000",
          "$5,250,000",
          "$3,100,000",
          "$1,200,000",
          "$1,200,000",
          "$670,000",
          "$650,000",
          "$400,000",
          "$90,700"
         ],
         "xaxis": "x",
         "y": [
          2014,
          2014,
          2013,
          2012,
          2014,
          2011,
          2012,
          2012,
          2012,
          2012,
          2012,
          2016,
          2014,
          2015,
          2013,
          2011,
          2010,
          2018,
          2013,
          2013,
          2011,
          2012,
          2014,
          2013,
          2014,
          2013,
          2013,
          2012
         ],
         "yaxis": "y"
        },
        {
         "alignmentgroup": "True",
         "hovertemplate": "Fate=%{text}<br>Funding=%{x}<br>Founded=%{y}<extra></extra>",
         "legendgroup": "Alive",
         "marker": {
          "color": "#00cc96",
          "pattern": {
           "shape": ""
          }
         },
         "name": "Alive",
         "offsetgroup": "Alive",
         "orientation": "v",
         "showlegend": true,
         "text": [
          "Alive",
          "Alive",
          "Alive",
          "Alive",
          "Alive",
          "Alive",
          "Alive",
          "Alive",
          "Alive",
          "Alive",
          "Alive",
          "Alive",
          "Alive",
          "Alive",
          "Alive",
          "Alive",
          "Alive",
          "Alive",
          "Alive",
          "Alive",
          "Alive",
          "Alive",
          "Alive",
          "Alive",
          "Alive",
          "Alive",
          "Alive",
          "Alive",
          "Alive",
          "Alive",
          "Alive",
          "Alive",
          "Alive",
          "Alive",
          "Alive",
          "Alive",
          "Alive",
          "Alive",
          "Alive",
          "Alive",
          "Alive",
          "Alive",
          "Alive",
          "Alive",
          "Alive",
          "Alive",
          "Alive",
          "Alive",
          "Alive",
          "Alive",
          "Alive",
          "Alive",
          "Alive",
          "Alive"
         ],
         "textposition": "auto",
         "type": "bar",
         "x": [
          "Seed",
          "$361,500,000",
          "$311,000,000",
          "$243,600,000",
          "$199,400,000",
          "$160,700,000",
          "$117,000,000",
          "$80,000,000",
          "$78,300,000",
          "$71,000,000",
          "$67,500,000",
          "$65,000,000",
          "$62,500,000",
          "$58,600,000",
          "$56,000,000",
          "$52,900,000",
          "$43,100,000",
          "$42,000,000",
          "$41,400,000",
          "$40,000,000",
          "$39,600,000",
          "$38,500,000",
          "$31,800,000",
          "$26,000,000",
          "$25,000,000",
          "$25,000,000",
          "$20,000,000",
          "$18,100,000",
          "$17,200,000",
          "$15,400,000",
          "$13,200,000",
          "$10,200,000",
          "$10,000,000",
          "$9,700,000",
          "$8,300,000",
          "$7,800,000",
          "$7,400,000",
          "$7,300,000",
          "$7,000,000",
          "$6,800,000",
          "$6,500,000",
          "$5,000,000",
          "$4,000,000",
          "$4,000,000",
          "$4,000,000",
          "$3,900,000",
          "$3,300,000",
          "$2,500,000",
          "$2,000,000",
          "$1,900,000",
          "$260,000",
          "$215,000",
          "$125,000",
          "$120,000"
         ],
         "xaxis": "x",
         "y": [
          2014,
          2014,
          2011,
          2013,
          2012,
          2012,
          2014,
          2014,
          2013,
          2014,
          2012,
          2011,
          2010,
          2013,
          2012,
          2013,
          2012,
          2014,
          2014,
          2014,
          2013,
          2012,
          2014,
          2012,
          2014,
          2013,
          2013,
          2014,
          2015,
          2014,
          2010,
          2013,
          2013,
          2013,
          2013,
          2013,
          2013,
          2015,
          2013,
          2013,
          2013,
          2015,
          2013,
          2015,
          2013,
          2014,
          2015,
          2010,
          2013,
          2014,
          2013,
          2014,
          2014,
          2014
         ],
         "yaxis": "y"
        },
        {
         "alignmentgroup": "True",
         "hovertemplate": "Fate=%{text}<br>Funding=%{x}<br>Founded=%{y}<extra></extra>",
         "legendgroup": "Unicorn",
         "marker": {
          "color": "#ab63fa",
          "pattern": {
           "shape": ""
          }
         },
         "name": "Unicorn",
         "offsetgroup": "Unicorn",
         "orientation": "v",
         "showlegend": true,
         "text": [
          "Unicorn",
          "Unicorn",
          "Unicorn",
          "Unicorn"
         ],
         "textposition": "auto",
         "type": "bar",
         "x": [
          "$1,900,000,000",
          "$1,400,000,000",
          "$678,000,000",
          "$284,100,000"
         ],
         "xaxis": "x",
         "y": [
          2012,
          2013,
          2011,
          2004
         ],
         "yaxis": "y"
        }
       ],
       "layout": {
        "barmode": "relative",
        "legend": {
         "title": {
          "text": "Fate"
         },
         "tracegroupgap": 0
        },
        "margin": {
         "t": 60
        },
        "template": {
         "data": {
          "bar": [
           {
            "error_x": {
             "color": "#2a3f5f"
            },
            "error_y": {
             "color": "#2a3f5f"
            },
            "marker": {
             "line": {
              "color": "#E5ECF6",
              "width": 0.5
             },
             "pattern": {
              "fillmode": "overlay",
              "size": 10,
              "solidity": 0.2
             }
            },
            "type": "bar"
           }
          ],
          "barpolar": [
           {
            "marker": {
             "line": {
              "color": "#E5ECF6",
              "width": 0.5
             },
             "pattern": {
              "fillmode": "overlay",
              "size": 10,
              "solidity": 0.2
             }
            },
            "type": "barpolar"
           }
          ],
          "carpet": [
           {
            "aaxis": {
             "endlinecolor": "#2a3f5f",
             "gridcolor": "white",
             "linecolor": "white",
             "minorgridcolor": "white",
             "startlinecolor": "#2a3f5f"
            },
            "baxis": {
             "endlinecolor": "#2a3f5f",
             "gridcolor": "white",
             "linecolor": "white",
             "minorgridcolor": "white",
             "startlinecolor": "#2a3f5f"
            },
            "type": "carpet"
           }
          ],
          "choropleth": [
           {
            "colorbar": {
             "outlinewidth": 0,
             "ticks": ""
            },
            "type": "choropleth"
           }
          ],
          "contour": [
           {
            "colorbar": {
             "outlinewidth": 0,
             "ticks": ""
            },
            "colorscale": [
             [
              0,
              "#0d0887"
             ],
             [
              0.1111111111111111,
              "#46039f"
             ],
             [
              0.2222222222222222,
              "#7201a8"
             ],
             [
              0.3333333333333333,
              "#9c179e"
             ],
             [
              0.4444444444444444,
              "#bd3786"
             ],
             [
              0.5555555555555556,
              "#d8576b"
             ],
             [
              0.6666666666666666,
              "#ed7953"
             ],
             [
              0.7777777777777778,
              "#fb9f3a"
             ],
             [
              0.8888888888888888,
              "#fdca26"
             ],
             [
              1,
              "#f0f921"
             ]
            ],
            "type": "contour"
           }
          ],
          "contourcarpet": [
           {
            "colorbar": {
             "outlinewidth": 0,
             "ticks": ""
            },
            "type": "contourcarpet"
           }
          ],
          "heatmap": [
           {
            "colorbar": {
             "outlinewidth": 0,
             "ticks": ""
            },
            "colorscale": [
             [
              0,
              "#0d0887"
             ],
             [
              0.1111111111111111,
              "#46039f"
             ],
             [
              0.2222222222222222,
              "#7201a8"
             ],
             [
              0.3333333333333333,
              "#9c179e"
             ],
             [
              0.4444444444444444,
              "#bd3786"
             ],
             [
              0.5555555555555556,
              "#d8576b"
             ],
             [
              0.6666666666666666,
              "#ed7953"
             ],
             [
              0.7777777777777778,
              "#fb9f3a"
             ],
             [
              0.8888888888888888,
              "#fdca26"
             ],
             [
              1,
              "#f0f921"
             ]
            ],
            "type": "heatmap"
           }
          ],
          "heatmapgl": [
           {
            "colorbar": {
             "outlinewidth": 0,
             "ticks": ""
            },
            "colorscale": [
             [
              0,
              "#0d0887"
             ],
             [
              0.1111111111111111,
              "#46039f"
             ],
             [
              0.2222222222222222,
              "#7201a8"
             ],
             [
              0.3333333333333333,
              "#9c179e"
             ],
             [
              0.4444444444444444,
              "#bd3786"
             ],
             [
              0.5555555555555556,
              "#d8576b"
             ],
             [
              0.6666666666666666,
              "#ed7953"
             ],
             [
              0.7777777777777778,
              "#fb9f3a"
             ],
             [
              0.8888888888888888,
              "#fdca26"
             ],
             [
              1,
              "#f0f921"
             ]
            ],
            "type": "heatmapgl"
           }
          ],
          "histogram": [
           {
            "marker": {
             "pattern": {
              "fillmode": "overlay",
              "size": 10,
              "solidity": 0.2
             }
            },
            "type": "histogram"
           }
          ],
          "histogram2d": [
           {
            "colorbar": {
             "outlinewidth": 0,
             "ticks": ""
            },
            "colorscale": [
             [
              0,
              "#0d0887"
             ],
             [
              0.1111111111111111,
              "#46039f"
             ],
             [
              0.2222222222222222,
              "#7201a8"
             ],
             [
              0.3333333333333333,
              "#9c179e"
             ],
             [
              0.4444444444444444,
              "#bd3786"
             ],
             [
              0.5555555555555556,
              "#d8576b"
             ],
             [
              0.6666666666666666,
              "#ed7953"
             ],
             [
              0.7777777777777778,
              "#fb9f3a"
             ],
             [
              0.8888888888888888,
              "#fdca26"
             ],
             [
              1,
              "#f0f921"
             ]
            ],
            "type": "histogram2d"
           }
          ],
          "histogram2dcontour": [
           {
            "colorbar": {
             "outlinewidth": 0,
             "ticks": ""
            },
            "colorscale": [
             [
              0,
              "#0d0887"
             ],
             [
              0.1111111111111111,
              "#46039f"
             ],
             [
              0.2222222222222222,
              "#7201a8"
             ],
             [
              0.3333333333333333,
              "#9c179e"
             ],
             [
              0.4444444444444444,
              "#bd3786"
             ],
             [
              0.5555555555555556,
              "#d8576b"
             ],
             [
              0.6666666666666666,
              "#ed7953"
             ],
             [
              0.7777777777777778,
              "#fb9f3a"
             ],
             [
              0.8888888888888888,
              "#fdca26"
             ],
             [
              1,
              "#f0f921"
             ]
            ],
            "type": "histogram2dcontour"
           }
          ],
          "mesh3d": [
           {
            "colorbar": {
             "outlinewidth": 0,
             "ticks": ""
            },
            "type": "mesh3d"
           }
          ],
          "parcoords": [
           {
            "line": {
             "colorbar": {
              "outlinewidth": 0,
              "ticks": ""
             }
            },
            "type": "parcoords"
           }
          ],
          "pie": [
           {
            "automargin": true,
            "type": "pie"
           }
          ],
          "scatter": [
           {
            "marker": {
             "colorbar": {
              "outlinewidth": 0,
              "ticks": ""
             }
            },
            "type": "scatter"
           }
          ],
          "scatter3d": [
           {
            "line": {
             "colorbar": {
              "outlinewidth": 0,
              "ticks": ""
             }
            },
            "marker": {
             "colorbar": {
              "outlinewidth": 0,
              "ticks": ""
             }
            },
            "type": "scatter3d"
           }
          ],
          "scattercarpet": [
           {
            "marker": {
             "colorbar": {
              "outlinewidth": 0,
              "ticks": ""
             }
            },
            "type": "scattercarpet"
           }
          ],
          "scattergeo": [
           {
            "marker": {
             "colorbar": {
              "outlinewidth": 0,
              "ticks": ""
             }
            },
            "type": "scattergeo"
           }
          ],
          "scattergl": [
           {
            "marker": {
             "colorbar": {
              "outlinewidth": 0,
              "ticks": ""
             }
            },
            "type": "scattergl"
           }
          ],
          "scattermapbox": [
           {
            "marker": {
             "colorbar": {
              "outlinewidth": 0,
              "ticks": ""
             }
            },
            "type": "scattermapbox"
           }
          ],
          "scatterpolar": [
           {
            "marker": {
             "colorbar": {
              "outlinewidth": 0,
              "ticks": ""
             }
            },
            "type": "scatterpolar"
           }
          ],
          "scatterpolargl": [
           {
            "marker": {
             "colorbar": {
              "outlinewidth": 0,
              "ticks": ""
             }
            },
            "type": "scatterpolargl"
           }
          ],
          "scatterternary": [
           {
            "marker": {
             "colorbar": {
              "outlinewidth": 0,
              "ticks": ""
             }
            },
            "type": "scatterternary"
           }
          ],
          "surface": [
           {
            "colorbar": {
             "outlinewidth": 0,
             "ticks": ""
            },
            "colorscale": [
             [
              0,
              "#0d0887"
             ],
             [
              0.1111111111111111,
              "#46039f"
             ],
             [
              0.2222222222222222,
              "#7201a8"
             ],
             [
              0.3333333333333333,
              "#9c179e"
             ],
             [
              0.4444444444444444,
              "#bd3786"
             ],
             [
              0.5555555555555556,
              "#d8576b"
             ],
             [
              0.6666666666666666,
              "#ed7953"
             ],
             [
              0.7777777777777778,
              "#fb9f3a"
             ],
             [
              0.8888888888888888,
              "#fdca26"
             ],
             [
              1,
              "#f0f921"
             ]
            ],
            "type": "surface"
           }
          ],
          "table": [
           {
            "cells": {
             "fill": {
              "color": "#EBF0F8"
             },
             "line": {
              "color": "white"
             }
            },
            "header": {
             "fill": {
              "color": "#C8D4E3"
             },
             "line": {
              "color": "white"
             }
            },
            "type": "table"
           }
          ]
         },
         "layout": {
          "annotationdefaults": {
           "arrowcolor": "#2a3f5f",
           "arrowhead": 0,
           "arrowwidth": 1
          },
          "autotypenumbers": "strict",
          "coloraxis": {
           "colorbar": {
            "outlinewidth": 0,
            "ticks": ""
           }
          },
          "colorscale": {
           "diverging": [
            [
             0,
             "#8e0152"
            ],
            [
             0.1,
             "#c51b7d"
            ],
            [
             0.2,
             "#de77ae"
            ],
            [
             0.3,
             "#f1b6da"
            ],
            [
             0.4,
             "#fde0ef"
            ],
            [
             0.5,
             "#f7f7f7"
            ],
            [
             0.6,
             "#e6f5d0"
            ],
            [
             0.7,
             "#b8e186"
            ],
            [
             0.8,
             "#7fbc41"
            ],
            [
             0.9,
             "#4d9221"
            ],
            [
             1,
             "#276419"
            ]
           ],
           "sequential": [
            [
             0,
             "#0d0887"
            ],
            [
             0.1111111111111111,
             "#46039f"
            ],
            [
             0.2222222222222222,
             "#7201a8"
            ],
            [
             0.3333333333333333,
             "#9c179e"
            ],
            [
             0.4444444444444444,
             "#bd3786"
            ],
            [
             0.5555555555555556,
             "#d8576b"
            ],
            [
             0.6666666666666666,
             "#ed7953"
            ],
            [
             0.7777777777777778,
             "#fb9f3a"
            ],
            [
             0.8888888888888888,
             "#fdca26"
            ],
            [
             1,
             "#f0f921"
            ]
           ],
           "sequentialminus": [
            [
             0,
             "#0d0887"
            ],
            [
             0.1111111111111111,
             "#46039f"
            ],
            [
             0.2222222222222222,
             "#7201a8"
            ],
            [
             0.3333333333333333,
             "#9c179e"
            ],
            [
             0.4444444444444444,
             "#bd3786"
            ],
            [
             0.5555555555555556,
             "#d8576b"
            ],
            [
             0.6666666666666666,
             "#ed7953"
            ],
            [
             0.7777777777777778,
             "#fb9f3a"
            ],
            [
             0.8888888888888888,
             "#fdca26"
            ],
            [
             1,
             "#f0f921"
            ]
           ]
          },
          "colorway": [
           "#636efa",
           "#EF553B",
           "#00cc96",
           "#ab63fa",
           "#FFA15A",
           "#19d3f3",
           "#FF6692",
           "#B6E880",
           "#FF97FF",
           "#FECB52"
          ],
          "font": {
           "color": "#2a3f5f"
          },
          "geo": {
           "bgcolor": "white",
           "lakecolor": "white",
           "landcolor": "#E5ECF6",
           "showlakes": true,
           "showland": true,
           "subunitcolor": "white"
          },
          "hoverlabel": {
           "align": "left"
          },
          "hovermode": "closest",
          "mapbox": {
           "style": "light"
          },
          "paper_bgcolor": "white",
          "plot_bgcolor": "#E5ECF6",
          "polar": {
           "angularaxis": {
            "gridcolor": "white",
            "linecolor": "white",
            "ticks": ""
           },
           "bgcolor": "#E5ECF6",
           "radialaxis": {
            "gridcolor": "white",
            "linecolor": "white",
            "ticks": ""
           }
          },
          "scene": {
           "xaxis": {
            "backgroundcolor": "#E5ECF6",
            "gridcolor": "white",
            "gridwidth": 2,
            "linecolor": "white",
            "showbackground": true,
            "ticks": "",
            "zerolinecolor": "white"
           },
           "yaxis": {
            "backgroundcolor": "#E5ECF6",
            "gridcolor": "white",
            "gridwidth": 2,
            "linecolor": "white",
            "showbackground": true,
            "ticks": "",
            "zerolinecolor": "white"
           },
           "zaxis": {
            "backgroundcolor": "#E5ECF6",
            "gridcolor": "white",
            "gridwidth": 2,
            "linecolor": "white",
            "showbackground": true,
            "ticks": "",
            "zerolinecolor": "white"
           }
          },
          "shapedefaults": {
           "line": {
            "color": "#2a3f5f"
           }
          },
          "ternary": {
           "aaxis": {
            "gridcolor": "white",
            "linecolor": "white",
            "ticks": ""
           },
           "baxis": {
            "gridcolor": "white",
            "linecolor": "white",
            "ticks": ""
           },
           "bgcolor": "#E5ECF6",
           "caxis": {
            "gridcolor": "white",
            "linecolor": "white",
            "ticks": ""
           }
          },
          "title": {
           "x": 0.05
          },
          "xaxis": {
           "automargin": true,
           "gridcolor": "white",
           "linecolor": "white",
           "ticks": "",
           "title": {
            "standoff": 15
           },
           "zerolinecolor": "white",
           "zerolinewidth": 2
          },
          "yaxis": {
           "automargin": true,
           "gridcolor": "white",
           "linecolor": "white",
           "ticks": "",
           "title": {
            "standoff": 15
           },
           "zerolinecolor": "white",
           "zerolinewidth": 2
          }
         }
        },
        "xaxis": {
         "anchor": "y",
         "domain": [
          0,
          1
         ],
         "title": {
          "text": "Funding"
         }
        },
        "yaxis": {
         "anchor": "x",
         "domain": [
          0,
          1
         ],
         "title": {
          "text": "Founded"
         }
        }
       }
      },
      "text/html": [
       "<div>                            <div id=\"25540cf0-5214-4c6c-bf6b-984d3b1baa70\" class=\"plotly-graph-div\" style=\"height:525px; width:100%;\"></div>            <script type=\"text/javascript\">                require([\"plotly\"], function(Plotly) {                    window.PLOTLYENV=window.PLOTLYENV || {};                                    if (document.getElementById(\"25540cf0-5214-4c6c-bf6b-984d3b1baa70\")) {                    Plotly.newPlot(                        \"25540cf0-5214-4c6c-bf6b-984d3b1baa70\",                        [{\"alignmentgroup\":\"True\",\"hovertemplate\":\"Fate=%{text}<br>Funding=%{x}<br>Founded=%{y}<extra></extra>\",\"legendgroup\":\"Acquired\",\"marker\":{\"color\":\"#636efa\",\"pattern\":{\"shape\":\"\"}},\"name\":\"Acquired\",\"offsetgroup\":\"Acquired\",\"orientation\":\"v\",\"showlegend\":true,\"text\":[\"Acquired\",\"Acquired\",\"Acquired\",\"Acquired\",\"Acquired\",\"Acquired\",\"Acquired\",\"Acquired\",\"Acquired\",\"Acquired\",\"Acquired\",\"Acquired\",\"Acquired\",\"Acquired\",\"Acquired\",\"Acquired\",\"Acquired\",\"Acquired\",\"Acquired\"],\"textposition\":\"auto\",\"x\":[\"Self\",\"Seed\",\"Seed\",\"Seed\",null,\"$110,700,000\",\"$50,000,000\",\"$29,000,000\",\"$16,100,000\",\"$14,750,000\",\"$13,500,000\",\"$7,700,000\",\"$5,000,000\",\"$3,300,000\",\"$2,200,000\",\"$1,900,000\",\"$1,900,000\",\"$1,800,000\",\"$1,100,000\"],\"xaxis\":\"x\",\"y\":[2012,2015,2010,2013,2011,2012,2008,2014,2014,2015,2013,2013,2012,2011,2010,2013,2010,2010,2014],\"yaxis\":\"y\",\"type\":\"bar\"},{\"alignmentgroup\":\"True\",\"hovertemplate\":\"Fate=%{text}<br>Funding=%{x}<br>Founded=%{y}<extra></extra>\",\"legendgroup\":\"Gone\",\"marker\":{\"color\":\"#EF553B\",\"pattern\":{\"shape\":\"\"}},\"name\":\"Gone\",\"offsetgroup\":\"Gone\",\"orientation\":\"v\",\"showlegend\":true,\"text\":[\"Gone\",\"Gone\",\"Gone\",\"Gone\",\"Gone\",\"Gone\",\"Gone\",\"Gone\",\"Gone\",\"Gone\",\"Gone\",\"Gone\",\"Gone\",\"Gone\",\"Gone\",\"Gone\",\"Gone\",\"Gone\",\"Gone\",\"Gone\",\"Gone\",\"Gone\",\"Gone\",\"Gone\",\"Gone\",\"Gone\",\"Gone\",\"Gone\"],\"textposition\":\"auto\",\"x\":[\"Self\",\"Seed\",\"Seed\",\"Seed\",\"Seed\",\"Seed\",null,null,null,null,null,null,null,null,null,\"$125,400,000\",\"$65,900,000\",\"$62,100,000\",\"$40,500,000\",\"$16,800,000\",\"$5,250,000\",\"$3,100,000\",\"$1,200,000\",\"$1,200,000\",\"$670,000\",\"$650,000\",\"$400,000\",\"$90,700\"],\"xaxis\":\"x\",\"y\":[2014,2014,2013,2012,2014,2011,2012,2012,2012,2012,2012,2016,2014,2015,2013,2011,2010,2018,2013,2013,2011,2012,2014,2013,2014,2013,2013,2012],\"yaxis\":\"y\",\"type\":\"bar\"},{\"alignmentgroup\":\"True\",\"hovertemplate\":\"Fate=%{text}<br>Funding=%{x}<br>Founded=%{y}<extra></extra>\",\"legendgroup\":\"Alive\",\"marker\":{\"color\":\"#00cc96\",\"pattern\":{\"shape\":\"\"}},\"name\":\"Alive\",\"offsetgroup\":\"Alive\",\"orientation\":\"v\",\"showlegend\":true,\"text\":[\"Alive\",\"Alive\",\"Alive\",\"Alive\",\"Alive\",\"Alive\",\"Alive\",\"Alive\",\"Alive\",\"Alive\",\"Alive\",\"Alive\",\"Alive\",\"Alive\",\"Alive\",\"Alive\",\"Alive\",\"Alive\",\"Alive\",\"Alive\",\"Alive\",\"Alive\",\"Alive\",\"Alive\",\"Alive\",\"Alive\",\"Alive\",\"Alive\",\"Alive\",\"Alive\",\"Alive\",\"Alive\",\"Alive\",\"Alive\",\"Alive\",\"Alive\",\"Alive\",\"Alive\",\"Alive\",\"Alive\",\"Alive\",\"Alive\",\"Alive\",\"Alive\",\"Alive\",\"Alive\",\"Alive\",\"Alive\",\"Alive\",\"Alive\",\"Alive\",\"Alive\",\"Alive\",\"Alive\"],\"textposition\":\"auto\",\"x\":[\"Seed\",\"$361,500,000\",\"$311,000,000\",\"$243,600,000\",\"$199,400,000\",\"$160,700,000\",\"$117,000,000\",\"$80,000,000\",\"$78,300,000\",\"$71,000,000\",\"$67,500,000\",\"$65,000,000\",\"$62,500,000\",\"$58,600,000\",\"$56,000,000\",\"$52,900,000\",\"$43,100,000\",\"$42,000,000\",\"$41,400,000\",\"$40,000,000\",\"$39,600,000\",\"$38,500,000\",\"$31,800,000\",\"$26,000,000\",\"$25,000,000\",\"$25,000,000\",\"$20,000,000\",\"$18,100,000\",\"$17,200,000\",\"$15,400,000\",\"$13,200,000\",\"$10,200,000\",\"$10,000,000\",\"$9,700,000\",\"$8,300,000\",\"$7,800,000\",\"$7,400,000\",\"$7,300,000\",\"$7,000,000\",\"$6,800,000\",\"$6,500,000\",\"$5,000,000\",\"$4,000,000\",\"$4,000,000\",\"$4,000,000\",\"$3,900,000\",\"$3,300,000\",\"$2,500,000\",\"$2,000,000\",\"$1,900,000\",\"$260,000\",\"$215,000\",\"$125,000\",\"$120,000\"],\"xaxis\":\"x\",\"y\":[2014,2014,2011,2013,2012,2012,2014,2014,2013,2014,2012,2011,2010,2013,2012,2013,2012,2014,2014,2014,2013,2012,2014,2012,2014,2013,2013,2014,2015,2014,2010,2013,2013,2013,2013,2013,2013,2015,2013,2013,2013,2015,2013,2015,2013,2014,2015,2010,2013,2014,2013,2014,2014,2014],\"yaxis\":\"y\",\"type\":\"bar\"},{\"alignmentgroup\":\"True\",\"hovertemplate\":\"Fate=%{text}<br>Funding=%{x}<br>Founded=%{y}<extra></extra>\",\"legendgroup\":\"Unicorn\",\"marker\":{\"color\":\"#ab63fa\",\"pattern\":{\"shape\":\"\"}},\"name\":\"Unicorn\",\"offsetgroup\":\"Unicorn\",\"orientation\":\"v\",\"showlegend\":true,\"text\":[\"Unicorn\",\"Unicorn\",\"Unicorn\",\"Unicorn\"],\"textposition\":\"auto\",\"x\":[\"$1,900,000,000\",\"$1,400,000,000\",\"$678,000,000\",\"$284,100,000\"],\"xaxis\":\"x\",\"y\":[2012,2013,2011,2004],\"yaxis\":\"y\",\"type\":\"bar\"}],                        {\"template\":{\"data\":{\"bar\":[{\"error_x\":{\"color\":\"#2a3f5f\"},\"error_y\":{\"color\":\"#2a3f5f\"},\"marker\":{\"line\":{\"color\":\"#E5ECF6\",\"width\":0.5},\"pattern\":{\"fillmode\":\"overlay\",\"size\":10,\"solidity\":0.2}},\"type\":\"bar\"}],\"barpolar\":[{\"marker\":{\"line\":{\"color\":\"#E5ECF6\",\"width\":0.5},\"pattern\":{\"fillmode\":\"overlay\",\"size\":10,\"solidity\":0.2}},\"type\":\"barpolar\"}],\"carpet\":[{\"aaxis\":{\"endlinecolor\":\"#2a3f5f\",\"gridcolor\":\"white\",\"linecolor\":\"white\",\"minorgridcolor\":\"white\",\"startlinecolor\":\"#2a3f5f\"},\"baxis\":{\"endlinecolor\":\"#2a3f5f\",\"gridcolor\":\"white\",\"linecolor\":\"white\",\"minorgridcolor\":\"white\",\"startlinecolor\":\"#2a3f5f\"},\"type\":\"carpet\"}],\"choropleth\":[{\"colorbar\":{\"outlinewidth\":0,\"ticks\":\"\"},\"type\":\"choropleth\"}],\"contour\":[{\"colorbar\":{\"outlinewidth\":0,\"ticks\":\"\"},\"colorscale\":[[0.0,\"#0d0887\"],[0.1111111111111111,\"#46039f\"],[0.2222222222222222,\"#7201a8\"],[0.3333333333333333,\"#9c179e\"],[0.4444444444444444,\"#bd3786\"],[0.5555555555555556,\"#d8576b\"],[0.6666666666666666,\"#ed7953\"],[0.7777777777777778,\"#fb9f3a\"],[0.8888888888888888,\"#fdca26\"],[1.0,\"#f0f921\"]],\"type\":\"contour\"}],\"contourcarpet\":[{\"colorbar\":{\"outlinewidth\":0,\"ticks\":\"\"},\"type\":\"contourcarpet\"}],\"heatmap\":[{\"colorbar\":{\"outlinewidth\":0,\"ticks\":\"\"},\"colorscale\":[[0.0,\"#0d0887\"],[0.1111111111111111,\"#46039f\"],[0.2222222222222222,\"#7201a8\"],[0.3333333333333333,\"#9c179e\"],[0.4444444444444444,\"#bd3786\"],[0.5555555555555556,\"#d8576b\"],[0.6666666666666666,\"#ed7953\"],[0.7777777777777778,\"#fb9f3a\"],[0.8888888888888888,\"#fdca26\"],[1.0,\"#f0f921\"]],\"type\":\"heatmap\"}],\"heatmapgl\":[{\"colorbar\":{\"outlinewidth\":0,\"ticks\":\"\"},\"colorscale\":[[0.0,\"#0d0887\"],[0.1111111111111111,\"#46039f\"],[0.2222222222222222,\"#7201a8\"],[0.3333333333333333,\"#9c179e\"],[0.4444444444444444,\"#bd3786\"],[0.5555555555555556,\"#d8576b\"],[0.6666666666666666,\"#ed7953\"],[0.7777777777777778,\"#fb9f3a\"],[0.8888888888888888,\"#fdca26\"],[1.0,\"#f0f921\"]],\"type\":\"heatmapgl\"}],\"histogram\":[{\"marker\":{\"pattern\":{\"fillmode\":\"overlay\",\"size\":10,\"solidity\":0.2}},\"type\":\"histogram\"}],\"histogram2d\":[{\"colorbar\":{\"outlinewidth\":0,\"ticks\":\"\"},\"colorscale\":[[0.0,\"#0d0887\"],[0.1111111111111111,\"#46039f\"],[0.2222222222222222,\"#7201a8\"],[0.3333333333333333,\"#9c179e\"],[0.4444444444444444,\"#bd3786\"],[0.5555555555555556,\"#d8576b\"],[0.6666666666666666,\"#ed7953\"],[0.7777777777777778,\"#fb9f3a\"],[0.8888888888888888,\"#fdca26\"],[1.0,\"#f0f921\"]],\"type\":\"histogram2d\"}],\"histogram2dcontour\":[{\"colorbar\":{\"outlinewidth\":0,\"ticks\":\"\"},\"colorscale\":[[0.0,\"#0d0887\"],[0.1111111111111111,\"#46039f\"],[0.2222222222222222,\"#7201a8\"],[0.3333333333333333,\"#9c179e\"],[0.4444444444444444,\"#bd3786\"],[0.5555555555555556,\"#d8576b\"],[0.6666666666666666,\"#ed7953\"],[0.7777777777777778,\"#fb9f3a\"],[0.8888888888888888,\"#fdca26\"],[1.0,\"#f0f921\"]],\"type\":\"histogram2dcontour\"}],\"mesh3d\":[{\"colorbar\":{\"outlinewidth\":0,\"ticks\":\"\"},\"type\":\"mesh3d\"}],\"parcoords\":[{\"line\":{\"colorbar\":{\"outlinewidth\":0,\"ticks\":\"\"}},\"type\":\"parcoords\"}],\"pie\":[{\"automargin\":true,\"type\":\"pie\"}],\"scatter\":[{\"marker\":{\"colorbar\":{\"outlinewidth\":0,\"ticks\":\"\"}},\"type\":\"scatter\"}],\"scatter3d\":[{\"line\":{\"colorbar\":{\"outlinewidth\":0,\"ticks\":\"\"}},\"marker\":{\"colorbar\":{\"outlinewidth\":0,\"ticks\":\"\"}},\"type\":\"scatter3d\"}],\"scattercarpet\":[{\"marker\":{\"colorbar\":{\"outlinewidth\":0,\"ticks\":\"\"}},\"type\":\"scattercarpet\"}],\"scattergeo\":[{\"marker\":{\"colorbar\":{\"outlinewidth\":0,\"ticks\":\"\"}},\"type\":\"scattergeo\"}],\"scattergl\":[{\"marker\":{\"colorbar\":{\"outlinewidth\":0,\"ticks\":\"\"}},\"type\":\"scattergl\"}],\"scattermapbox\":[{\"marker\":{\"colorbar\":{\"outlinewidth\":0,\"ticks\":\"\"}},\"type\":\"scattermapbox\"}],\"scatterpolar\":[{\"marker\":{\"colorbar\":{\"outlinewidth\":0,\"ticks\":\"\"}},\"type\":\"scatterpolar\"}],\"scatterpolargl\":[{\"marker\":{\"colorbar\":{\"outlinewidth\":0,\"ticks\":\"\"}},\"type\":\"scatterpolargl\"}],\"scatterternary\":[{\"marker\":{\"colorbar\":{\"outlinewidth\":0,\"ticks\":\"\"}},\"type\":\"scatterternary\"}],\"surface\":[{\"colorbar\":{\"outlinewidth\":0,\"ticks\":\"\"},\"colorscale\":[[0.0,\"#0d0887\"],[0.1111111111111111,\"#46039f\"],[0.2222222222222222,\"#7201a8\"],[0.3333333333333333,\"#9c179e\"],[0.4444444444444444,\"#bd3786\"],[0.5555555555555556,\"#d8576b\"],[0.6666666666666666,\"#ed7953\"],[0.7777777777777778,\"#fb9f3a\"],[0.8888888888888888,\"#fdca26\"],[1.0,\"#f0f921\"]],\"type\":\"surface\"}],\"table\":[{\"cells\":{\"fill\":{\"color\":\"#EBF0F8\"},\"line\":{\"color\":\"white\"}},\"header\":{\"fill\":{\"color\":\"#C8D4E3\"},\"line\":{\"color\":\"white\"}},\"type\":\"table\"}]},\"layout\":{\"annotationdefaults\":{\"arrowcolor\":\"#2a3f5f\",\"arrowhead\":0,\"arrowwidth\":1},\"autotypenumbers\":\"strict\",\"coloraxis\":{\"colorbar\":{\"outlinewidth\":0,\"ticks\":\"\"}},\"colorscale\":{\"diverging\":[[0,\"#8e0152\"],[0.1,\"#c51b7d\"],[0.2,\"#de77ae\"],[0.3,\"#f1b6da\"],[0.4,\"#fde0ef\"],[0.5,\"#f7f7f7\"],[0.6,\"#e6f5d0\"],[0.7,\"#b8e186\"],[0.8,\"#7fbc41\"],[0.9,\"#4d9221\"],[1,\"#276419\"]],\"sequential\":[[0.0,\"#0d0887\"],[0.1111111111111111,\"#46039f\"],[0.2222222222222222,\"#7201a8\"],[0.3333333333333333,\"#9c179e\"],[0.4444444444444444,\"#bd3786\"],[0.5555555555555556,\"#d8576b\"],[0.6666666666666666,\"#ed7953\"],[0.7777777777777778,\"#fb9f3a\"],[0.8888888888888888,\"#fdca26\"],[1.0,\"#f0f921\"]],\"sequentialminus\":[[0.0,\"#0d0887\"],[0.1111111111111111,\"#46039f\"],[0.2222222222222222,\"#7201a8\"],[0.3333333333333333,\"#9c179e\"],[0.4444444444444444,\"#bd3786\"],[0.5555555555555556,\"#d8576b\"],[0.6666666666666666,\"#ed7953\"],[0.7777777777777778,\"#fb9f3a\"],[0.8888888888888888,\"#fdca26\"],[1.0,\"#f0f921\"]]},\"colorway\":[\"#636efa\",\"#EF553B\",\"#00cc96\",\"#ab63fa\",\"#FFA15A\",\"#19d3f3\",\"#FF6692\",\"#B6E880\",\"#FF97FF\",\"#FECB52\"],\"font\":{\"color\":\"#2a3f5f\"},\"geo\":{\"bgcolor\":\"white\",\"lakecolor\":\"white\",\"landcolor\":\"#E5ECF6\",\"showlakes\":true,\"showland\":true,\"subunitcolor\":\"white\"},\"hoverlabel\":{\"align\":\"left\"},\"hovermode\":\"closest\",\"mapbox\":{\"style\":\"light\"},\"paper_bgcolor\":\"white\",\"plot_bgcolor\":\"#E5ECF6\",\"polar\":{\"angularaxis\":{\"gridcolor\":\"white\",\"linecolor\":\"white\",\"ticks\":\"\"},\"bgcolor\":\"#E5ECF6\",\"radialaxis\":{\"gridcolor\":\"white\",\"linecolor\":\"white\",\"ticks\":\"\"}},\"scene\":{\"xaxis\":{\"backgroundcolor\":\"#E5ECF6\",\"gridcolor\":\"white\",\"gridwidth\":2,\"linecolor\":\"white\",\"showbackground\":true,\"ticks\":\"\",\"zerolinecolor\":\"white\"},\"yaxis\":{\"backgroundcolor\":\"#E5ECF6\",\"gridcolor\":\"white\",\"gridwidth\":2,\"linecolor\":\"white\",\"showbackground\":true,\"ticks\":\"\",\"zerolinecolor\":\"white\"},\"zaxis\":{\"backgroundcolor\":\"#E5ECF6\",\"gridcolor\":\"white\",\"gridwidth\":2,\"linecolor\":\"white\",\"showbackground\":true,\"ticks\":\"\",\"zerolinecolor\":\"white\"}},\"shapedefaults\":{\"line\":{\"color\":\"#2a3f5f\"}},\"ternary\":{\"aaxis\":{\"gridcolor\":\"white\",\"linecolor\":\"white\",\"ticks\":\"\"},\"baxis\":{\"gridcolor\":\"white\",\"linecolor\":\"white\",\"ticks\":\"\"},\"bgcolor\":\"#E5ECF6\",\"caxis\":{\"gridcolor\":\"white\",\"linecolor\":\"white\",\"ticks\":\"\"}},\"title\":{\"x\":0.05},\"xaxis\":{\"automargin\":true,\"gridcolor\":\"white\",\"linecolor\":\"white\",\"ticks\":\"\",\"title\":{\"standoff\":15},\"zerolinecolor\":\"white\",\"zerolinewidth\":2},\"yaxis\":{\"automargin\":true,\"gridcolor\":\"white\",\"linecolor\":\"white\",\"ticks\":\"\",\"title\":{\"standoff\":15},\"zerolinecolor\":\"white\",\"zerolinewidth\":2}}},\"xaxis\":{\"anchor\":\"y\",\"domain\":[0.0,1.0],\"title\":{\"text\":\"Funding\"}},\"yaxis\":{\"anchor\":\"x\",\"domain\":[0.0,1.0],\"title\":{\"text\":\"Founded\"}},\"legend\":{\"title\":{\"text\":\"Fate\"},\"tracegroupgap\":0},\"margin\":{\"t\":60},\"barmode\":\"relative\"},                        {\"responsive\": true}                    ).then(function(){\n",
       "                            \n",
       "var gd = document.getElementById('25540cf0-5214-4c6c-bf6b-984d3b1baa70');\n",
       "var x = new MutationObserver(function (mutations, observer) {{\n",
       "        var display = window.getComputedStyle(gd).display;\n",
       "        if (!display || display === 'none') {{\n",
       "            console.log([gd, 'removed!']);\n",
       "            Plotly.purge(gd);\n",
       "            observer.disconnect();\n",
       "        }}\n",
       "}});\n",
       "\n",
       "// Listen for the removal of the full notebook cells\n",
       "var notebookContainer = gd.closest('#notebook-container');\n",
       "if (notebookContainer) {{\n",
       "    x.observe(notebookContainer, {childList: true});\n",
       "}}\n",
       "\n",
       "// Listen for the clearing of the current output cell\n",
       "var outputEl = gd.closest('.output');\n",
       "if (outputEl) {{\n",
       "    x.observe(outputEl, {childList: true});\n",
       "}}\n",
       "\n",
       "                        })                };                });            </script>        </div>"
      ]
     },
     "metadata": {},
     "output_type": "display_data"
    }
   ],
   "source": [
    "fig = px.bar(df, y='Founded', x='Funding', text='Fate', color='Fate')\n",
    "fig"
   ]
  },
  {
   "cell_type": "code",
   "execution_count": null,
   "id": "89222227",
   "metadata": {},
   "outputs": [],
   "source": []
  },
  {
   "cell_type": "code",
   "execution_count": 48,
   "id": "1260feb1",
   "metadata": {},
   "outputs": [
    {
     "data": {
      "application/vnd.plotly.v1+json": {
       "config": {
        "plotlyServerURL": "https://plot.ly"
       },
       "data": [
        {
         "alignmentgroup": "True",
         "hovertemplate": "Name=%{x}<br>Funding=%{text}<extra></extra>",
         "legendgroup": "BiteSquad",
         "marker": {
          "color": "#636efa",
          "pattern": {
           "shape": ""
          }
         },
         "name": "BiteSquad",
         "offsetgroup": "BiteSquad",
         "orientation": "v",
         "showlegend": true,
         "text": [
          "Self"
         ],
         "textposition": "auto",
         "type": "bar",
         "x": [
          "BiteSquad"
         ],
         "xaxis": "x",
         "y": [
          "Self"
         ],
         "yaxis": "y"
        },
        {
         "alignmentgroup": "True",
         "hovertemplate": "Name=%{x}<br>Funding=%{text}<extra></extra>",
         "legendgroup": "Canary",
         "marker": {
          "color": "#EF553B",
          "pattern": {
           "shape": ""
          }
         },
         "name": "Canary",
         "offsetgroup": "Canary",
         "orientation": "v",
         "showlegend": true,
         "text": [
          "Self"
         ],
         "textposition": "auto",
         "type": "bar",
         "x": [
          "Canary"
         ],
         "xaxis": "x",
         "y": [
          "Self"
         ],
         "yaxis": "y"
        },
        {
         "alignmentgroup": "True",
         "hovertemplate": "Name=%{x}<br>Funding=%{text}<extra></extra>",
         "legendgroup": "Bannerman",
         "marker": {
          "color": "#00cc96",
          "pattern": {
           "shape": ""
          }
         },
         "name": "Bannerman",
         "offsetgroup": "Bannerman",
         "orientation": "v",
         "showlegend": true,
         "text": [
          "Seed"
         ],
         "textposition": "auto",
         "type": "bar",
         "x": [
          "Bannerman"
         ],
         "xaxis": "x",
         "y": [
          "Seed"
         ],
         "yaxis": "y"
        },
        {
         "alignmentgroup": "True",
         "hovertemplate": "Name=%{x}<br>Funding=%{text}<extra></extra>",
         "legendgroup": "Buttery",
         "marker": {
          "color": "#ab63fa",
          "pattern": {
           "shape": ""
          }
         },
         "name": "Buttery",
         "offsetgroup": "Buttery",
         "orientation": "v",
         "showlegend": true,
         "text": [
          "Seed"
         ],
         "textposition": "auto",
         "type": "bar",
         "x": [
          "Buttery"
         ],
         "xaxis": "x",
         "y": [
          "Seed"
         ],
         "yaxis": "y"
        },
        {
         "alignmentgroup": "True",
         "hovertemplate": "Name=%{x}<br>Funding=%{text}<extra></extra>",
         "legendgroup": "Caarbon",
         "marker": {
          "color": "#FFA15A",
          "pattern": {
           "shape": ""
          }
         },
         "name": "Caarbon",
         "offsetgroup": "Caarbon",
         "orientation": "v",
         "showlegend": true,
         "text": [
          "Seed"
         ],
         "textposition": "auto",
         "type": "bar",
         "x": [
          "Caarbon"
         ],
         "xaxis": "x",
         "y": [
          "Seed"
         ],
         "yaxis": "y"
        },
        {
         "alignmentgroup": "True",
         "hovertemplate": "Name=%{x}<br>Funding=%{text}<extra></extra>",
         "legendgroup": "iCracked",
         "marker": {
          "color": "#19d3f3",
          "pattern": {
           "shape": ""
          }
         },
         "name": "iCracked",
         "offsetgroup": "iCracked",
         "orientation": "v",
         "showlegend": true,
         "text": [
          "Seed"
         ],
         "textposition": "auto",
         "type": "bar",
         "x": [
          "iCracked"
         ],
         "xaxis": "x",
         "y": [
          "Seed"
         ],
         "yaxis": "y"
        },
        {
         "alignmentgroup": "True",
         "hovertemplate": "Name=%{x}<br>Funding=%{text}<extra></extra>",
         "legendgroup": "Prim",
         "marker": {
          "color": "#FF6692",
          "pattern": {
           "shape": ""
          }
         },
         "name": "Prim",
         "offsetgroup": "Prim",
         "orientation": "v",
         "showlegend": true,
         "text": [
          "Seed"
         ],
         "textposition": "auto",
         "type": "bar",
         "x": [
          "Prim"
         ],
         "xaxis": "x",
         "y": [
          "Seed"
         ],
         "yaxis": "y"
        },
        {
         "alignmentgroup": "True",
         "hovertemplate": "Name=%{x}<br>Funding=%{text}<extra></extra>",
         "legendgroup": "Rewinery",
         "marker": {
          "color": "#B6E880",
          "pattern": {
           "shape": ""
          }
         },
         "name": "Rewinery",
         "offsetgroup": "Rewinery",
         "orientation": "v",
         "showlegend": true,
         "text": [
          "Seed"
         ],
         "textposition": "auto",
         "type": "bar",
         "x": [
          "Rewinery"
         ],
         "xaxis": "x",
         "y": [
          "Seed"
         ],
         "yaxis": "y"
        },
        {
         "alignmentgroup": "True",
         "hovertemplate": "Name=%{x}<br>Funding=%{text}<extra></extra>",
         "legendgroup": "Unwind Me",
         "marker": {
          "color": "#FF97FF",
          "pattern": {
           "shape": ""
          }
         },
         "name": "Unwind Me",
         "offsetgroup": "Unwind Me",
         "orientation": "v",
         "showlegend": true,
         "text": [
          "Seed"
         ],
         "textposition": "auto",
         "type": "bar",
         "x": [
          "Unwind Me"
         ],
         "xaxis": "x",
         "y": [
          "Seed"
         ],
         "yaxis": "y"
        },
        {
         "alignmentgroup": "True",
         "hovertemplate": "Name=%{x}<br>Funding=%{text}<extra></extra>",
         "legendgroup": "Vatler",
         "marker": {
          "color": "#FECB52",
          "pattern": {
           "shape": ""
          }
         },
         "name": "Vatler",
         "offsetgroup": "Vatler",
         "orientation": "v",
         "showlegend": true,
         "text": [
          "Seed"
         ],
         "textposition": "auto",
         "type": "bar",
         "x": [
          "Vatler"
         ],
         "xaxis": "x",
         "y": [
          "Seed"
         ],
         "yaxis": "y"
        },
        {
         "alignmentgroup": "True",
         "hovertemplate": "Name=%{x}<br>Funding=%{text}<extra></extra>",
         "legendgroup": "Washly",
         "marker": {
          "color": "#636efa",
          "pattern": {
           "shape": ""
          }
         },
         "name": "Washly",
         "offsetgroup": "Washly",
         "orientation": "v",
         "showlegend": true,
         "text": [
          "Seed"
         ],
         "textposition": "auto",
         "type": "bar",
         "x": [
          "Washly"
         ],
         "xaxis": "x",
         "y": [
          "Seed"
         ],
         "yaxis": "y"
        },
        {
         "alignmentgroup": "True",
         "hovertemplate": "Name=%{x}<br>Funding=%{text}<extra></extra>",
         "legendgroup": "Coaster",
         "marker": {
          "color": "#EF553B",
          "pattern": {
           "shape": ""
          }
         },
         "name": "Coaster",
         "offsetgroup": "Coaster",
         "orientation": "v",
         "showlegend": true,
         "text": [
          null
         ],
         "textposition": "auto",
         "type": "bar",
         "x": [
          "Coaster"
         ],
         "xaxis": "x",
         "y": [
          null
         ],
         "yaxis": "y"
        },
        {
         "alignmentgroup": "True",
         "hovertemplate": "Name=%{x}<br>Funding=%{text}<extra></extra>",
         "legendgroup": "DashLocker",
         "marker": {
          "color": "#00cc96",
          "pattern": {
           "shape": ""
          }
         },
         "name": "DashLocker",
         "offsetgroup": "DashLocker",
         "orientation": "v",
         "showlegend": true,
         "text": [
          null
         ],
         "textposition": "auto",
         "type": "bar",
         "x": [
          "DashLocker"
         ],
         "xaxis": "x",
         "y": [
          null
         ],
         "yaxis": "y"
        },
        {
         "alignmentgroup": "True",
         "hovertemplate": "Name=%{x}<br>Funding=%{text}<extra></extra>",
         "legendgroup": "dVisit",
         "marker": {
          "color": "#ab63fa",
          "pattern": {
           "shape": ""
          }
         },
         "name": "dVisit",
         "offsetgroup": "dVisit",
         "orientation": "v",
         "showlegend": true,
         "text": [
          null
         ],
         "textposition": "auto",
         "type": "bar",
         "x": [
          "dVisit"
         ],
         "xaxis": "x",
         "y": [
          null
         ],
         "yaxis": "y"
        },
        {
         "alignmentgroup": "True",
         "hovertemplate": "Name=%{x}<br>Funding=%{text}<extra></extra>",
         "legendgroup": "FloristNow",
         "marker": {
          "color": "#FFA15A",
          "pattern": {
           "shape": ""
          }
         },
         "name": "FloristNow",
         "offsetgroup": "FloristNow",
         "orientation": "v",
         "showlegend": true,
         "text": [
          null
         ],
         "textposition": "auto",
         "type": "bar",
         "x": [
          "FloristNow"
         ],
         "xaxis": "x",
         "y": [
          null
         ],
         "yaxis": "y"
        },
        {
         "alignmentgroup": "True",
         "hovertemplate": "Name=%{x}<br>Funding=%{text}<extra></extra>",
         "legendgroup": "FoodNow",
         "marker": {
          "color": "#19d3f3",
          "pattern": {
           "shape": ""
          }
         },
         "name": "FoodNow",
         "offsetgroup": "FoodNow",
         "orientation": "v",
         "showlegend": true,
         "text": [
          null
         ],
         "textposition": "auto",
         "type": "bar",
         "x": [
          "FoodNow"
         ],
         "xaxis": "x",
         "y": [
          null
         ],
         "yaxis": "y"
        },
        {
         "alignmentgroup": "True",
         "hovertemplate": "Name=%{x}<br>Funding=%{text}<extra></extra>",
         "legendgroup": "Handii",
         "marker": {
          "color": "#FF6692",
          "pattern": {
           "shape": ""
          }
         },
         "name": "Handii",
         "offsetgroup": "Handii",
         "orientation": "v",
         "showlegend": true,
         "text": [
          null
         ],
         "textposition": "auto",
         "type": "bar",
         "x": [
          "Handii"
         ],
         "xaxis": "x",
         "y": [
          null
         ],
         "yaxis": "y"
        },
        {
         "alignmentgroup": "True",
         "hovertemplate": "Name=%{x}<br>Funding=%{text}<extra></extra>",
         "legendgroup": "KallDoc",
         "marker": {
          "color": "#B6E880",
          "pattern": {
           "shape": ""
          }
         },
         "name": "KallDoc",
         "offsetgroup": "KallDoc",
         "orientation": "v",
         "showlegend": true,
         "text": [
          null
         ],
         "textposition": "auto",
         "type": "bar",
         "x": [
          "KallDoc"
         ],
         "xaxis": "x",
         "y": [
          null
         ],
         "yaxis": "y"
        },
        {
         "alignmentgroup": "True",
         "hovertemplate": "Name=%{x}<br>Funding=%{text}<extra></extra>",
         "legendgroup": "Nimbl",
         "marker": {
          "color": "#FF97FF",
          "pattern": {
           "shape": ""
          }
         },
         "name": "Nimbl",
         "offsetgroup": "Nimbl",
         "orientation": "v",
         "showlegend": true,
         "text": [
          null
         ],
         "textposition": "auto",
         "type": "bar",
         "x": [
          "Nimbl"
         ],
         "xaxis": "x",
         "y": [
          null
         ],
         "yaxis": "y"
        },
        {
         "alignmentgroup": "True",
         "hovertemplate": "Name=%{x}<br>Funding=%{text}<extra></extra>",
         "legendgroup": "Squeegy ",
         "marker": {
          "color": "#FECB52",
          "pattern": {
           "shape": ""
          }
         },
         "name": "Squeegy ",
         "offsetgroup": "Squeegy ",
         "orientation": "v",
         "showlegend": true,
         "text": [
          null
         ],
         "textposition": "auto",
         "type": "bar",
         "x": [
          "Squeegy "
         ],
         "xaxis": "x",
         "y": [
          null
         ],
         "yaxis": "y"
        },
        {
         "alignmentgroup": "True",
         "hovertemplate": "Name=%{x}<br>Funding=%{text}<extra></extra>",
         "legendgroup": "Worthee",
         "marker": {
          "color": "#636efa",
          "pattern": {
           "shape": ""
          }
         },
         "name": "Worthee",
         "offsetgroup": "Worthee",
         "orientation": "v",
         "showlegend": true,
         "text": [
          null
         ],
         "textposition": "auto",
         "type": "bar",
         "x": [
          "Worthee"
         ],
         "xaxis": "x",
         "y": [
          null
         ],
         "yaxis": "y"
        },
        {
         "alignmentgroup": "True",
         "hovertemplate": "Name=%{x}<br>Funding=%{text}<extra></extra>",
         "legendgroup": "Instacart",
         "marker": {
          "color": "#EF553B",
          "pattern": {
           "shape": ""
          }
         },
         "name": "Instacart",
         "offsetgroup": "Instacart",
         "orientation": "v",
         "showlegend": true,
         "text": [
          "$1,900,000,000"
         ],
         "textposition": "auto",
         "type": "bar",
         "x": [
          "Instacart"
         ],
         "xaxis": "x",
         "y": [
          "$1,900,000,000"
         ],
         "yaxis": "y"
        },
        {
         "alignmentgroup": "True",
         "hovertemplate": "Name=%{x}<br>Funding=%{text}<extra></extra>",
         "legendgroup": "DoorDash",
         "marker": {
          "color": "#00cc96",
          "pattern": {
           "shape": ""
          }
         },
         "name": "DoorDash",
         "offsetgroup": "DoorDash",
         "orientation": "v",
         "showlegend": true,
         "text": [
          "$1,400,000,000"
         ],
         "textposition": "auto",
         "type": "bar",
         "x": [
          "DoorDash"
         ],
         "xaxis": "x",
         "y": [
          "$1,400,000,000"
         ],
         "yaxis": "y"
        },
        {
         "alignmentgroup": "True",
         "hovertemplate": "Name=%{x}<br>Funding=%{text}<extra></extra>",
         "legendgroup": "Postmates",
         "marker": {
          "color": "#ab63fa",
          "pattern": {
           "shape": ""
          }
         },
         "name": "Postmates",
         "offsetgroup": "Postmates",
         "orientation": "v",
         "showlegend": true,
         "text": [
          "$678,000,000"
         ],
         "textposition": "auto",
         "type": "bar",
         "x": [
          "Postmates"
         ],
         "xaxis": "x",
         "y": [
          "$678,000,000"
         ],
         "yaxis": "y"
        },
        {
         "alignmentgroup": "True",
         "hovertemplate": "Name=%{x}<br>Funding=%{text}<extra></extra>",
         "legendgroup": "Wag",
         "marker": {
          "color": "#FFA15A",
          "pattern": {
           "shape": ""
          }
         },
         "name": "Wag",
         "offsetgroup": "Wag",
         "orientation": "v",
         "showlegend": true,
         "text": [
          "$361,500,000"
         ],
         "textposition": "auto",
         "type": "bar",
         "x": [
          "Wag"
         ],
         "xaxis": "x",
         "y": [
          "$361,500,000"
         ],
         "yaxis": "y"
        },
        {
         "alignmentgroup": "True",
         "hovertemplate": "Name=%{x}<br>Funding=%{text}<extra></extra>",
         "legendgroup": "Rover",
         "marker": {
          "color": "#19d3f3",
          "pattern": {
           "shape": ""
          }
         },
         "name": "Rover",
         "offsetgroup": "Rover",
         "orientation": "v",
         "showlegend": true,
         "text": [
          "$311,000,000"
         ],
         "textposition": "auto",
         "type": "bar",
         "x": [
          "Rover"
         ],
         "xaxis": "x",
         "y": [
          "$311,000,000"
         ],
         "yaxis": "y"
        },
        {
         "alignmentgroup": "True",
         "hovertemplate": "Name=%{x}<br>Funding=%{text}<extra></extra>",
         "legendgroup": "GrubHub",
         "marker": {
          "color": "#FF6692",
          "pattern": {
           "shape": ""
          }
         },
         "name": "GrubHub",
         "offsetgroup": "GrubHub",
         "orientation": "v",
         "showlegend": true,
         "text": [
          "$284,100,000"
         ],
         "textposition": "auto",
         "type": "bar",
         "x": [
          "GrubHub"
         ],
         "xaxis": "x",
         "y": [
          "$284,100,000"
         ],
         "yaxis": "y"
        },
        {
         "alignmentgroup": "True",
         "hovertemplate": "Name=%{x}<br>Funding=%{text}<extra></extra>",
         "legendgroup": "Boxed",
         "marker": {
          "color": "#B6E880",
          "pattern": {
           "shape": ""
          }
         },
         "name": "Boxed",
         "offsetgroup": "Boxed",
         "orientation": "v",
         "showlegend": true,
         "text": [
          "$243,600,000"
         ],
         "textposition": "auto",
         "type": "bar",
         "x": [
          "Boxed"
         ],
         "xaxis": "x",
         "y": [
          "$243,600,000"
         ],
         "yaxis": "y"
        },
        {
         "alignmentgroup": "True",
         "hovertemplate": "Name=%{x}<br>Funding=%{text}<extra></extra>",
         "legendgroup": "Blue Apron",
         "marker": {
          "color": "#FF97FF",
          "pattern": {
           "shape": ""
          }
         },
         "name": "Blue Apron",
         "offsetgroup": "Blue Apron",
         "orientation": "v",
         "showlegend": true,
         "text": [
          "$199,400,000"
         ],
         "textposition": "auto",
         "type": "bar",
         "x": [
          "Blue Apron"
         ],
         "xaxis": "x",
         "y": [
          "$199,400,000"
         ],
         "yaxis": "y"
        },
        {
         "alignmentgroup": "True",
         "hovertemplate": "Name=%{x}<br>Funding=%{text}<extra></extra>",
         "legendgroup": "Doctor on Demand",
         "marker": {
          "color": "#FECB52",
          "pattern": {
           "shape": ""
          }
         },
         "name": "Doctor on Demand",
         "offsetgroup": "Doctor on Demand",
         "orientation": "v",
         "showlegend": true,
         "text": [
          "$160,700,000"
         ],
         "textposition": "auto",
         "type": "bar",
         "x": [
          "Doctor on Demand"
         ],
         "xaxis": "x",
         "y": [
          "$160,700,000"
         ],
         "yaxis": "y"
        },
        {
         "alignmentgroup": "True",
         "hovertemplate": "Name=%{x}<br>Funding=%{text}<extra></extra>",
         "legendgroup": "Munchery",
         "marker": {
          "color": "#636efa",
          "pattern": {
           "shape": ""
          }
         },
         "name": "Munchery",
         "offsetgroup": "Munchery",
         "orientation": "v",
         "showlegend": true,
         "text": [
          "$125,400,000"
         ],
         "textposition": "auto",
         "type": "bar",
         "x": [
          "Munchery"
         ],
         "xaxis": "x",
         "y": [
          "$125,400,000"
         ],
         "yaxis": "y"
        },
        {
         "alignmentgroup": "True",
         "hovertemplate": "Name=%{x}<br>Funding=%{text}<extra></extra>",
         "legendgroup": "Eaze",
         "marker": {
          "color": "#EF553B",
          "pattern": {
           "shape": ""
          }
         },
         "name": "Eaze",
         "offsetgroup": "Eaze",
         "orientation": "v",
         "showlegend": true,
         "text": [
          "$117,000,000"
         ],
         "textposition": "auto",
         "type": "bar",
         "x": [
          "Eaze"
         ],
         "xaxis": "x",
         "y": [
          "$117,000,000"
         ],
         "yaxis": "y"
        },
        {
         "alignmentgroup": "True",
         "hovertemplate": "Name=%{x}<br>Funding=%{text}<extra></extra>",
         "legendgroup": "Handy",
         "marker": {
          "color": "#00cc96",
          "pattern": {
           "shape": ""
          }
         },
         "name": "Handy",
         "offsetgroup": "Handy",
         "orientation": "v",
         "showlegend": true,
         "text": [
          "$110,700,000"
         ],
         "textposition": "auto",
         "type": "bar",
         "x": [
          "Handy"
         ],
         "xaxis": "x",
         "y": [
          "$110,700,000"
         ],
         "yaxis": "y"
        },
        {
         "alignmentgroup": "True",
         "hovertemplate": "Name=%{x}<br>Funding=%{text}<extra></extra>",
         "legendgroup": "Enjoy",
         "marker": {
          "color": "#ab63fa",
          "pattern": {
           "shape": ""
          }
         },
         "name": "Enjoy",
         "offsetgroup": "Enjoy",
         "orientation": "v",
         "showlegend": true,
         "text": [
          "$80,000,000"
         ],
         "textposition": "auto",
         "type": "bar",
         "x": [
          "Enjoy"
         ],
         "xaxis": "x",
         "y": [
          "$80,000,000"
         ],
         "yaxis": "y"
        },
        {
         "alignmentgroup": "True",
         "hovertemplate": "Name=%{x}<br>Funding=%{text}<extra></extra>",
         "legendgroup": "Soothe",
         "marker": {
          "color": "#FFA15A",
          "pattern": {
           "shape": ""
          }
         },
         "name": "Soothe",
         "offsetgroup": "Soothe",
         "orientation": "v",
         "showlegend": true,
         "text": [
          "$78,300,000"
         ],
         "textposition": "auto",
         "type": "bar",
         "x": [
          "Soothe"
         ],
         "xaxis": "x",
         "y": [
          "$78,300,000"
         ],
         "yaxis": "y"
        },
        {
         "alignmentgroup": "True",
         "hovertemplate": "Name=%{x}<br>Funding=%{text}<extra></extra>",
         "legendgroup": "Heal",
         "marker": {
          "color": "#19d3f3",
          "pattern": {
           "shape": ""
          }
         },
         "name": "Heal",
         "offsetgroup": "Heal",
         "orientation": "v",
         "showlegend": true,
         "text": [
          "$71,000,000"
         ],
         "textposition": "auto",
         "type": "bar",
         "x": [
          "Heal"
         ],
         "xaxis": "x",
         "y": [
          "$71,000,000"
         ],
         "yaxis": "y"
        },
        {
         "alignmentgroup": "True",
         "hovertemplate": "Name=%{x}<br>Funding=%{text}<extra></extra>",
         "legendgroup": "Drizly",
         "marker": {
          "color": "#FF6692",
          "pattern": {
           "shape": ""
          }
         },
         "name": "Drizly",
         "offsetgroup": "Drizly",
         "orientation": "v",
         "showlegend": true,
         "text": [
          "$67,500,000"
         ],
         "textposition": "auto",
         "type": "bar",
         "x": [
          "Drizly"
         ],
         "xaxis": "x",
         "y": [
          "$67,500,000"
         ],
         "yaxis": "y"
        },
        {
         "alignmentgroup": "True",
         "hovertemplate": "Name=%{x}<br>Funding=%{text}<extra></extra>",
         "legendgroup": "HomeJoy",
         "marker": {
          "color": "#B6E880",
          "pattern": {
           "shape": ""
          }
         },
         "name": "HomeJoy",
         "offsetgroup": "HomeJoy",
         "orientation": "v",
         "showlegend": true,
         "text": [
          "$65,900,000"
         ],
         "textposition": "auto",
         "type": "bar",
         "x": [
          "HomeJoy"
         ],
         "xaxis": "x",
         "y": [
          "$65,900,000"
         ],
         "yaxis": "y"
        },
        {
         "alignmentgroup": "True",
         "hovertemplate": "Name=%{x}<br>Funding=%{text}<extra></extra>",
         "legendgroup": "Good Eggs",
         "marker": {
          "color": "#FF97FF",
          "pattern": {
           "shape": ""
          }
         },
         "name": "Good Eggs",
         "offsetgroup": "Good Eggs",
         "orientation": "v",
         "showlegend": true,
         "text": [
          "$65,000,000"
         ],
         "textposition": "auto",
         "type": "bar",
         "x": [
          "Good Eggs"
         ],
         "xaxis": "x",
         "y": [
          "$65,000,000"
         ],
         "yaxis": "y"
        },
        {
         "alignmentgroup": "True",
         "hovertemplate": "Name=%{x}<br>Funding=%{text}<extra></extra>",
         "legendgroup": "Victor",
         "marker": {
          "color": "#FECB52",
          "pattern": {
           "shape": ""
          }
         },
         "name": "Victor",
         "offsetgroup": "Victor",
         "orientation": "v",
         "showlegend": true,
         "text": [
          "$62,500,000"
         ],
         "textposition": "auto",
         "type": "bar",
         "x": [
          "Victor"
         ],
         "xaxis": "x",
         "y": [
          "$62,500,000"
         ],
         "yaxis": "y"
        },
        {
         "alignmentgroup": "True",
         "hovertemplate": "Name=%{x}<br>Funding=%{text}<extra></extra>",
         "legendgroup": "Shyp",
         "marker": {
          "color": "#636efa",
          "pattern": {
           "shape": ""
          }
         },
         "name": "Shyp",
         "offsetgroup": "Shyp",
         "orientation": "v",
         "showlegend": true,
         "text": [
          "$62,100,000"
         ],
         "textposition": "auto",
         "type": "bar",
         "x": [
          "Shyp"
         ],
         "xaxis": "x",
         "y": [
          "$62,100,000"
         ],
         "yaxis": "y"
        },
        {
         "alignmentgroup": "True",
         "hovertemplate": "Name=%{x}<br>Funding=%{text}<extra></extra>",
         "legendgroup": "BellHops",
         "marker": {
          "color": "#EF553B",
          "pattern": {
           "shape": ""
          }
         },
         "name": "BellHops",
         "offsetgroup": "BellHops",
         "orientation": "v",
         "showlegend": true,
         "text": [
          "$58,600,000"
         ],
         "textposition": "auto",
         "type": "bar",
         "x": [
          "BellHops"
         ],
         "xaxis": "x",
         "y": [
          "$58,600,000"
         ],
         "yaxis": "y"
        },
        {
         "alignmentgroup": "True",
         "hovertemplate": "Name=%{x}<br>Funding=%{text}<extra></extra>",
         "legendgroup": "Shiftgig",
         "marker": {
          "color": "#00cc96",
          "pattern": {
           "shape": ""
          }
         },
         "name": "Shiftgig",
         "offsetgroup": "Shiftgig",
         "orientation": "v",
         "showlegend": true,
         "text": [
          "$56,000,000"
         ],
         "textposition": "auto",
         "type": "bar",
         "x": [
          "Shiftgig"
         ],
         "xaxis": "x",
         "y": [
          "$56,000,000"
         ],
         "yaxis": "y"
        },
        {
         "alignmentgroup": "True",
         "hovertemplate": "Name=%{x}<br>Funding=%{text}<extra></extra>",
         "legendgroup": "Wonolo",
         "marker": {
          "color": "#ab63fa",
          "pattern": {
           "shape": ""
          }
         },
         "name": "Wonolo",
         "offsetgroup": "Wonolo",
         "orientation": "v",
         "showlegend": true,
         "text": [
          "$52,900,000"
         ],
         "textposition": "auto",
         "type": "bar",
         "x": [
          "Wonolo"
         ],
         "xaxis": "x",
         "y": [
          "$52,900,000"
         ],
         "yaxis": "y"
        },
        {
         "alignmentgroup": "True",
         "hovertemplate": "Name=%{x}<br>Funding=%{text}<extra></extra>",
         "legendgroup": "TaskRabbit",
         "marker": {
          "color": "#FFA15A",
          "pattern": {
           "shape": ""
          }
         },
         "name": "TaskRabbit",
         "offsetgroup": "TaskRabbit",
         "orientation": "v",
         "showlegend": true,
         "text": [
          "$50,000,000"
         ],
         "textposition": "auto",
         "type": "bar",
         "x": [
          "TaskRabbit"
         ],
         "xaxis": "x",
         "y": [
          "$50,000,000"
         ],
         "yaxis": "y"
        },
        {
         "alignmentgroup": "True",
         "hovertemplate": "Name=%{x}<br>Funding=%{text}<extra></extra>",
         "legendgroup": "Bouqs Company",
         "marker": {
          "color": "#19d3f3",
          "pattern": {
           "shape": ""
          }
         },
         "name": "Bouqs Company",
         "offsetgroup": "Bouqs Company",
         "orientation": "v",
         "showlegend": true,
         "text": [
          "$43,100,000"
         ],
         "textposition": "auto",
         "type": "bar",
         "x": [
          "Bouqs Company"
         ],
         "xaxis": "x",
         "y": [
          "$43,100,000"
         ],
         "yaxis": "y"
        },
        {
         "alignmentgroup": "True",
         "hovertemplate": "Name=%{x}<br>Funding=%{text}<extra></extra>",
         "legendgroup": "HelloTech",
         "marker": {
          "color": "#FF6692",
          "pattern": {
           "shape": ""
          }
         },
         "name": "HelloTech",
         "offsetgroup": "HelloTech",
         "orientation": "v",
         "showlegend": true,
         "text": [
          "$42,000,000"
         ],
         "textposition": "auto",
         "type": "bar",
         "x": [
          "HelloTech"
         ],
         "xaxis": "x",
         "y": [
          "$42,000,000"
         ],
         "yaxis": "y"
        },
        {
         "alignmentgroup": "True",
         "hovertemplate": "Name=%{x}<br>Funding=%{text}<extra></extra>",
         "legendgroup": "Nurx",
         "marker": {
          "color": "#B6E880",
          "pattern": {
           "shape": ""
          }
         },
         "name": "Nurx",
         "offsetgroup": "Nurx",
         "orientation": "v",
         "showlegend": true,
         "text": [
          "$41,400,000"
         ],
         "textposition": "auto",
         "type": "bar",
         "x": [
          "Nurx"
         ],
         "xaxis": "x",
         "y": [
          "$41,400,000"
         ],
         "yaxis": "y"
        },
        {
         "alignmentgroup": "True",
         "hovertemplate": "Name=%{x}<br>Funding=%{text}<extra></extra>",
         "legendgroup": "Chef'd",
         "marker": {
          "color": "#FF97FF",
          "pattern": {
           "shape": ""
          }
         },
         "name": "Chef'd",
         "offsetgroup": "Chef'd",
         "orientation": "v",
         "showlegend": true,
         "text": [
          "$40,500,000"
         ],
         "textposition": "auto",
         "type": "bar",
         "x": [
          "Chef'd"
         ],
         "xaxis": "x",
         "y": [
          "$40,500,000"
         ],
         "yaxis": "y"
        },
        {
         "alignmentgroup": "True",
         "hovertemplate": "Name=%{x}<br>Funding=%{text}<extra></extra>",
         "legendgroup": "Pager",
         "marker": {
          "color": "#FECB52",
          "pattern": {
           "shape": ""
          }
         },
         "name": "Pager",
         "offsetgroup": "Pager",
         "orientation": "v",
         "showlegend": true,
         "text": [
          "$40,000,000"
         ],
         "textposition": "auto",
         "type": "bar",
         "x": [
          "Pager"
         ],
         "xaxis": "x",
         "y": [
          "$40,000,000"
         ],
         "yaxis": "y"
        },
        {
         "alignmentgroup": "True",
         "hovertemplate": "Name=%{x}<br>Funding=%{text}<extra></extra>",
         "legendgroup": "Urgently",
         "marker": {
          "color": "#636efa",
          "pattern": {
           "shape": ""
          }
         },
         "name": "Urgently",
         "offsetgroup": "Urgently",
         "orientation": "v",
         "showlegend": true,
         "text": [
          "$39,600,000"
         ],
         "textposition": "auto",
         "type": "bar",
         "x": [
          "Urgently"
         ],
         "xaxis": "x",
         "y": [
          "$39,600,000"
         ],
         "yaxis": "y"
        },
        {
         "alignmentgroup": "True",
         "hovertemplate": "Name=%{x}<br>Funding=%{text}<extra></extra>",
         "legendgroup": "YourMechanic",
         "marker": {
          "color": "#EF553B",
          "pattern": {
           "shape": ""
          }
         },
         "name": "YourMechanic",
         "offsetgroup": "YourMechanic",
         "orientation": "v",
         "showlegend": true,
         "text": [
          "$38,500,000"
         ],
         "textposition": "auto",
         "type": "bar",
         "x": [
          "YourMechanic"
         ],
         "xaxis": "x",
         "y": [
          "$38,500,000"
         ],
         "yaxis": "y"
        },
        {
         "alignmentgroup": "True",
         "hovertemplate": "Name=%{x}<br>Funding=%{text}<extra></extra>",
         "legendgroup": "Honk",
         "marker": {
          "color": "#00cc96",
          "pattern": {
           "shape": ""
          }
         },
         "name": "Honk",
         "offsetgroup": "Honk",
         "orientation": "v",
         "showlegend": true,
         "text": [
          "$31,800,000"
         ],
         "textposition": "auto",
         "type": "bar",
         "x": [
          "Honk"
         ],
         "xaxis": "x",
         "y": [
          "$31,800,000"
         ],
         "yaxis": "y"
        },
        {
         "alignmentgroup": "True",
         "hovertemplate": "Name=%{x}<br>Funding=%{text}<extra></extra>",
         "legendgroup": "Maple",
         "marker": {
          "color": "#ab63fa",
          "pattern": {
           "shape": ""
          }
         },
         "name": "Maple",
         "offsetgroup": "Maple",
         "orientation": "v",
         "showlegend": true,
         "text": [
          "$29,000,000"
         ],
         "textposition": "auto",
         "type": "bar",
         "x": [
          "Maple"
         ],
         "xaxis": "x",
         "y": [
          "$29,000,000"
         ],
         "yaxis": "y"
        },
        {
         "alignmentgroup": "True",
         "hovertemplate": "Name=%{x}<br>Funding=%{text}<extra></extra>",
         "legendgroup": "Upcounsel",
         "marker": {
          "color": "#FFA15A",
          "pattern": {
           "shape": ""
          }
         },
         "name": "Upcounsel",
         "offsetgroup": "Upcounsel",
         "orientation": "v",
         "showlegend": true,
         "text": [
          "$26,000,000"
         ],
         "textposition": "auto",
         "type": "bar",
         "x": [
          "Upcounsel"
         ],
         "xaxis": "x",
         "y": [
          "$26,000,000"
         ],
         "yaxis": "y"
        },
        {
         "alignmentgroup": "True",
         "hovertemplate": "Name=%{x}<br>Funding=%{text}<extra></extra>",
         "legendgroup": "Operator",
         "marker": {
          "color": "#19d3f3",
          "pattern": {
           "shape": ""
          }
         },
         "name": "Operator",
         "offsetgroup": "Operator",
         "orientation": "v",
         "showlegend": true,
         "text": [
          "$25,000,000"
         ],
         "textposition": "auto",
         "type": "bar",
         "x": [
          "Operator"
         ],
         "xaxis": "x",
         "y": [
          "$25,000,000"
         ],
         "yaxis": "y"
        },
        {
         "alignmentgroup": "True",
         "hovertemplate": "Name=%{x}<br>Funding=%{text}<extra></extra>",
         "legendgroup": "Rinse",
         "marker": {
          "color": "#FF6692",
          "pattern": {
           "shape": ""
          }
         },
         "name": "Rinse",
         "offsetgroup": "Rinse",
         "orientation": "v",
         "showlegend": true,
         "text": [
          "$25,000,000"
         ],
         "textposition": "auto",
         "type": "bar",
         "x": [
          "Rinse"
         ],
         "xaxis": "x",
         "y": [
          "$25,000,000"
         ],
         "yaxis": "y"
        },
        {
         "alignmentgroup": "True",
         "hovertemplate": "Name=%{x}<br>Funding=%{text}<extra></extra>",
         "legendgroup": "HouseCall",
         "marker": {
          "color": "#B6E880",
          "pattern": {
           "shape": ""
          }
         },
         "name": "HouseCall",
         "offsetgroup": "HouseCall",
         "orientation": "v",
         "showlegend": true,
         "text": [
          "$20,000,000"
         ],
         "textposition": "auto",
         "type": "bar",
         "x": [
          "HouseCall"
         ],
         "xaxis": "x",
         "y": [
          "$20,000,000"
         ],
         "yaxis": "y"
        },
        {
         "alignmentgroup": "True",
         "hovertemplate": "Name=%{x}<br>Funding=%{text}<extra></extra>",
         "legendgroup": "Spiffy",
         "marker": {
          "color": "#FF97FF",
          "pattern": {
           "shape": ""
          }
         },
         "name": "Spiffy",
         "offsetgroup": "Spiffy",
         "orientation": "v",
         "showlegend": true,
         "text": [
          "$18,100,000"
         ],
         "textposition": "auto",
         "type": "bar",
         "x": [
          "Spiffy"
         ],
         "xaxis": "x",
         "y": [
          "$18,100,000"
         ],
         "yaxis": "y"
        },
        {
         "alignmentgroup": "True",
         "hovertemplate": "Name=%{x}<br>Funding=%{text}<extra></extra>",
         "legendgroup": "Wrench",
         "marker": {
          "color": "#FECB52",
          "pattern": {
           "shape": ""
          }
         },
         "name": "Wrench",
         "offsetgroup": "Wrench",
         "orientation": "v",
         "showlegend": true,
         "text": [
          "$17,200,000"
         ],
         "textposition": "auto",
         "type": "bar",
         "x": [
          "Wrench"
         ],
         "xaxis": "x",
         "y": [
          "$17,200,000"
         ],
         "yaxis": "y"
        },
        {
         "alignmentgroup": "True",
         "hovertemplate": "Name=%{x}<br>Funding=%{text}<extra></extra>",
         "legendgroup": "Washio",
         "marker": {
          "color": "#636efa",
          "pattern": {
           "shape": ""
          }
         },
         "name": "Washio",
         "offsetgroup": "Washio",
         "orientation": "v",
         "showlegend": true,
         "text": [
          "$16,800,000"
         ],
         "textposition": "auto",
         "type": "bar",
         "x": [
          "Washio"
         ],
         "xaxis": "x",
         "y": [
          "$16,800,000"
         ],
         "yaxis": "y"
        },
        {
         "alignmentgroup": "True",
         "hovertemplate": "Name=%{x}<br>Funding=%{text}<extra></extra>",
         "legendgroup": "Workpop",
         "marker": {
          "color": "#EF553B",
          "pattern": {
           "shape": ""
          }
         },
         "name": "Workpop",
         "offsetgroup": "Workpop",
         "orientation": "v",
         "showlegend": true,
         "text": [
          "$16,100,000"
         ],
         "textposition": "auto",
         "type": "bar",
         "x": [
          "Workpop"
         ],
         "xaxis": "x",
         "y": [
          "$16,100,000"
         ],
         "yaxis": "y"
        },
        {
         "alignmentgroup": "True",
         "hovertemplate": "Name=%{x}<br>Funding=%{text}<extra></extra>",
         "legendgroup": "Urban",
         "marker": {
          "color": "#00cc96",
          "pattern": {
           "shape": ""
          }
         },
         "name": "Urban",
         "offsetgroup": "Urban",
         "orientation": "v",
         "showlegend": true,
         "text": [
          "$15,400,000"
         ],
         "textposition": "auto",
         "type": "bar",
         "x": [
          "Urban"
         ],
         "xaxis": "x",
         "y": [
          "$15,400,000"
         ],
         "yaxis": "y"
        },
        {
         "alignmentgroup": "True",
         "hovertemplate": "Name=%{x}<br>Funding=%{text}<extra></extra>",
         "legendgroup": "FitMob",
         "marker": {
          "color": "#ab63fa",
          "pattern": {
           "shape": ""
          }
         },
         "name": "FitMob",
         "offsetgroup": "FitMob",
         "orientation": "v",
         "showlegend": true,
         "text": [
          "$14,750,000"
         ],
         "textposition": "auto",
         "type": "bar",
         "x": [
          "FitMob"
         ],
         "xaxis": "x",
         "y": [
          "$14,750,000"
         ],
         "yaxis": "y"
        },
        {
         "alignmentgroup": "True",
         "hovertemplate": "Name=%{x}<br>Funding=%{text}<extra></extra>",
         "legendgroup": "Spoonrocket",
         "marker": {
          "color": "#FFA15A",
          "pattern": {
           "shape": ""
          }
         },
         "name": "Spoonrocket",
         "offsetgroup": "Spoonrocket",
         "orientation": "v",
         "showlegend": true,
         "text": [
          "$13,500,000"
         ],
         "textposition": "auto",
         "type": "bar",
         "x": [
          "Spoonrocket"
         ],
         "xaxis": "x",
         "y": [
          "$13,500,000"
         ],
         "yaxis": "y"
        },
        {
         "alignmentgroup": "True",
         "hovertemplate": "Name=%{x}<br>Funding=%{text}<extra></extra>",
         "legendgroup": "Zeel",
         "marker": {
          "color": "#19d3f3",
          "pattern": {
           "shape": ""
          }
         },
         "name": "Zeel",
         "offsetgroup": "Zeel",
         "orientation": "v",
         "showlegend": true,
         "text": [
          "$13,200,000"
         ],
         "textposition": "auto",
         "type": "bar",
         "x": [
          "Zeel"
         ],
         "xaxis": "x",
         "y": [
          "$13,200,000"
         ],
         "yaxis": "y"
        },
        {
         "alignmentgroup": "True",
         "hovertemplate": "Name=%{x}<br>Funding=%{text}<extra></extra>",
         "legendgroup": "Saucey",
         "marker": {
          "color": "#FF6692",
          "pattern": {
           "shape": ""
          }
         },
         "name": "Saucey",
         "offsetgroup": "Saucey",
         "orientation": "v",
         "showlegend": true,
         "text": [
          "$10,200,000"
         ],
         "textposition": "auto",
         "type": "bar",
         "x": [
          "Saucey"
         ],
         "xaxis": "x",
         "y": [
          "$10,200,000"
         ],
         "yaxis": "y"
        },
        {
         "alignmentgroup": "True",
         "hovertemplate": "Name=%{x}<br>Funding=%{text}<extra></extra>",
         "legendgroup": "Waitr",
         "marker": {
          "color": "#B6E880",
          "pattern": {
           "shape": ""
          }
         },
         "name": "Waitr",
         "offsetgroup": "Waitr",
         "orientation": "v",
         "showlegend": true,
         "text": [
          "$10,000,000"
         ],
         "textposition": "auto",
         "type": "bar",
         "x": [
          "Waitr"
         ],
         "xaxis": "x",
         "y": [
          "$10,000,000"
         ],
         "yaxis": "y"
        },
        {
         "alignmentgroup": "True",
         "hovertemplate": "Name=%{x}<br>Funding=%{text}<extra></extra>",
         "legendgroup": "Dolly",
         "marker": {
          "color": "#FF97FF",
          "pattern": {
           "shape": ""
          }
         },
         "name": "Dolly",
         "offsetgroup": "Dolly",
         "orientation": "v",
         "showlegend": true,
         "text": [
          "$9,700,000"
         ],
         "textposition": "auto",
         "type": "bar",
         "x": [
          "Dolly"
         ],
         "xaxis": "x",
         "y": [
          "$9,700,000"
         ],
         "yaxis": "y"
        },
        {
         "alignmentgroup": "True",
         "hovertemplate": "Name=%{x}<br>Funding=%{text}<extra></extra>",
         "legendgroup": "GoPuff",
         "marker": {
          "color": "#FECB52",
          "pattern": {
           "shape": ""
          }
         },
         "name": "GoPuff",
         "offsetgroup": "GoPuff",
         "orientation": "v",
         "showlegend": true,
         "text": [
          "$8,300,000"
         ],
         "textposition": "auto",
         "type": "bar",
         "x": [
          "GoPuff"
         ],
         "xaxis": "x",
         "y": [
          "$8,300,000"
         ],
         "yaxis": "y"
        },
        {
         "alignmentgroup": "True",
         "hovertemplate": "Name=%{x}<br>Funding=%{text}<extra></extra>",
         "legendgroup": "FoxTrot",
         "marker": {
          "color": "#636efa",
          "pattern": {
           "shape": ""
          }
         },
         "name": "FoxTrot",
         "offsetgroup": "FoxTrot",
         "orientation": "v",
         "showlegend": true,
         "text": [
          "$7,800,000"
         ],
         "textposition": "auto",
         "type": "bar",
         "x": [
          "FoxTrot"
         ],
         "xaxis": "x",
         "y": [
          "$7,800,000"
         ],
         "yaxis": "y"
        },
        {
         "alignmentgroup": "True",
         "hovertemplate": "Name=%{x}<br>Funding=%{text}<extra></extra>",
         "legendgroup": "BloomThat",
         "marker": {
          "color": "#EF553B",
          "pattern": {
           "shape": ""
          }
         },
         "name": "BloomThat",
         "offsetgroup": "BloomThat",
         "orientation": "v",
         "showlegend": true,
         "text": [
          "$7,700,000"
         ],
         "textposition": "auto",
         "type": "bar",
         "x": [
          "BloomThat"
         ],
         "xaxis": "x",
         "y": [
          "$7,700,000"
         ],
         "yaxis": "y"
        },
        {
         "alignmentgroup": "True",
         "hovertemplate": "Name=%{x}<br>Funding=%{text}<extra></extra>",
         "legendgroup": "Tablelist",
         "marker": {
          "color": "#00cc96",
          "pattern": {
           "shape": ""
          }
         },
         "name": "Tablelist",
         "offsetgroup": "Tablelist",
         "orientation": "v",
         "showlegend": true,
         "text": [
          "$7,400,000"
         ],
         "textposition": "auto",
         "type": "bar",
         "x": [
          "Tablelist"
         ],
         "xaxis": "x",
         "y": [
          "$7,400,000"
         ],
         "yaxis": "y"
        },
        {
         "alignmentgroup": "True",
         "hovertemplate": "Name=%{x}<br>Funding=%{text}<extra></extra>",
         "legendgroup": "Cleanly",
         "marker": {
          "color": "#ab63fa",
          "pattern": {
           "shape": ""
          }
         },
         "name": "Cleanly",
         "offsetgroup": "Cleanly",
         "orientation": "v",
         "showlegend": true,
         "text": [
          "$7,300,000"
         ],
         "textposition": "auto",
         "type": "bar",
         "x": [
          "Cleanly"
         ],
         "xaxis": "x",
         "y": [
          "$7,300,000"
         ],
         "yaxis": "y"
        },
        {
         "alignmentgroup": "True",
         "hovertemplate": "Name=%{x}<br>Funding=%{text}<extra></extra>",
         "legendgroup": "Plowz and Mowz",
         "marker": {
          "color": "#FFA15A",
          "pattern": {
           "shape": ""
          }
         },
         "name": "Plowz and Mowz",
         "offsetgroup": "Plowz and Mowz",
         "orientation": "v",
         "showlegend": true,
         "text": [
          "$7,000,000"
         ],
         "textposition": "auto",
         "type": "bar",
         "x": [
          "Plowz and Mowz"
         ],
         "xaxis": "x",
         "y": [
          "$7,000,000"
         ],
         "yaxis": "y"
        },
        {
         "alignmentgroup": "True",
         "hovertemplate": "Name=%{x}<br>Funding=%{text}<extra></extra>",
         "legendgroup": "Minibar",
         "marker": {
          "color": "#19d3f3",
          "pattern": {
           "shape": ""
          }
         },
         "name": "Minibar",
         "offsetgroup": "Minibar",
         "orientation": "v",
         "showlegend": true,
         "text": [
          "$6,800,000"
         ],
         "textposition": "auto",
         "type": "bar",
         "x": [
          "Minibar"
         ],
         "xaxis": "x",
         "y": [
          "$6,800,000"
         ],
         "yaxis": "y"
        },
        {
         "alignmentgroup": "True",
         "hovertemplate": "Name=%{x}<br>Funding=%{text}<extra></extra>",
         "legendgroup": "Curbstand",
         "marker": {
          "color": "#FF6692",
          "pattern": {
           "shape": ""
          }
         },
         "name": "Curbstand",
         "offsetgroup": "Curbstand",
         "orientation": "v",
         "showlegend": true,
         "text": [
          "$6,500,000"
         ],
         "textposition": "auto",
         "type": "bar",
         "x": [
          "Curbstand"
         ],
         "xaxis": "x",
         "y": [
          "$6,500,000"
         ],
         "yaxis": "y"
        },
        {
         "alignmentgroup": "True",
         "hovertemplate": "Name=%{x}<br>Funding=%{text}<extra></extra>",
         "legendgroup": "Cherry",
         "marker": {
          "color": "#B6E880",
          "pattern": {
           "shape": ""
          }
         },
         "name": "Cherry",
         "offsetgroup": "Cherry",
         "orientation": "v",
         "showlegend": true,
         "text": [
          "$5,250,000"
         ],
         "textposition": "auto",
         "type": "bar",
         "x": [
          "Cherry"
         ],
         "xaxis": "x",
         "y": [
          "$5,250,000"
         ],
         "yaxis": "y"
        },
        {
         "alignmentgroup": "True",
         "hovertemplate": "Name=%{x}<br>Funding=%{text}<extra></extra>",
         "legendgroup": "Jitjajo",
         "marker": {
          "color": "#FF97FF",
          "pattern": {
           "shape": ""
          }
         },
         "name": "Jitjajo",
         "offsetgroup": "Jitjajo",
         "orientation": "v",
         "showlegend": true,
         "text": [
          "$5,000,000"
         ],
         "textposition": "auto",
         "type": "bar",
         "x": [
          "Jitjajo"
         ],
         "xaxis": "x",
         "y": [
          "$5,000,000"
         ],
         "yaxis": "y"
        },
        {
         "alignmentgroup": "True",
         "hovertemplate": "Name=%{x}<br>Funding=%{text}<extra></extra>",
         "legendgroup": "Manicube",
         "marker": {
          "color": "#FECB52",
          "pattern": {
           "shape": ""
          }
         },
         "name": "Manicube",
         "offsetgroup": "Manicube",
         "orientation": "v",
         "showlegend": true,
         "text": [
          "$5,000,000"
         ],
         "textposition": "auto",
         "type": "bar",
         "x": [
          "Manicube"
         ],
         "xaxis": "x",
         "y": [
          "$5,000,000"
         ],
         "yaxis": "y"
        },
        {
         "alignmentgroup": "True",
         "hovertemplate": "Name=%{x}<br>Funding=%{text}<extra></extra>",
         "legendgroup": "LoungeBuddy",
         "marker": {
          "color": "#636efa",
          "pattern": {
           "shape": ""
          }
         },
         "name": "LoungeBuddy",
         "offsetgroup": "LoungeBuddy",
         "orientation": "v",
         "showlegend": true,
         "text": [
          "$4,000,000"
         ],
         "textposition": "auto",
         "type": "bar",
         "x": [
          "LoungeBuddy"
         ],
         "xaxis": "x",
         "y": [
          "$4,000,000"
         ],
         "yaxis": "y"
        },
        {
         "alignmentgroup": "True",
         "hovertemplate": "Name=%{x}<br>Funding=%{text}<extra></extra>",
         "legendgroup": "Swipecast",
         "marker": {
          "color": "#EF553B",
          "pattern": {
           "shape": ""
          }
         },
         "name": "Swipecast",
         "offsetgroup": "Swipecast",
         "orientation": "v",
         "showlegend": true,
         "text": [
          "$4,000,000"
         ],
         "textposition": "auto",
         "type": "bar",
         "x": [
          "Swipecast"
         ],
         "xaxis": "x",
         "y": [
          "$4,000,000"
         ],
         "yaxis": "y"
        },
        {
         "alignmentgroup": "True",
         "hovertemplate": "Name=%{x}<br>Funding=%{text}<extra></extra>",
         "legendgroup": "Thirstie",
         "marker": {
          "color": "#00cc96",
          "pattern": {
           "shape": ""
          }
         },
         "name": "Thirstie",
         "offsetgroup": "Thirstie",
         "orientation": "v",
         "showlegend": true,
         "text": [
          "$4,000,000"
         ],
         "textposition": "auto",
         "type": "bar",
         "x": [
          "Thirstie"
         ],
         "xaxis": "x",
         "y": [
          "$4,000,000"
         ],
         "yaxis": "y"
        },
        {
         "alignmentgroup": "True",
         "hovertemplate": "Name=%{x}<br>Funding=%{text}<extra></extra>",
         "legendgroup": "Lugg",
         "marker": {
          "color": "#ab63fa",
          "pattern": {
           "shape": ""
          }
         },
         "name": "Lugg",
         "offsetgroup": "Lugg",
         "orientation": "v",
         "showlegend": true,
         "text": [
          "$3,900,000"
         ],
         "textposition": "auto",
         "type": "bar",
         "x": [
          "Lugg"
         ],
         "xaxis": "x",
         "y": [
          "$3,900,000"
         ],
         "yaxis": "y"
        },
        {
         "alignmentgroup": "True",
         "hovertemplate": "Name=%{x}<br>Funding=%{text}<extra></extra>",
         "legendgroup": "Exec",
         "marker": {
          "color": "#FFA15A",
          "pattern": {
           "shape": ""
          }
         },
         "name": "Exec",
         "offsetgroup": "Exec",
         "orientation": "v",
         "showlegend": true,
         "text": [
          "$3,300,000"
         ],
         "textposition": "auto",
         "type": "bar",
         "x": [
          "Exec"
         ],
         "xaxis": "x",
         "y": [
          "$3,300,000"
         ],
         "yaxis": "y"
        },
        {
         "alignmentgroup": "True",
         "hovertemplate": "Name=%{x}<br>Funding=%{text}<extra></extra>",
         "legendgroup": "Vetted",
         "marker": {
          "color": "#19d3f3",
          "pattern": {
           "shape": ""
          }
         },
         "name": "Vetted",
         "offsetgroup": "Vetted",
         "orientation": "v",
         "showlegend": true,
         "text": [
          "$3,300,000"
         ],
         "textposition": "auto",
         "type": "bar",
         "x": [
          "Vetted"
         ],
         "xaxis": "x",
         "y": [
          "$3,300,000"
         ],
         "yaxis": "y"
        },
        {
         "alignmentgroup": "True",
         "hovertemplate": "Name=%{x}<br>Funding=%{text}<extra></extra>",
         "legendgroup": "BlackJet",
         "marker": {
          "color": "#FF6692",
          "pattern": {
           "shape": ""
          }
         },
         "name": "BlackJet",
         "offsetgroup": "BlackJet",
         "orientation": "v",
         "showlegend": true,
         "text": [
          "$3,100,000"
         ],
         "textposition": "auto",
         "type": "bar",
         "x": [
          "BlackJet"
         ],
         "xaxis": "x",
         "y": [
          "$3,100,000"
         ],
         "yaxis": "y"
        },
        {
         "alignmentgroup": "True",
         "hovertemplate": "Name=%{x}<br>Funding=%{text}<extra></extra>",
         "legendgroup": "Swifto",
         "marker": {
          "color": "#B6E880",
          "pattern": {
           "shape": ""
          }
         },
         "name": "Swifto",
         "offsetgroup": "Swifto",
         "orientation": "v",
         "showlegend": true,
         "text": [
          "$2,500,000"
         ],
         "textposition": "auto",
         "type": "bar",
         "x": [
          "Swifto"
         ],
         "xaxis": "x",
         "y": [
          "$2,500,000"
         ],
         "yaxis": "y"
        },
        {
         "alignmentgroup": "True",
         "hovertemplate": "Name=%{x}<br>Funding=%{text}<extra></extra>",
         "legendgroup": "Geekatoo",
         "marker": {
          "color": "#FF97FF",
          "pattern": {
           "shape": ""
          }
         },
         "name": "Geekatoo",
         "offsetgroup": "Geekatoo",
         "orientation": "v",
         "showlegend": true,
         "text": [
          "$2,200,000"
         ],
         "textposition": "auto",
         "type": "bar",
         "x": [
          "Geekatoo"
         ],
         "xaxis": "x",
         "y": [
          "$2,200,000"
         ],
         "yaxis": "y"
        },
        {
         "alignmentgroup": "True",
         "hovertemplate": "Name=%{x}<br>Funding=%{text}<extra></extra>",
         "legendgroup": "FlyCleaners",
         "marker": {
          "color": "#FECB52",
          "pattern": {
           "shape": ""
          }
         },
         "name": "FlyCleaners",
         "offsetgroup": "FlyCleaners",
         "orientation": "v",
         "showlegend": true,
         "text": [
          "$2,000,000"
         ],
         "textposition": "auto",
         "type": "bar",
         "x": [
          "FlyCleaners"
         ],
         "xaxis": "x",
         "y": [
          "$2,000,000"
         ],
         "yaxis": "y"
        },
        {
         "alignmentgroup": "True",
         "hovertemplate": "Name=%{x}<br>Funding=%{text}<extra></extra>",
         "legendgroup": "Lawn Love",
         "marker": {
          "color": "#636efa",
          "pattern": {
           "shape": ""
          }
         },
         "name": "Lawn Love",
         "offsetgroup": "Lawn Love",
         "orientation": "v",
         "showlegend": true,
         "text": [
          "$1,900,000"
         ],
         "textposition": "auto",
         "type": "bar",
         "x": [
          "Lawn Love"
         ],
         "xaxis": "x",
         "y": [
          "$1,900,000"
         ],
         "yaxis": "y"
        },
        {
         "alignmentgroup": "True",
         "hovertemplate": "Name=%{x}<br>Funding=%{text}<extra></extra>",
         "legendgroup": "Medicast",
         "marker": {
          "color": "#EF553B",
          "pattern": {
           "shape": ""
          }
         },
         "name": "Medicast",
         "offsetgroup": "Medicast",
         "orientation": "v",
         "showlegend": true,
         "text": [
          "$1,900,000"
         ],
         "textposition": "auto",
         "type": "bar",
         "x": [
          "Medicast"
         ],
         "xaxis": "x",
         "y": [
          "$1,900,000"
         ],
         "yaxis": "y"
        },
        {
         "alignmentgroup": "True",
         "hovertemplate": "Name=%{x}<br>Funding=%{text}<extra></extra>",
         "legendgroup": "RingaDoc",
         "marker": {
          "color": "#00cc96",
          "pattern": {
           "shape": ""
          }
         },
         "name": "RingaDoc",
         "offsetgroup": "RingaDoc",
         "orientation": "v",
         "showlegend": true,
         "text": [
          "$1,900,000"
         ],
         "textposition": "auto",
         "type": "bar",
         "x": [
          "RingaDoc"
         ],
         "xaxis": "x",
         "y": [
          "$1,900,000"
         ],
         "yaxis": "y"
        },
        {
         "alignmentgroup": "True",
         "hovertemplate": "Name=%{x}<br>Funding=%{text}<extra></extra>",
         "legendgroup": "Tutorspree",
         "marker": {
          "color": "#ab63fa",
          "pattern": {
           "shape": ""
          }
         },
         "name": "Tutorspree",
         "offsetgroup": "Tutorspree",
         "orientation": "v",
         "showlegend": true,
         "text": [
          "$1,800,000"
         ],
         "textposition": "auto",
         "type": "bar",
         "x": [
          "Tutorspree"
         ],
         "xaxis": "x",
         "y": [
          "$1,800,000"
         ],
         "yaxis": "y"
        },
        {
         "alignmentgroup": "True",
         "hovertemplate": "Name=%{x}<br>Funding=%{text}<extra></extra>",
         "legendgroup": "Changelane",
         "marker": {
          "color": "#FFA15A",
          "pattern": {
           "shape": ""
          }
         },
         "name": "Changelane",
         "offsetgroup": "Changelane",
         "orientation": "v",
         "showlegend": true,
         "text": [
          "$1,200,000"
         ],
         "textposition": "auto",
         "type": "bar",
         "x": [
          "Changelane"
         ],
         "xaxis": "x",
         "y": [
          "$1,200,000"
         ],
         "yaxis": "y"
        },
        {
         "alignmentgroup": "True",
         "hovertemplate": "Name=%{x}<br>Funding=%{text}<extra></extra>",
         "legendgroup": "Flinja",
         "marker": {
          "color": "#19d3f3",
          "pattern": {
           "shape": ""
          }
         },
         "name": "Flinja",
         "offsetgroup": "Flinja",
         "orientation": "v",
         "showlegend": true,
         "text": [
          "$1,200,000"
         ],
         "textposition": "auto",
         "type": "bar",
         "x": [
          "Flinja"
         ],
         "xaxis": "x",
         "y": [
          "$1,200,000"
         ],
         "yaxis": "y"
        },
        {
         "alignmentgroup": "True",
         "hovertemplate": "Name=%{x}<br>Funding=%{text}<extra></extra>",
         "legendgroup": "VetPronto",
         "marker": {
          "color": "#FF6692",
          "pattern": {
           "shape": ""
          }
         },
         "name": "VetPronto",
         "offsetgroup": "VetPronto",
         "orientation": "v",
         "showlegend": true,
         "text": [
          "$1,100,000"
         ],
         "textposition": "auto",
         "type": "bar",
         "x": [
          "VetPronto"
         ],
         "xaxis": "x",
         "y": [
          "$1,100,000"
         ],
         "yaxis": "y"
        },
        {
         "alignmentgroup": "True",
         "hovertemplate": "Name=%{x}<br>Funding=%{text}<extra></extra>",
         "legendgroup": "Doughbies",
         "marker": {
          "color": "#B6E880",
          "pattern": {
           "shape": ""
          }
         },
         "name": "Doughbies",
         "offsetgroup": "Doughbies",
         "orientation": "v",
         "showlegend": true,
         "text": [
          "$670,000"
         ],
         "textposition": "auto",
         "type": "bar",
         "x": [
          "Doughbies"
         ],
         "xaxis": "x",
         "y": [
          "$670,000"
         ],
         "yaxis": "y"
        },
        {
         "alignmentgroup": "True",
         "hovertemplate": "Name=%{x}<br>Funding=%{text}<extra></extra>",
         "legendgroup": "SixDoors",
         "marker": {
          "color": "#FF97FF",
          "pattern": {
           "shape": ""
          }
         },
         "name": "SixDoors",
         "offsetgroup": "SixDoors",
         "orientation": "v",
         "showlegend": true,
         "text": [
          "$650,000"
         ],
         "textposition": "auto",
         "type": "bar",
         "x": [
          "SixDoors"
         ],
         "xaxis": "x",
         "y": [
          "$650,000"
         ],
         "yaxis": "y"
        },
        {
         "alignmentgroup": "True",
         "hovertemplate": "Name=%{x}<br>Funding=%{text}<extra></extra>",
         "legendgroup": "JetMe",
         "marker": {
          "color": "#FECB52",
          "pattern": {
           "shape": ""
          }
         },
         "name": "JetMe",
         "offsetgroup": "JetMe",
         "orientation": "v",
         "showlegend": true,
         "text": [
          "$400,000"
         ],
         "textposition": "auto",
         "type": "bar",
         "x": [
          "JetMe"
         ],
         "xaxis": "x",
         "y": [
          "$400,000"
         ],
         "yaxis": "y"
        },
        {
         "alignmentgroup": "True",
         "hovertemplate": "Name=%{x}<br>Funding=%{text}<extra></extra>",
         "legendgroup": "BottlesTonight",
         "marker": {
          "color": "#636efa",
          "pattern": {
           "shape": ""
          }
         },
         "name": "BottlesTonight",
         "offsetgroup": "BottlesTonight",
         "orientation": "v",
         "showlegend": true,
         "text": [
          "$260,000"
         ],
         "textposition": "auto",
         "type": "bar",
         "x": [
          "BottlesTonight"
         ],
         "xaxis": "x",
         "y": [
          "$260,000"
         ],
         "yaxis": "y"
        },
        {
         "alignmentgroup": "True",
         "hovertemplate": "Name=%{x}<br>Funding=%{text}<extra></extra>",
         "legendgroup": "Shortcut",
         "marker": {
          "color": "#EF553B",
          "pattern": {
           "shape": ""
          }
         },
         "name": "Shortcut",
         "offsetgroup": "Shortcut",
         "orientation": "v",
         "showlegend": true,
         "text": [
          "$215,000"
         ],
         "textposition": "auto",
         "type": "bar",
         "x": [
          "Shortcut"
         ],
         "xaxis": "x",
         "y": [
          "$215,000"
         ],
         "yaxis": "y"
        },
        {
         "alignmentgroup": "True",
         "hovertemplate": "Name=%{x}<br>Funding=%{text}<extra></extra>",
         "legendgroup": "Laborocity",
         "marker": {
          "color": "#00cc96",
          "pattern": {
           "shape": ""
          }
         },
         "name": "Laborocity",
         "offsetgroup": "Laborocity",
         "orientation": "v",
         "showlegend": true,
         "text": [
          "$125,000"
         ],
         "textposition": "auto",
         "type": "bar",
         "x": [
          "Laborocity"
         ],
         "xaxis": "x",
         "y": [
          "$125,000"
         ],
         "yaxis": "y"
        },
        {
         "alignmentgroup": "True",
         "hovertemplate": "Name=%{x}<br>Funding=%{text}<extra></extra>",
         "legendgroup": "StyleBee",
         "marker": {
          "color": "#ab63fa",
          "pattern": {
           "shape": ""
          }
         },
         "name": "StyleBee",
         "offsetgroup": "StyleBee",
         "orientation": "v",
         "showlegend": true,
         "text": [
          "$120,000"
         ],
         "textposition": "auto",
         "type": "bar",
         "x": [
          "StyleBee"
         ],
         "xaxis": "x",
         "y": [
          "$120,000"
         ],
         "yaxis": "y"
        },
        {
         "alignmentgroup": "True",
         "hovertemplate": "Name=%{x}<br>Funding=%{text}<extra></extra>",
         "legendgroup": "Dinnr",
         "marker": {
          "color": "#FFA15A",
          "pattern": {
           "shape": ""
          }
         },
         "name": "Dinnr",
         "offsetgroup": "Dinnr",
         "orientation": "v",
         "showlegend": true,
         "text": [
          "$90,700"
         ],
         "textposition": "auto",
         "type": "bar",
         "x": [
          "Dinnr"
         ],
         "xaxis": "x",
         "y": [
          "$90,700"
         ],
         "yaxis": "y"
        }
       ],
       "layout": {
        "barmode": "relative",
        "legend": {
         "title": {
          "text": "Name"
         },
         "tracegroupgap": 0
        },
        "margin": {
         "t": 60
        },
        "template": {
         "data": {
          "bar": [
           {
            "error_x": {
             "color": "#2a3f5f"
            },
            "error_y": {
             "color": "#2a3f5f"
            },
            "marker": {
             "line": {
              "color": "#E5ECF6",
              "width": 0.5
             },
             "pattern": {
              "fillmode": "overlay",
              "size": 10,
              "solidity": 0.2
             }
            },
            "type": "bar"
           }
          ],
          "barpolar": [
           {
            "marker": {
             "line": {
              "color": "#E5ECF6",
              "width": 0.5
             },
             "pattern": {
              "fillmode": "overlay",
              "size": 10,
              "solidity": 0.2
             }
            },
            "type": "barpolar"
           }
          ],
          "carpet": [
           {
            "aaxis": {
             "endlinecolor": "#2a3f5f",
             "gridcolor": "white",
             "linecolor": "white",
             "minorgridcolor": "white",
             "startlinecolor": "#2a3f5f"
            },
            "baxis": {
             "endlinecolor": "#2a3f5f",
             "gridcolor": "white",
             "linecolor": "white",
             "minorgridcolor": "white",
             "startlinecolor": "#2a3f5f"
            },
            "type": "carpet"
           }
          ],
          "choropleth": [
           {
            "colorbar": {
             "outlinewidth": 0,
             "ticks": ""
            },
            "type": "choropleth"
           }
          ],
          "contour": [
           {
            "colorbar": {
             "outlinewidth": 0,
             "ticks": ""
            },
            "colorscale": [
             [
              0,
              "#0d0887"
             ],
             [
              0.1111111111111111,
              "#46039f"
             ],
             [
              0.2222222222222222,
              "#7201a8"
             ],
             [
              0.3333333333333333,
              "#9c179e"
             ],
             [
              0.4444444444444444,
              "#bd3786"
             ],
             [
              0.5555555555555556,
              "#d8576b"
             ],
             [
              0.6666666666666666,
              "#ed7953"
             ],
             [
              0.7777777777777778,
              "#fb9f3a"
             ],
             [
              0.8888888888888888,
              "#fdca26"
             ],
             [
              1,
              "#f0f921"
             ]
            ],
            "type": "contour"
           }
          ],
          "contourcarpet": [
           {
            "colorbar": {
             "outlinewidth": 0,
             "ticks": ""
            },
            "type": "contourcarpet"
           }
          ],
          "heatmap": [
           {
            "colorbar": {
             "outlinewidth": 0,
             "ticks": ""
            },
            "colorscale": [
             [
              0,
              "#0d0887"
             ],
             [
              0.1111111111111111,
              "#46039f"
             ],
             [
              0.2222222222222222,
              "#7201a8"
             ],
             [
              0.3333333333333333,
              "#9c179e"
             ],
             [
              0.4444444444444444,
              "#bd3786"
             ],
             [
              0.5555555555555556,
              "#d8576b"
             ],
             [
              0.6666666666666666,
              "#ed7953"
             ],
             [
              0.7777777777777778,
              "#fb9f3a"
             ],
             [
              0.8888888888888888,
              "#fdca26"
             ],
             [
              1,
              "#f0f921"
             ]
            ],
            "type": "heatmap"
           }
          ],
          "heatmapgl": [
           {
            "colorbar": {
             "outlinewidth": 0,
             "ticks": ""
            },
            "colorscale": [
             [
              0,
              "#0d0887"
             ],
             [
              0.1111111111111111,
              "#46039f"
             ],
             [
              0.2222222222222222,
              "#7201a8"
             ],
             [
              0.3333333333333333,
              "#9c179e"
             ],
             [
              0.4444444444444444,
              "#bd3786"
             ],
             [
              0.5555555555555556,
              "#d8576b"
             ],
             [
              0.6666666666666666,
              "#ed7953"
             ],
             [
              0.7777777777777778,
              "#fb9f3a"
             ],
             [
              0.8888888888888888,
              "#fdca26"
             ],
             [
              1,
              "#f0f921"
             ]
            ],
            "type": "heatmapgl"
           }
          ],
          "histogram": [
           {
            "marker": {
             "pattern": {
              "fillmode": "overlay",
              "size": 10,
              "solidity": 0.2
             }
            },
            "type": "histogram"
           }
          ],
          "histogram2d": [
           {
            "colorbar": {
             "outlinewidth": 0,
             "ticks": ""
            },
            "colorscale": [
             [
              0,
              "#0d0887"
             ],
             [
              0.1111111111111111,
              "#46039f"
             ],
             [
              0.2222222222222222,
              "#7201a8"
             ],
             [
              0.3333333333333333,
              "#9c179e"
             ],
             [
              0.4444444444444444,
              "#bd3786"
             ],
             [
              0.5555555555555556,
              "#d8576b"
             ],
             [
              0.6666666666666666,
              "#ed7953"
             ],
             [
              0.7777777777777778,
              "#fb9f3a"
             ],
             [
              0.8888888888888888,
              "#fdca26"
             ],
             [
              1,
              "#f0f921"
             ]
            ],
            "type": "histogram2d"
           }
          ],
          "histogram2dcontour": [
           {
            "colorbar": {
             "outlinewidth": 0,
             "ticks": ""
            },
            "colorscale": [
             [
              0,
              "#0d0887"
             ],
             [
              0.1111111111111111,
              "#46039f"
             ],
             [
              0.2222222222222222,
              "#7201a8"
             ],
             [
              0.3333333333333333,
              "#9c179e"
             ],
             [
              0.4444444444444444,
              "#bd3786"
             ],
             [
              0.5555555555555556,
              "#d8576b"
             ],
             [
              0.6666666666666666,
              "#ed7953"
             ],
             [
              0.7777777777777778,
              "#fb9f3a"
             ],
             [
              0.8888888888888888,
              "#fdca26"
             ],
             [
              1,
              "#f0f921"
             ]
            ],
            "type": "histogram2dcontour"
           }
          ],
          "mesh3d": [
           {
            "colorbar": {
             "outlinewidth": 0,
             "ticks": ""
            },
            "type": "mesh3d"
           }
          ],
          "parcoords": [
           {
            "line": {
             "colorbar": {
              "outlinewidth": 0,
              "ticks": ""
             }
            },
            "type": "parcoords"
           }
          ],
          "pie": [
           {
            "automargin": true,
            "type": "pie"
           }
          ],
          "scatter": [
           {
            "marker": {
             "colorbar": {
              "outlinewidth": 0,
              "ticks": ""
             }
            },
            "type": "scatter"
           }
          ],
          "scatter3d": [
           {
            "line": {
             "colorbar": {
              "outlinewidth": 0,
              "ticks": ""
             }
            },
            "marker": {
             "colorbar": {
              "outlinewidth": 0,
              "ticks": ""
             }
            },
            "type": "scatter3d"
           }
          ],
          "scattercarpet": [
           {
            "marker": {
             "colorbar": {
              "outlinewidth": 0,
              "ticks": ""
             }
            },
            "type": "scattercarpet"
           }
          ],
          "scattergeo": [
           {
            "marker": {
             "colorbar": {
              "outlinewidth": 0,
              "ticks": ""
             }
            },
            "type": "scattergeo"
           }
          ],
          "scattergl": [
           {
            "marker": {
             "colorbar": {
              "outlinewidth": 0,
              "ticks": ""
             }
            },
            "type": "scattergl"
           }
          ],
          "scattermapbox": [
           {
            "marker": {
             "colorbar": {
              "outlinewidth": 0,
              "ticks": ""
             }
            },
            "type": "scattermapbox"
           }
          ],
          "scatterpolar": [
           {
            "marker": {
             "colorbar": {
              "outlinewidth": 0,
              "ticks": ""
             }
            },
            "type": "scatterpolar"
           }
          ],
          "scatterpolargl": [
           {
            "marker": {
             "colorbar": {
              "outlinewidth": 0,
              "ticks": ""
             }
            },
            "type": "scatterpolargl"
           }
          ],
          "scatterternary": [
           {
            "marker": {
             "colorbar": {
              "outlinewidth": 0,
              "ticks": ""
             }
            },
            "type": "scatterternary"
           }
          ],
          "surface": [
           {
            "colorbar": {
             "outlinewidth": 0,
             "ticks": ""
            },
            "colorscale": [
             [
              0,
              "#0d0887"
             ],
             [
              0.1111111111111111,
              "#46039f"
             ],
             [
              0.2222222222222222,
              "#7201a8"
             ],
             [
              0.3333333333333333,
              "#9c179e"
             ],
             [
              0.4444444444444444,
              "#bd3786"
             ],
             [
              0.5555555555555556,
              "#d8576b"
             ],
             [
              0.6666666666666666,
              "#ed7953"
             ],
             [
              0.7777777777777778,
              "#fb9f3a"
             ],
             [
              0.8888888888888888,
              "#fdca26"
             ],
             [
              1,
              "#f0f921"
             ]
            ],
            "type": "surface"
           }
          ],
          "table": [
           {
            "cells": {
             "fill": {
              "color": "#EBF0F8"
             },
             "line": {
              "color": "white"
             }
            },
            "header": {
             "fill": {
              "color": "#C8D4E3"
             },
             "line": {
              "color": "white"
             }
            },
            "type": "table"
           }
          ]
         },
         "layout": {
          "annotationdefaults": {
           "arrowcolor": "#2a3f5f",
           "arrowhead": 0,
           "arrowwidth": 1
          },
          "autotypenumbers": "strict",
          "coloraxis": {
           "colorbar": {
            "outlinewidth": 0,
            "ticks": ""
           }
          },
          "colorscale": {
           "diverging": [
            [
             0,
             "#8e0152"
            ],
            [
             0.1,
             "#c51b7d"
            ],
            [
             0.2,
             "#de77ae"
            ],
            [
             0.3,
             "#f1b6da"
            ],
            [
             0.4,
             "#fde0ef"
            ],
            [
             0.5,
             "#f7f7f7"
            ],
            [
             0.6,
             "#e6f5d0"
            ],
            [
             0.7,
             "#b8e186"
            ],
            [
             0.8,
             "#7fbc41"
            ],
            [
             0.9,
             "#4d9221"
            ],
            [
             1,
             "#276419"
            ]
           ],
           "sequential": [
            [
             0,
             "#0d0887"
            ],
            [
             0.1111111111111111,
             "#46039f"
            ],
            [
             0.2222222222222222,
             "#7201a8"
            ],
            [
             0.3333333333333333,
             "#9c179e"
            ],
            [
             0.4444444444444444,
             "#bd3786"
            ],
            [
             0.5555555555555556,
             "#d8576b"
            ],
            [
             0.6666666666666666,
             "#ed7953"
            ],
            [
             0.7777777777777778,
             "#fb9f3a"
            ],
            [
             0.8888888888888888,
             "#fdca26"
            ],
            [
             1,
             "#f0f921"
            ]
           ],
           "sequentialminus": [
            [
             0,
             "#0d0887"
            ],
            [
             0.1111111111111111,
             "#46039f"
            ],
            [
             0.2222222222222222,
             "#7201a8"
            ],
            [
             0.3333333333333333,
             "#9c179e"
            ],
            [
             0.4444444444444444,
             "#bd3786"
            ],
            [
             0.5555555555555556,
             "#d8576b"
            ],
            [
             0.6666666666666666,
             "#ed7953"
            ],
            [
             0.7777777777777778,
             "#fb9f3a"
            ],
            [
             0.8888888888888888,
             "#fdca26"
            ],
            [
             1,
             "#f0f921"
            ]
           ]
          },
          "colorway": [
           "#636efa",
           "#EF553B",
           "#00cc96",
           "#ab63fa",
           "#FFA15A",
           "#19d3f3",
           "#FF6692",
           "#B6E880",
           "#FF97FF",
           "#FECB52"
          ],
          "font": {
           "color": "#2a3f5f"
          },
          "geo": {
           "bgcolor": "white",
           "lakecolor": "white",
           "landcolor": "#E5ECF6",
           "showlakes": true,
           "showland": true,
           "subunitcolor": "white"
          },
          "hoverlabel": {
           "align": "left"
          },
          "hovermode": "closest",
          "mapbox": {
           "style": "light"
          },
          "paper_bgcolor": "white",
          "plot_bgcolor": "#E5ECF6",
          "polar": {
           "angularaxis": {
            "gridcolor": "white",
            "linecolor": "white",
            "ticks": ""
           },
           "bgcolor": "#E5ECF6",
           "radialaxis": {
            "gridcolor": "white",
            "linecolor": "white",
            "ticks": ""
           }
          },
          "scene": {
           "xaxis": {
            "backgroundcolor": "#E5ECF6",
            "gridcolor": "white",
            "gridwidth": 2,
            "linecolor": "white",
            "showbackground": true,
            "ticks": "",
            "zerolinecolor": "white"
           },
           "yaxis": {
            "backgroundcolor": "#E5ECF6",
            "gridcolor": "white",
            "gridwidth": 2,
            "linecolor": "white",
            "showbackground": true,
            "ticks": "",
            "zerolinecolor": "white"
           },
           "zaxis": {
            "backgroundcolor": "#E5ECF6",
            "gridcolor": "white",
            "gridwidth": 2,
            "linecolor": "white",
            "showbackground": true,
            "ticks": "",
            "zerolinecolor": "white"
           }
          },
          "shapedefaults": {
           "line": {
            "color": "#2a3f5f"
           }
          },
          "ternary": {
           "aaxis": {
            "gridcolor": "white",
            "linecolor": "white",
            "ticks": ""
           },
           "baxis": {
            "gridcolor": "white",
            "linecolor": "white",
            "ticks": ""
           },
           "bgcolor": "#E5ECF6",
           "caxis": {
            "gridcolor": "white",
            "linecolor": "white",
            "ticks": ""
           }
          },
          "title": {
           "x": 0.05
          },
          "xaxis": {
           "automargin": true,
           "gridcolor": "white",
           "linecolor": "white",
           "ticks": "",
           "title": {
            "standoff": 15
           },
           "zerolinecolor": "white",
           "zerolinewidth": 2
          },
          "yaxis": {
           "automargin": true,
           "gridcolor": "white",
           "linecolor": "white",
           "ticks": "",
           "title": {
            "standoff": 15
           },
           "zerolinecolor": "white",
           "zerolinewidth": 2
          }
         }
        },
        "xaxis": {
         "anchor": "y",
         "categoryarray": [
          "BiteSquad",
          "Canary",
          "Bannerman",
          "Buttery",
          "Caarbon",
          "iCracked",
          "Prim",
          "Rewinery",
          "Unwind Me",
          "Vatler",
          "Washly",
          "Coaster",
          "DashLocker",
          "dVisit",
          "FloristNow",
          "FoodNow",
          "Handii",
          "KallDoc",
          "Nimbl",
          "Squeegy ",
          "Worthee",
          "Instacart",
          "DoorDash",
          "Postmates",
          "Wag",
          "Rover",
          "GrubHub",
          "Boxed",
          "Blue Apron",
          "Doctor on Demand",
          "Munchery",
          "Eaze",
          "Handy",
          "Enjoy",
          "Soothe",
          "Heal",
          "Drizly",
          "HomeJoy",
          "Good Eggs",
          "Victor",
          "Shyp",
          "BellHops",
          "Shiftgig",
          "Wonolo",
          "TaskRabbit",
          "Bouqs Company",
          "HelloTech",
          "Nurx",
          "Chef'd",
          "Pager",
          "Urgently",
          "YourMechanic",
          "Honk",
          "Maple",
          "Upcounsel",
          "Operator",
          "Rinse",
          "HouseCall",
          "Spiffy",
          "Wrench",
          "Washio",
          "Workpop",
          "Urban",
          "FitMob",
          "Spoonrocket",
          "Zeel",
          "Saucey",
          "Waitr",
          "Dolly",
          "GoPuff",
          "FoxTrot",
          "BloomThat",
          "Tablelist",
          "Cleanly",
          "Plowz and Mowz",
          "Minibar",
          "Curbstand",
          "Cherry",
          "Jitjajo",
          "Manicube",
          "LoungeBuddy",
          "Swipecast",
          "Thirstie",
          "Lugg",
          "Exec",
          "Vetted",
          "BlackJet",
          "Swifto",
          "Geekatoo",
          "FlyCleaners",
          "Lawn Love",
          "Medicast",
          "RingaDoc",
          "Tutorspree",
          "Changelane",
          "Flinja",
          "VetPronto",
          "Doughbies",
          "SixDoors",
          "JetMe",
          "BottlesTonight",
          "Shortcut",
          "Laborocity",
          "StyleBee",
          "Dinnr"
         ],
         "categoryorder": "array",
         "domain": [
          0,
          1
         ],
         "title": {
          "text": "Name"
         }
        },
        "yaxis": {
         "anchor": "x",
         "domain": [
          0,
          1
         ],
         "title": {
          "text": "Funding"
         }
        }
       }
      },
      "text/html": [
       "<div>                            <div id=\"c0fd70b2-d10a-4e01-88c5-3e9596fafeb7\" class=\"plotly-graph-div\" style=\"height:525px; width:100%;\"></div>            <script type=\"text/javascript\">                require([\"plotly\"], function(Plotly) {                    window.PLOTLYENV=window.PLOTLYENV || {};                                    if (document.getElementById(\"c0fd70b2-d10a-4e01-88c5-3e9596fafeb7\")) {                    Plotly.newPlot(                        \"c0fd70b2-d10a-4e01-88c5-3e9596fafeb7\",                        [{\"alignmentgroup\":\"True\",\"hovertemplate\":\"Name=%{x}<br>Funding=%{text}<extra></extra>\",\"legendgroup\":\"BiteSquad\",\"marker\":{\"color\":\"#636efa\",\"pattern\":{\"shape\":\"\"}},\"name\":\"BiteSquad\",\"offsetgroup\":\"BiteSquad\",\"orientation\":\"v\",\"showlegend\":true,\"text\":[\"Self\"],\"textposition\":\"auto\",\"x\":[\"BiteSquad\"],\"xaxis\":\"x\",\"y\":[\"Self\"],\"yaxis\":\"y\",\"type\":\"bar\"},{\"alignmentgroup\":\"True\",\"hovertemplate\":\"Name=%{x}<br>Funding=%{text}<extra></extra>\",\"legendgroup\":\"Canary\",\"marker\":{\"color\":\"#EF553B\",\"pattern\":{\"shape\":\"\"}},\"name\":\"Canary\",\"offsetgroup\":\"Canary\",\"orientation\":\"v\",\"showlegend\":true,\"text\":[\"Self\"],\"textposition\":\"auto\",\"x\":[\"Canary\"],\"xaxis\":\"x\",\"y\":[\"Self\"],\"yaxis\":\"y\",\"type\":\"bar\"},{\"alignmentgroup\":\"True\",\"hovertemplate\":\"Name=%{x}<br>Funding=%{text}<extra></extra>\",\"legendgroup\":\"Bannerman\",\"marker\":{\"color\":\"#00cc96\",\"pattern\":{\"shape\":\"\"}},\"name\":\"Bannerman\",\"offsetgroup\":\"Bannerman\",\"orientation\":\"v\",\"showlegend\":true,\"text\":[\"Seed\"],\"textposition\":\"auto\",\"x\":[\"Bannerman\"],\"xaxis\":\"x\",\"y\":[\"Seed\"],\"yaxis\":\"y\",\"type\":\"bar\"},{\"alignmentgroup\":\"True\",\"hovertemplate\":\"Name=%{x}<br>Funding=%{text}<extra></extra>\",\"legendgroup\":\"Buttery\",\"marker\":{\"color\":\"#ab63fa\",\"pattern\":{\"shape\":\"\"}},\"name\":\"Buttery\",\"offsetgroup\":\"Buttery\",\"orientation\":\"v\",\"showlegend\":true,\"text\":[\"Seed\"],\"textposition\":\"auto\",\"x\":[\"Buttery\"],\"xaxis\":\"x\",\"y\":[\"Seed\"],\"yaxis\":\"y\",\"type\":\"bar\"},{\"alignmentgroup\":\"True\",\"hovertemplate\":\"Name=%{x}<br>Funding=%{text}<extra></extra>\",\"legendgroup\":\"Caarbon\",\"marker\":{\"color\":\"#FFA15A\",\"pattern\":{\"shape\":\"\"}},\"name\":\"Caarbon\",\"offsetgroup\":\"Caarbon\",\"orientation\":\"v\",\"showlegend\":true,\"text\":[\"Seed\"],\"textposition\":\"auto\",\"x\":[\"Caarbon\"],\"xaxis\":\"x\",\"y\":[\"Seed\"],\"yaxis\":\"y\",\"type\":\"bar\"},{\"alignmentgroup\":\"True\",\"hovertemplate\":\"Name=%{x}<br>Funding=%{text}<extra></extra>\",\"legendgroup\":\"iCracked\",\"marker\":{\"color\":\"#19d3f3\",\"pattern\":{\"shape\":\"\"}},\"name\":\"iCracked\",\"offsetgroup\":\"iCracked\",\"orientation\":\"v\",\"showlegend\":true,\"text\":[\"Seed\"],\"textposition\":\"auto\",\"x\":[\"iCracked\"],\"xaxis\":\"x\",\"y\":[\"Seed\"],\"yaxis\":\"y\",\"type\":\"bar\"},{\"alignmentgroup\":\"True\",\"hovertemplate\":\"Name=%{x}<br>Funding=%{text}<extra></extra>\",\"legendgroup\":\"Prim\",\"marker\":{\"color\":\"#FF6692\",\"pattern\":{\"shape\":\"\"}},\"name\":\"Prim\",\"offsetgroup\":\"Prim\",\"orientation\":\"v\",\"showlegend\":true,\"text\":[\"Seed\"],\"textposition\":\"auto\",\"x\":[\"Prim\"],\"xaxis\":\"x\",\"y\":[\"Seed\"],\"yaxis\":\"y\",\"type\":\"bar\"},{\"alignmentgroup\":\"True\",\"hovertemplate\":\"Name=%{x}<br>Funding=%{text}<extra></extra>\",\"legendgroup\":\"Rewinery\",\"marker\":{\"color\":\"#B6E880\",\"pattern\":{\"shape\":\"\"}},\"name\":\"Rewinery\",\"offsetgroup\":\"Rewinery\",\"orientation\":\"v\",\"showlegend\":true,\"text\":[\"Seed\"],\"textposition\":\"auto\",\"x\":[\"Rewinery\"],\"xaxis\":\"x\",\"y\":[\"Seed\"],\"yaxis\":\"y\",\"type\":\"bar\"},{\"alignmentgroup\":\"True\",\"hovertemplate\":\"Name=%{x}<br>Funding=%{text}<extra></extra>\",\"legendgroup\":\"Unwind Me\",\"marker\":{\"color\":\"#FF97FF\",\"pattern\":{\"shape\":\"\"}},\"name\":\"Unwind Me\",\"offsetgroup\":\"Unwind Me\",\"orientation\":\"v\",\"showlegend\":true,\"text\":[\"Seed\"],\"textposition\":\"auto\",\"x\":[\"Unwind Me\"],\"xaxis\":\"x\",\"y\":[\"Seed\"],\"yaxis\":\"y\",\"type\":\"bar\"},{\"alignmentgroup\":\"True\",\"hovertemplate\":\"Name=%{x}<br>Funding=%{text}<extra></extra>\",\"legendgroup\":\"Vatler\",\"marker\":{\"color\":\"#FECB52\",\"pattern\":{\"shape\":\"\"}},\"name\":\"Vatler\",\"offsetgroup\":\"Vatler\",\"orientation\":\"v\",\"showlegend\":true,\"text\":[\"Seed\"],\"textposition\":\"auto\",\"x\":[\"Vatler\"],\"xaxis\":\"x\",\"y\":[\"Seed\"],\"yaxis\":\"y\",\"type\":\"bar\"},{\"alignmentgroup\":\"True\",\"hovertemplate\":\"Name=%{x}<br>Funding=%{text}<extra></extra>\",\"legendgroup\":\"Washly\",\"marker\":{\"color\":\"#636efa\",\"pattern\":{\"shape\":\"\"}},\"name\":\"Washly\",\"offsetgroup\":\"Washly\",\"orientation\":\"v\",\"showlegend\":true,\"text\":[\"Seed\"],\"textposition\":\"auto\",\"x\":[\"Washly\"],\"xaxis\":\"x\",\"y\":[\"Seed\"],\"yaxis\":\"y\",\"type\":\"bar\"},{\"alignmentgroup\":\"True\",\"hovertemplate\":\"Name=%{x}<br>Funding=%{text}<extra></extra>\",\"legendgroup\":\"Coaster\",\"marker\":{\"color\":\"#EF553B\",\"pattern\":{\"shape\":\"\"}},\"name\":\"Coaster\",\"offsetgroup\":\"Coaster\",\"orientation\":\"v\",\"showlegend\":true,\"text\":[null],\"textposition\":\"auto\",\"x\":[\"Coaster\"],\"xaxis\":\"x\",\"y\":[null],\"yaxis\":\"y\",\"type\":\"bar\"},{\"alignmentgroup\":\"True\",\"hovertemplate\":\"Name=%{x}<br>Funding=%{text}<extra></extra>\",\"legendgroup\":\"DashLocker\",\"marker\":{\"color\":\"#00cc96\",\"pattern\":{\"shape\":\"\"}},\"name\":\"DashLocker\",\"offsetgroup\":\"DashLocker\",\"orientation\":\"v\",\"showlegend\":true,\"text\":[null],\"textposition\":\"auto\",\"x\":[\"DashLocker\"],\"xaxis\":\"x\",\"y\":[null],\"yaxis\":\"y\",\"type\":\"bar\"},{\"alignmentgroup\":\"True\",\"hovertemplate\":\"Name=%{x}<br>Funding=%{text}<extra></extra>\",\"legendgroup\":\"dVisit\",\"marker\":{\"color\":\"#ab63fa\",\"pattern\":{\"shape\":\"\"}},\"name\":\"dVisit\",\"offsetgroup\":\"dVisit\",\"orientation\":\"v\",\"showlegend\":true,\"text\":[null],\"textposition\":\"auto\",\"x\":[\"dVisit\"],\"xaxis\":\"x\",\"y\":[null],\"yaxis\":\"y\",\"type\":\"bar\"},{\"alignmentgroup\":\"True\",\"hovertemplate\":\"Name=%{x}<br>Funding=%{text}<extra></extra>\",\"legendgroup\":\"FloristNow\",\"marker\":{\"color\":\"#FFA15A\",\"pattern\":{\"shape\":\"\"}},\"name\":\"FloristNow\",\"offsetgroup\":\"FloristNow\",\"orientation\":\"v\",\"showlegend\":true,\"text\":[null],\"textposition\":\"auto\",\"x\":[\"FloristNow\"],\"xaxis\":\"x\",\"y\":[null],\"yaxis\":\"y\",\"type\":\"bar\"},{\"alignmentgroup\":\"True\",\"hovertemplate\":\"Name=%{x}<br>Funding=%{text}<extra></extra>\",\"legendgroup\":\"FoodNow\",\"marker\":{\"color\":\"#19d3f3\",\"pattern\":{\"shape\":\"\"}},\"name\":\"FoodNow\",\"offsetgroup\":\"FoodNow\",\"orientation\":\"v\",\"showlegend\":true,\"text\":[null],\"textposition\":\"auto\",\"x\":[\"FoodNow\"],\"xaxis\":\"x\",\"y\":[null],\"yaxis\":\"y\",\"type\":\"bar\"},{\"alignmentgroup\":\"True\",\"hovertemplate\":\"Name=%{x}<br>Funding=%{text}<extra></extra>\",\"legendgroup\":\"Handii\",\"marker\":{\"color\":\"#FF6692\",\"pattern\":{\"shape\":\"\"}},\"name\":\"Handii\",\"offsetgroup\":\"Handii\",\"orientation\":\"v\",\"showlegend\":true,\"text\":[null],\"textposition\":\"auto\",\"x\":[\"Handii\"],\"xaxis\":\"x\",\"y\":[null],\"yaxis\":\"y\",\"type\":\"bar\"},{\"alignmentgroup\":\"True\",\"hovertemplate\":\"Name=%{x}<br>Funding=%{text}<extra></extra>\",\"legendgroup\":\"KallDoc\",\"marker\":{\"color\":\"#B6E880\",\"pattern\":{\"shape\":\"\"}},\"name\":\"KallDoc\",\"offsetgroup\":\"KallDoc\",\"orientation\":\"v\",\"showlegend\":true,\"text\":[null],\"textposition\":\"auto\",\"x\":[\"KallDoc\"],\"xaxis\":\"x\",\"y\":[null],\"yaxis\":\"y\",\"type\":\"bar\"},{\"alignmentgroup\":\"True\",\"hovertemplate\":\"Name=%{x}<br>Funding=%{text}<extra></extra>\",\"legendgroup\":\"Nimbl\",\"marker\":{\"color\":\"#FF97FF\",\"pattern\":{\"shape\":\"\"}},\"name\":\"Nimbl\",\"offsetgroup\":\"Nimbl\",\"orientation\":\"v\",\"showlegend\":true,\"text\":[null],\"textposition\":\"auto\",\"x\":[\"Nimbl\"],\"xaxis\":\"x\",\"y\":[null],\"yaxis\":\"y\",\"type\":\"bar\"},{\"alignmentgroup\":\"True\",\"hovertemplate\":\"Name=%{x}<br>Funding=%{text}<extra></extra>\",\"legendgroup\":\"Squeegy \",\"marker\":{\"color\":\"#FECB52\",\"pattern\":{\"shape\":\"\"}},\"name\":\"Squeegy \",\"offsetgroup\":\"Squeegy \",\"orientation\":\"v\",\"showlegend\":true,\"text\":[null],\"textposition\":\"auto\",\"x\":[\"Squeegy \"],\"xaxis\":\"x\",\"y\":[null],\"yaxis\":\"y\",\"type\":\"bar\"},{\"alignmentgroup\":\"True\",\"hovertemplate\":\"Name=%{x}<br>Funding=%{text}<extra></extra>\",\"legendgroup\":\"Worthee\",\"marker\":{\"color\":\"#636efa\",\"pattern\":{\"shape\":\"\"}},\"name\":\"Worthee\",\"offsetgroup\":\"Worthee\",\"orientation\":\"v\",\"showlegend\":true,\"text\":[null],\"textposition\":\"auto\",\"x\":[\"Worthee\"],\"xaxis\":\"x\",\"y\":[null],\"yaxis\":\"y\",\"type\":\"bar\"},{\"alignmentgroup\":\"True\",\"hovertemplate\":\"Name=%{x}<br>Funding=%{text}<extra></extra>\",\"legendgroup\":\"Instacart\",\"marker\":{\"color\":\"#EF553B\",\"pattern\":{\"shape\":\"\"}},\"name\":\"Instacart\",\"offsetgroup\":\"Instacart\",\"orientation\":\"v\",\"showlegend\":true,\"text\":[\"$1,900,000,000\"],\"textposition\":\"auto\",\"x\":[\"Instacart\"],\"xaxis\":\"x\",\"y\":[\"$1,900,000,000\"],\"yaxis\":\"y\",\"type\":\"bar\"},{\"alignmentgroup\":\"True\",\"hovertemplate\":\"Name=%{x}<br>Funding=%{text}<extra></extra>\",\"legendgroup\":\"DoorDash\",\"marker\":{\"color\":\"#00cc96\",\"pattern\":{\"shape\":\"\"}},\"name\":\"DoorDash\",\"offsetgroup\":\"DoorDash\",\"orientation\":\"v\",\"showlegend\":true,\"text\":[\"$1,400,000,000\"],\"textposition\":\"auto\",\"x\":[\"DoorDash\"],\"xaxis\":\"x\",\"y\":[\"$1,400,000,000\"],\"yaxis\":\"y\",\"type\":\"bar\"},{\"alignmentgroup\":\"True\",\"hovertemplate\":\"Name=%{x}<br>Funding=%{text}<extra></extra>\",\"legendgroup\":\"Postmates\",\"marker\":{\"color\":\"#ab63fa\",\"pattern\":{\"shape\":\"\"}},\"name\":\"Postmates\",\"offsetgroup\":\"Postmates\",\"orientation\":\"v\",\"showlegend\":true,\"text\":[\"$678,000,000\"],\"textposition\":\"auto\",\"x\":[\"Postmates\"],\"xaxis\":\"x\",\"y\":[\"$678,000,000\"],\"yaxis\":\"y\",\"type\":\"bar\"},{\"alignmentgroup\":\"True\",\"hovertemplate\":\"Name=%{x}<br>Funding=%{text}<extra></extra>\",\"legendgroup\":\"Wag\",\"marker\":{\"color\":\"#FFA15A\",\"pattern\":{\"shape\":\"\"}},\"name\":\"Wag\",\"offsetgroup\":\"Wag\",\"orientation\":\"v\",\"showlegend\":true,\"text\":[\"$361,500,000\"],\"textposition\":\"auto\",\"x\":[\"Wag\"],\"xaxis\":\"x\",\"y\":[\"$361,500,000\"],\"yaxis\":\"y\",\"type\":\"bar\"},{\"alignmentgroup\":\"True\",\"hovertemplate\":\"Name=%{x}<br>Funding=%{text}<extra></extra>\",\"legendgroup\":\"Rover\",\"marker\":{\"color\":\"#19d3f3\",\"pattern\":{\"shape\":\"\"}},\"name\":\"Rover\",\"offsetgroup\":\"Rover\",\"orientation\":\"v\",\"showlegend\":true,\"text\":[\"$311,000,000\"],\"textposition\":\"auto\",\"x\":[\"Rover\"],\"xaxis\":\"x\",\"y\":[\"$311,000,000\"],\"yaxis\":\"y\",\"type\":\"bar\"},{\"alignmentgroup\":\"True\",\"hovertemplate\":\"Name=%{x}<br>Funding=%{text}<extra></extra>\",\"legendgroup\":\"GrubHub\",\"marker\":{\"color\":\"#FF6692\",\"pattern\":{\"shape\":\"\"}},\"name\":\"GrubHub\",\"offsetgroup\":\"GrubHub\",\"orientation\":\"v\",\"showlegend\":true,\"text\":[\"$284,100,000\"],\"textposition\":\"auto\",\"x\":[\"GrubHub\"],\"xaxis\":\"x\",\"y\":[\"$284,100,000\"],\"yaxis\":\"y\",\"type\":\"bar\"},{\"alignmentgroup\":\"True\",\"hovertemplate\":\"Name=%{x}<br>Funding=%{text}<extra></extra>\",\"legendgroup\":\"Boxed\",\"marker\":{\"color\":\"#B6E880\",\"pattern\":{\"shape\":\"\"}},\"name\":\"Boxed\",\"offsetgroup\":\"Boxed\",\"orientation\":\"v\",\"showlegend\":true,\"text\":[\"$243,600,000\"],\"textposition\":\"auto\",\"x\":[\"Boxed\"],\"xaxis\":\"x\",\"y\":[\"$243,600,000\"],\"yaxis\":\"y\",\"type\":\"bar\"},{\"alignmentgroup\":\"True\",\"hovertemplate\":\"Name=%{x}<br>Funding=%{text}<extra></extra>\",\"legendgroup\":\"Blue Apron\",\"marker\":{\"color\":\"#FF97FF\",\"pattern\":{\"shape\":\"\"}},\"name\":\"Blue Apron\",\"offsetgroup\":\"Blue Apron\",\"orientation\":\"v\",\"showlegend\":true,\"text\":[\"$199,400,000\"],\"textposition\":\"auto\",\"x\":[\"Blue Apron\"],\"xaxis\":\"x\",\"y\":[\"$199,400,000\"],\"yaxis\":\"y\",\"type\":\"bar\"},{\"alignmentgroup\":\"True\",\"hovertemplate\":\"Name=%{x}<br>Funding=%{text}<extra></extra>\",\"legendgroup\":\"Doctor on Demand\",\"marker\":{\"color\":\"#FECB52\",\"pattern\":{\"shape\":\"\"}},\"name\":\"Doctor on Demand\",\"offsetgroup\":\"Doctor on Demand\",\"orientation\":\"v\",\"showlegend\":true,\"text\":[\"$160,700,000\"],\"textposition\":\"auto\",\"x\":[\"Doctor on Demand\"],\"xaxis\":\"x\",\"y\":[\"$160,700,000\"],\"yaxis\":\"y\",\"type\":\"bar\"},{\"alignmentgroup\":\"True\",\"hovertemplate\":\"Name=%{x}<br>Funding=%{text}<extra></extra>\",\"legendgroup\":\"Munchery\",\"marker\":{\"color\":\"#636efa\",\"pattern\":{\"shape\":\"\"}},\"name\":\"Munchery\",\"offsetgroup\":\"Munchery\",\"orientation\":\"v\",\"showlegend\":true,\"text\":[\"$125,400,000\"],\"textposition\":\"auto\",\"x\":[\"Munchery\"],\"xaxis\":\"x\",\"y\":[\"$125,400,000\"],\"yaxis\":\"y\",\"type\":\"bar\"},{\"alignmentgroup\":\"True\",\"hovertemplate\":\"Name=%{x}<br>Funding=%{text}<extra></extra>\",\"legendgroup\":\"Eaze\",\"marker\":{\"color\":\"#EF553B\",\"pattern\":{\"shape\":\"\"}},\"name\":\"Eaze\",\"offsetgroup\":\"Eaze\",\"orientation\":\"v\",\"showlegend\":true,\"text\":[\"$117,000,000\"],\"textposition\":\"auto\",\"x\":[\"Eaze\"],\"xaxis\":\"x\",\"y\":[\"$117,000,000\"],\"yaxis\":\"y\",\"type\":\"bar\"},{\"alignmentgroup\":\"True\",\"hovertemplate\":\"Name=%{x}<br>Funding=%{text}<extra></extra>\",\"legendgroup\":\"Handy\",\"marker\":{\"color\":\"#00cc96\",\"pattern\":{\"shape\":\"\"}},\"name\":\"Handy\",\"offsetgroup\":\"Handy\",\"orientation\":\"v\",\"showlegend\":true,\"text\":[\"$110,700,000\"],\"textposition\":\"auto\",\"x\":[\"Handy\"],\"xaxis\":\"x\",\"y\":[\"$110,700,000\"],\"yaxis\":\"y\",\"type\":\"bar\"},{\"alignmentgroup\":\"True\",\"hovertemplate\":\"Name=%{x}<br>Funding=%{text}<extra></extra>\",\"legendgroup\":\"Enjoy\",\"marker\":{\"color\":\"#ab63fa\",\"pattern\":{\"shape\":\"\"}},\"name\":\"Enjoy\",\"offsetgroup\":\"Enjoy\",\"orientation\":\"v\",\"showlegend\":true,\"text\":[\"$80,000,000\"],\"textposition\":\"auto\",\"x\":[\"Enjoy\"],\"xaxis\":\"x\",\"y\":[\"$80,000,000\"],\"yaxis\":\"y\",\"type\":\"bar\"},{\"alignmentgroup\":\"True\",\"hovertemplate\":\"Name=%{x}<br>Funding=%{text}<extra></extra>\",\"legendgroup\":\"Soothe\",\"marker\":{\"color\":\"#FFA15A\",\"pattern\":{\"shape\":\"\"}},\"name\":\"Soothe\",\"offsetgroup\":\"Soothe\",\"orientation\":\"v\",\"showlegend\":true,\"text\":[\"$78,300,000\"],\"textposition\":\"auto\",\"x\":[\"Soothe\"],\"xaxis\":\"x\",\"y\":[\"$78,300,000\"],\"yaxis\":\"y\",\"type\":\"bar\"},{\"alignmentgroup\":\"True\",\"hovertemplate\":\"Name=%{x}<br>Funding=%{text}<extra></extra>\",\"legendgroup\":\"Heal\",\"marker\":{\"color\":\"#19d3f3\",\"pattern\":{\"shape\":\"\"}},\"name\":\"Heal\",\"offsetgroup\":\"Heal\",\"orientation\":\"v\",\"showlegend\":true,\"text\":[\"$71,000,000\"],\"textposition\":\"auto\",\"x\":[\"Heal\"],\"xaxis\":\"x\",\"y\":[\"$71,000,000\"],\"yaxis\":\"y\",\"type\":\"bar\"},{\"alignmentgroup\":\"True\",\"hovertemplate\":\"Name=%{x}<br>Funding=%{text}<extra></extra>\",\"legendgroup\":\"Drizly\",\"marker\":{\"color\":\"#FF6692\",\"pattern\":{\"shape\":\"\"}},\"name\":\"Drizly\",\"offsetgroup\":\"Drizly\",\"orientation\":\"v\",\"showlegend\":true,\"text\":[\"$67,500,000\"],\"textposition\":\"auto\",\"x\":[\"Drizly\"],\"xaxis\":\"x\",\"y\":[\"$67,500,000\"],\"yaxis\":\"y\",\"type\":\"bar\"},{\"alignmentgroup\":\"True\",\"hovertemplate\":\"Name=%{x}<br>Funding=%{text}<extra></extra>\",\"legendgroup\":\"HomeJoy\",\"marker\":{\"color\":\"#B6E880\",\"pattern\":{\"shape\":\"\"}},\"name\":\"HomeJoy\",\"offsetgroup\":\"HomeJoy\",\"orientation\":\"v\",\"showlegend\":true,\"text\":[\"$65,900,000\"],\"textposition\":\"auto\",\"x\":[\"HomeJoy\"],\"xaxis\":\"x\",\"y\":[\"$65,900,000\"],\"yaxis\":\"y\",\"type\":\"bar\"},{\"alignmentgroup\":\"True\",\"hovertemplate\":\"Name=%{x}<br>Funding=%{text}<extra></extra>\",\"legendgroup\":\"Good Eggs\",\"marker\":{\"color\":\"#FF97FF\",\"pattern\":{\"shape\":\"\"}},\"name\":\"Good Eggs\",\"offsetgroup\":\"Good Eggs\",\"orientation\":\"v\",\"showlegend\":true,\"text\":[\"$65,000,000\"],\"textposition\":\"auto\",\"x\":[\"Good Eggs\"],\"xaxis\":\"x\",\"y\":[\"$65,000,000\"],\"yaxis\":\"y\",\"type\":\"bar\"},{\"alignmentgroup\":\"True\",\"hovertemplate\":\"Name=%{x}<br>Funding=%{text}<extra></extra>\",\"legendgroup\":\"Victor\",\"marker\":{\"color\":\"#FECB52\",\"pattern\":{\"shape\":\"\"}},\"name\":\"Victor\",\"offsetgroup\":\"Victor\",\"orientation\":\"v\",\"showlegend\":true,\"text\":[\"$62,500,000\"],\"textposition\":\"auto\",\"x\":[\"Victor\"],\"xaxis\":\"x\",\"y\":[\"$62,500,000\"],\"yaxis\":\"y\",\"type\":\"bar\"},{\"alignmentgroup\":\"True\",\"hovertemplate\":\"Name=%{x}<br>Funding=%{text}<extra></extra>\",\"legendgroup\":\"Shyp\",\"marker\":{\"color\":\"#636efa\",\"pattern\":{\"shape\":\"\"}},\"name\":\"Shyp\",\"offsetgroup\":\"Shyp\",\"orientation\":\"v\",\"showlegend\":true,\"text\":[\"$62,100,000\"],\"textposition\":\"auto\",\"x\":[\"Shyp\"],\"xaxis\":\"x\",\"y\":[\"$62,100,000\"],\"yaxis\":\"y\",\"type\":\"bar\"},{\"alignmentgroup\":\"True\",\"hovertemplate\":\"Name=%{x}<br>Funding=%{text}<extra></extra>\",\"legendgroup\":\"BellHops\",\"marker\":{\"color\":\"#EF553B\",\"pattern\":{\"shape\":\"\"}},\"name\":\"BellHops\",\"offsetgroup\":\"BellHops\",\"orientation\":\"v\",\"showlegend\":true,\"text\":[\"$58,600,000\"],\"textposition\":\"auto\",\"x\":[\"BellHops\"],\"xaxis\":\"x\",\"y\":[\"$58,600,000\"],\"yaxis\":\"y\",\"type\":\"bar\"},{\"alignmentgroup\":\"True\",\"hovertemplate\":\"Name=%{x}<br>Funding=%{text}<extra></extra>\",\"legendgroup\":\"Shiftgig\",\"marker\":{\"color\":\"#00cc96\",\"pattern\":{\"shape\":\"\"}},\"name\":\"Shiftgig\",\"offsetgroup\":\"Shiftgig\",\"orientation\":\"v\",\"showlegend\":true,\"text\":[\"$56,000,000\"],\"textposition\":\"auto\",\"x\":[\"Shiftgig\"],\"xaxis\":\"x\",\"y\":[\"$56,000,000\"],\"yaxis\":\"y\",\"type\":\"bar\"},{\"alignmentgroup\":\"True\",\"hovertemplate\":\"Name=%{x}<br>Funding=%{text}<extra></extra>\",\"legendgroup\":\"Wonolo\",\"marker\":{\"color\":\"#ab63fa\",\"pattern\":{\"shape\":\"\"}},\"name\":\"Wonolo\",\"offsetgroup\":\"Wonolo\",\"orientation\":\"v\",\"showlegend\":true,\"text\":[\"$52,900,000\"],\"textposition\":\"auto\",\"x\":[\"Wonolo\"],\"xaxis\":\"x\",\"y\":[\"$52,900,000\"],\"yaxis\":\"y\",\"type\":\"bar\"},{\"alignmentgroup\":\"True\",\"hovertemplate\":\"Name=%{x}<br>Funding=%{text}<extra></extra>\",\"legendgroup\":\"TaskRabbit\",\"marker\":{\"color\":\"#FFA15A\",\"pattern\":{\"shape\":\"\"}},\"name\":\"TaskRabbit\",\"offsetgroup\":\"TaskRabbit\",\"orientation\":\"v\",\"showlegend\":true,\"text\":[\"$50,000,000\"],\"textposition\":\"auto\",\"x\":[\"TaskRabbit\"],\"xaxis\":\"x\",\"y\":[\"$50,000,000\"],\"yaxis\":\"y\",\"type\":\"bar\"},{\"alignmentgroup\":\"True\",\"hovertemplate\":\"Name=%{x}<br>Funding=%{text}<extra></extra>\",\"legendgroup\":\"Bouqs Company\",\"marker\":{\"color\":\"#19d3f3\",\"pattern\":{\"shape\":\"\"}},\"name\":\"Bouqs Company\",\"offsetgroup\":\"Bouqs Company\",\"orientation\":\"v\",\"showlegend\":true,\"text\":[\"$43,100,000\"],\"textposition\":\"auto\",\"x\":[\"Bouqs Company\"],\"xaxis\":\"x\",\"y\":[\"$43,100,000\"],\"yaxis\":\"y\",\"type\":\"bar\"},{\"alignmentgroup\":\"True\",\"hovertemplate\":\"Name=%{x}<br>Funding=%{text}<extra></extra>\",\"legendgroup\":\"HelloTech\",\"marker\":{\"color\":\"#FF6692\",\"pattern\":{\"shape\":\"\"}},\"name\":\"HelloTech\",\"offsetgroup\":\"HelloTech\",\"orientation\":\"v\",\"showlegend\":true,\"text\":[\"$42,000,000\"],\"textposition\":\"auto\",\"x\":[\"HelloTech\"],\"xaxis\":\"x\",\"y\":[\"$42,000,000\"],\"yaxis\":\"y\",\"type\":\"bar\"},{\"alignmentgroup\":\"True\",\"hovertemplate\":\"Name=%{x}<br>Funding=%{text}<extra></extra>\",\"legendgroup\":\"Nurx\",\"marker\":{\"color\":\"#B6E880\",\"pattern\":{\"shape\":\"\"}},\"name\":\"Nurx\",\"offsetgroup\":\"Nurx\",\"orientation\":\"v\",\"showlegend\":true,\"text\":[\"$41,400,000\"],\"textposition\":\"auto\",\"x\":[\"Nurx\"],\"xaxis\":\"x\",\"y\":[\"$41,400,000\"],\"yaxis\":\"y\",\"type\":\"bar\"},{\"alignmentgroup\":\"True\",\"hovertemplate\":\"Name=%{x}<br>Funding=%{text}<extra></extra>\",\"legendgroup\":\"Chef'd\",\"marker\":{\"color\":\"#FF97FF\",\"pattern\":{\"shape\":\"\"}},\"name\":\"Chef'd\",\"offsetgroup\":\"Chef'd\",\"orientation\":\"v\",\"showlegend\":true,\"text\":[\"$40,500,000\"],\"textposition\":\"auto\",\"x\":[\"Chef'd\"],\"xaxis\":\"x\",\"y\":[\"$40,500,000\"],\"yaxis\":\"y\",\"type\":\"bar\"},{\"alignmentgroup\":\"True\",\"hovertemplate\":\"Name=%{x}<br>Funding=%{text}<extra></extra>\",\"legendgroup\":\"Pager\",\"marker\":{\"color\":\"#FECB52\",\"pattern\":{\"shape\":\"\"}},\"name\":\"Pager\",\"offsetgroup\":\"Pager\",\"orientation\":\"v\",\"showlegend\":true,\"text\":[\"$40,000,000\"],\"textposition\":\"auto\",\"x\":[\"Pager\"],\"xaxis\":\"x\",\"y\":[\"$40,000,000\"],\"yaxis\":\"y\",\"type\":\"bar\"},{\"alignmentgroup\":\"True\",\"hovertemplate\":\"Name=%{x}<br>Funding=%{text}<extra></extra>\",\"legendgroup\":\"Urgently\",\"marker\":{\"color\":\"#636efa\",\"pattern\":{\"shape\":\"\"}},\"name\":\"Urgently\",\"offsetgroup\":\"Urgently\",\"orientation\":\"v\",\"showlegend\":true,\"text\":[\"$39,600,000\"],\"textposition\":\"auto\",\"x\":[\"Urgently\"],\"xaxis\":\"x\",\"y\":[\"$39,600,000\"],\"yaxis\":\"y\",\"type\":\"bar\"},{\"alignmentgroup\":\"True\",\"hovertemplate\":\"Name=%{x}<br>Funding=%{text}<extra></extra>\",\"legendgroup\":\"YourMechanic\",\"marker\":{\"color\":\"#EF553B\",\"pattern\":{\"shape\":\"\"}},\"name\":\"YourMechanic\",\"offsetgroup\":\"YourMechanic\",\"orientation\":\"v\",\"showlegend\":true,\"text\":[\"$38,500,000\"],\"textposition\":\"auto\",\"x\":[\"YourMechanic\"],\"xaxis\":\"x\",\"y\":[\"$38,500,000\"],\"yaxis\":\"y\",\"type\":\"bar\"},{\"alignmentgroup\":\"True\",\"hovertemplate\":\"Name=%{x}<br>Funding=%{text}<extra></extra>\",\"legendgroup\":\"Honk\",\"marker\":{\"color\":\"#00cc96\",\"pattern\":{\"shape\":\"\"}},\"name\":\"Honk\",\"offsetgroup\":\"Honk\",\"orientation\":\"v\",\"showlegend\":true,\"text\":[\"$31,800,000\"],\"textposition\":\"auto\",\"x\":[\"Honk\"],\"xaxis\":\"x\",\"y\":[\"$31,800,000\"],\"yaxis\":\"y\",\"type\":\"bar\"},{\"alignmentgroup\":\"True\",\"hovertemplate\":\"Name=%{x}<br>Funding=%{text}<extra></extra>\",\"legendgroup\":\"Maple\",\"marker\":{\"color\":\"#ab63fa\",\"pattern\":{\"shape\":\"\"}},\"name\":\"Maple\",\"offsetgroup\":\"Maple\",\"orientation\":\"v\",\"showlegend\":true,\"text\":[\"$29,000,000\"],\"textposition\":\"auto\",\"x\":[\"Maple\"],\"xaxis\":\"x\",\"y\":[\"$29,000,000\"],\"yaxis\":\"y\",\"type\":\"bar\"},{\"alignmentgroup\":\"True\",\"hovertemplate\":\"Name=%{x}<br>Funding=%{text}<extra></extra>\",\"legendgroup\":\"Upcounsel\",\"marker\":{\"color\":\"#FFA15A\",\"pattern\":{\"shape\":\"\"}},\"name\":\"Upcounsel\",\"offsetgroup\":\"Upcounsel\",\"orientation\":\"v\",\"showlegend\":true,\"text\":[\"$26,000,000\"],\"textposition\":\"auto\",\"x\":[\"Upcounsel\"],\"xaxis\":\"x\",\"y\":[\"$26,000,000\"],\"yaxis\":\"y\",\"type\":\"bar\"},{\"alignmentgroup\":\"True\",\"hovertemplate\":\"Name=%{x}<br>Funding=%{text}<extra></extra>\",\"legendgroup\":\"Operator\",\"marker\":{\"color\":\"#19d3f3\",\"pattern\":{\"shape\":\"\"}},\"name\":\"Operator\",\"offsetgroup\":\"Operator\",\"orientation\":\"v\",\"showlegend\":true,\"text\":[\"$25,000,000\"],\"textposition\":\"auto\",\"x\":[\"Operator\"],\"xaxis\":\"x\",\"y\":[\"$25,000,000\"],\"yaxis\":\"y\",\"type\":\"bar\"},{\"alignmentgroup\":\"True\",\"hovertemplate\":\"Name=%{x}<br>Funding=%{text}<extra></extra>\",\"legendgroup\":\"Rinse\",\"marker\":{\"color\":\"#FF6692\",\"pattern\":{\"shape\":\"\"}},\"name\":\"Rinse\",\"offsetgroup\":\"Rinse\",\"orientation\":\"v\",\"showlegend\":true,\"text\":[\"$25,000,000\"],\"textposition\":\"auto\",\"x\":[\"Rinse\"],\"xaxis\":\"x\",\"y\":[\"$25,000,000\"],\"yaxis\":\"y\",\"type\":\"bar\"},{\"alignmentgroup\":\"True\",\"hovertemplate\":\"Name=%{x}<br>Funding=%{text}<extra></extra>\",\"legendgroup\":\"HouseCall\",\"marker\":{\"color\":\"#B6E880\",\"pattern\":{\"shape\":\"\"}},\"name\":\"HouseCall\",\"offsetgroup\":\"HouseCall\",\"orientation\":\"v\",\"showlegend\":true,\"text\":[\"$20,000,000\"],\"textposition\":\"auto\",\"x\":[\"HouseCall\"],\"xaxis\":\"x\",\"y\":[\"$20,000,000\"],\"yaxis\":\"y\",\"type\":\"bar\"},{\"alignmentgroup\":\"True\",\"hovertemplate\":\"Name=%{x}<br>Funding=%{text}<extra></extra>\",\"legendgroup\":\"Spiffy\",\"marker\":{\"color\":\"#FF97FF\",\"pattern\":{\"shape\":\"\"}},\"name\":\"Spiffy\",\"offsetgroup\":\"Spiffy\",\"orientation\":\"v\",\"showlegend\":true,\"text\":[\"$18,100,000\"],\"textposition\":\"auto\",\"x\":[\"Spiffy\"],\"xaxis\":\"x\",\"y\":[\"$18,100,000\"],\"yaxis\":\"y\",\"type\":\"bar\"},{\"alignmentgroup\":\"True\",\"hovertemplate\":\"Name=%{x}<br>Funding=%{text}<extra></extra>\",\"legendgroup\":\"Wrench\",\"marker\":{\"color\":\"#FECB52\",\"pattern\":{\"shape\":\"\"}},\"name\":\"Wrench\",\"offsetgroup\":\"Wrench\",\"orientation\":\"v\",\"showlegend\":true,\"text\":[\"$17,200,000\"],\"textposition\":\"auto\",\"x\":[\"Wrench\"],\"xaxis\":\"x\",\"y\":[\"$17,200,000\"],\"yaxis\":\"y\",\"type\":\"bar\"},{\"alignmentgroup\":\"True\",\"hovertemplate\":\"Name=%{x}<br>Funding=%{text}<extra></extra>\",\"legendgroup\":\"Washio\",\"marker\":{\"color\":\"#636efa\",\"pattern\":{\"shape\":\"\"}},\"name\":\"Washio\",\"offsetgroup\":\"Washio\",\"orientation\":\"v\",\"showlegend\":true,\"text\":[\"$16,800,000\"],\"textposition\":\"auto\",\"x\":[\"Washio\"],\"xaxis\":\"x\",\"y\":[\"$16,800,000\"],\"yaxis\":\"y\",\"type\":\"bar\"},{\"alignmentgroup\":\"True\",\"hovertemplate\":\"Name=%{x}<br>Funding=%{text}<extra></extra>\",\"legendgroup\":\"Workpop\",\"marker\":{\"color\":\"#EF553B\",\"pattern\":{\"shape\":\"\"}},\"name\":\"Workpop\",\"offsetgroup\":\"Workpop\",\"orientation\":\"v\",\"showlegend\":true,\"text\":[\"$16,100,000\"],\"textposition\":\"auto\",\"x\":[\"Workpop\"],\"xaxis\":\"x\",\"y\":[\"$16,100,000\"],\"yaxis\":\"y\",\"type\":\"bar\"},{\"alignmentgroup\":\"True\",\"hovertemplate\":\"Name=%{x}<br>Funding=%{text}<extra></extra>\",\"legendgroup\":\"Urban\",\"marker\":{\"color\":\"#00cc96\",\"pattern\":{\"shape\":\"\"}},\"name\":\"Urban\",\"offsetgroup\":\"Urban\",\"orientation\":\"v\",\"showlegend\":true,\"text\":[\"$15,400,000\"],\"textposition\":\"auto\",\"x\":[\"Urban\"],\"xaxis\":\"x\",\"y\":[\"$15,400,000\"],\"yaxis\":\"y\",\"type\":\"bar\"},{\"alignmentgroup\":\"True\",\"hovertemplate\":\"Name=%{x}<br>Funding=%{text}<extra></extra>\",\"legendgroup\":\"FitMob\",\"marker\":{\"color\":\"#ab63fa\",\"pattern\":{\"shape\":\"\"}},\"name\":\"FitMob\",\"offsetgroup\":\"FitMob\",\"orientation\":\"v\",\"showlegend\":true,\"text\":[\"$14,750,000\"],\"textposition\":\"auto\",\"x\":[\"FitMob\"],\"xaxis\":\"x\",\"y\":[\"$14,750,000\"],\"yaxis\":\"y\",\"type\":\"bar\"},{\"alignmentgroup\":\"True\",\"hovertemplate\":\"Name=%{x}<br>Funding=%{text}<extra></extra>\",\"legendgroup\":\"Spoonrocket\",\"marker\":{\"color\":\"#FFA15A\",\"pattern\":{\"shape\":\"\"}},\"name\":\"Spoonrocket\",\"offsetgroup\":\"Spoonrocket\",\"orientation\":\"v\",\"showlegend\":true,\"text\":[\"$13,500,000\"],\"textposition\":\"auto\",\"x\":[\"Spoonrocket\"],\"xaxis\":\"x\",\"y\":[\"$13,500,000\"],\"yaxis\":\"y\",\"type\":\"bar\"},{\"alignmentgroup\":\"True\",\"hovertemplate\":\"Name=%{x}<br>Funding=%{text}<extra></extra>\",\"legendgroup\":\"Zeel\",\"marker\":{\"color\":\"#19d3f3\",\"pattern\":{\"shape\":\"\"}},\"name\":\"Zeel\",\"offsetgroup\":\"Zeel\",\"orientation\":\"v\",\"showlegend\":true,\"text\":[\"$13,200,000\"],\"textposition\":\"auto\",\"x\":[\"Zeel\"],\"xaxis\":\"x\",\"y\":[\"$13,200,000\"],\"yaxis\":\"y\",\"type\":\"bar\"},{\"alignmentgroup\":\"True\",\"hovertemplate\":\"Name=%{x}<br>Funding=%{text}<extra></extra>\",\"legendgroup\":\"Saucey\",\"marker\":{\"color\":\"#FF6692\",\"pattern\":{\"shape\":\"\"}},\"name\":\"Saucey\",\"offsetgroup\":\"Saucey\",\"orientation\":\"v\",\"showlegend\":true,\"text\":[\"$10,200,000\"],\"textposition\":\"auto\",\"x\":[\"Saucey\"],\"xaxis\":\"x\",\"y\":[\"$10,200,000\"],\"yaxis\":\"y\",\"type\":\"bar\"},{\"alignmentgroup\":\"True\",\"hovertemplate\":\"Name=%{x}<br>Funding=%{text}<extra></extra>\",\"legendgroup\":\"Waitr\",\"marker\":{\"color\":\"#B6E880\",\"pattern\":{\"shape\":\"\"}},\"name\":\"Waitr\",\"offsetgroup\":\"Waitr\",\"orientation\":\"v\",\"showlegend\":true,\"text\":[\"$10,000,000\"],\"textposition\":\"auto\",\"x\":[\"Waitr\"],\"xaxis\":\"x\",\"y\":[\"$10,000,000\"],\"yaxis\":\"y\",\"type\":\"bar\"},{\"alignmentgroup\":\"True\",\"hovertemplate\":\"Name=%{x}<br>Funding=%{text}<extra></extra>\",\"legendgroup\":\"Dolly\",\"marker\":{\"color\":\"#FF97FF\",\"pattern\":{\"shape\":\"\"}},\"name\":\"Dolly\",\"offsetgroup\":\"Dolly\",\"orientation\":\"v\",\"showlegend\":true,\"text\":[\"$9,700,000\"],\"textposition\":\"auto\",\"x\":[\"Dolly\"],\"xaxis\":\"x\",\"y\":[\"$9,700,000\"],\"yaxis\":\"y\",\"type\":\"bar\"},{\"alignmentgroup\":\"True\",\"hovertemplate\":\"Name=%{x}<br>Funding=%{text}<extra></extra>\",\"legendgroup\":\"GoPuff\",\"marker\":{\"color\":\"#FECB52\",\"pattern\":{\"shape\":\"\"}},\"name\":\"GoPuff\",\"offsetgroup\":\"GoPuff\",\"orientation\":\"v\",\"showlegend\":true,\"text\":[\"$8,300,000\"],\"textposition\":\"auto\",\"x\":[\"GoPuff\"],\"xaxis\":\"x\",\"y\":[\"$8,300,000\"],\"yaxis\":\"y\",\"type\":\"bar\"},{\"alignmentgroup\":\"True\",\"hovertemplate\":\"Name=%{x}<br>Funding=%{text}<extra></extra>\",\"legendgroup\":\"FoxTrot\",\"marker\":{\"color\":\"#636efa\",\"pattern\":{\"shape\":\"\"}},\"name\":\"FoxTrot\",\"offsetgroup\":\"FoxTrot\",\"orientation\":\"v\",\"showlegend\":true,\"text\":[\"$7,800,000\"],\"textposition\":\"auto\",\"x\":[\"FoxTrot\"],\"xaxis\":\"x\",\"y\":[\"$7,800,000\"],\"yaxis\":\"y\",\"type\":\"bar\"},{\"alignmentgroup\":\"True\",\"hovertemplate\":\"Name=%{x}<br>Funding=%{text}<extra></extra>\",\"legendgroup\":\"BloomThat\",\"marker\":{\"color\":\"#EF553B\",\"pattern\":{\"shape\":\"\"}},\"name\":\"BloomThat\",\"offsetgroup\":\"BloomThat\",\"orientation\":\"v\",\"showlegend\":true,\"text\":[\"$7,700,000\"],\"textposition\":\"auto\",\"x\":[\"BloomThat\"],\"xaxis\":\"x\",\"y\":[\"$7,700,000\"],\"yaxis\":\"y\",\"type\":\"bar\"},{\"alignmentgroup\":\"True\",\"hovertemplate\":\"Name=%{x}<br>Funding=%{text}<extra></extra>\",\"legendgroup\":\"Tablelist\",\"marker\":{\"color\":\"#00cc96\",\"pattern\":{\"shape\":\"\"}},\"name\":\"Tablelist\",\"offsetgroup\":\"Tablelist\",\"orientation\":\"v\",\"showlegend\":true,\"text\":[\"$7,400,000\"],\"textposition\":\"auto\",\"x\":[\"Tablelist\"],\"xaxis\":\"x\",\"y\":[\"$7,400,000\"],\"yaxis\":\"y\",\"type\":\"bar\"},{\"alignmentgroup\":\"True\",\"hovertemplate\":\"Name=%{x}<br>Funding=%{text}<extra></extra>\",\"legendgroup\":\"Cleanly\",\"marker\":{\"color\":\"#ab63fa\",\"pattern\":{\"shape\":\"\"}},\"name\":\"Cleanly\",\"offsetgroup\":\"Cleanly\",\"orientation\":\"v\",\"showlegend\":true,\"text\":[\"$7,300,000\"],\"textposition\":\"auto\",\"x\":[\"Cleanly\"],\"xaxis\":\"x\",\"y\":[\"$7,300,000\"],\"yaxis\":\"y\",\"type\":\"bar\"},{\"alignmentgroup\":\"True\",\"hovertemplate\":\"Name=%{x}<br>Funding=%{text}<extra></extra>\",\"legendgroup\":\"Plowz and Mowz\",\"marker\":{\"color\":\"#FFA15A\",\"pattern\":{\"shape\":\"\"}},\"name\":\"Plowz and Mowz\",\"offsetgroup\":\"Plowz and Mowz\",\"orientation\":\"v\",\"showlegend\":true,\"text\":[\"$7,000,000\"],\"textposition\":\"auto\",\"x\":[\"Plowz and Mowz\"],\"xaxis\":\"x\",\"y\":[\"$7,000,000\"],\"yaxis\":\"y\",\"type\":\"bar\"},{\"alignmentgroup\":\"True\",\"hovertemplate\":\"Name=%{x}<br>Funding=%{text}<extra></extra>\",\"legendgroup\":\"Minibar\",\"marker\":{\"color\":\"#19d3f3\",\"pattern\":{\"shape\":\"\"}},\"name\":\"Minibar\",\"offsetgroup\":\"Minibar\",\"orientation\":\"v\",\"showlegend\":true,\"text\":[\"$6,800,000\"],\"textposition\":\"auto\",\"x\":[\"Minibar\"],\"xaxis\":\"x\",\"y\":[\"$6,800,000\"],\"yaxis\":\"y\",\"type\":\"bar\"},{\"alignmentgroup\":\"True\",\"hovertemplate\":\"Name=%{x}<br>Funding=%{text}<extra></extra>\",\"legendgroup\":\"Curbstand\",\"marker\":{\"color\":\"#FF6692\",\"pattern\":{\"shape\":\"\"}},\"name\":\"Curbstand\",\"offsetgroup\":\"Curbstand\",\"orientation\":\"v\",\"showlegend\":true,\"text\":[\"$6,500,000\"],\"textposition\":\"auto\",\"x\":[\"Curbstand\"],\"xaxis\":\"x\",\"y\":[\"$6,500,000\"],\"yaxis\":\"y\",\"type\":\"bar\"},{\"alignmentgroup\":\"True\",\"hovertemplate\":\"Name=%{x}<br>Funding=%{text}<extra></extra>\",\"legendgroup\":\"Cherry\",\"marker\":{\"color\":\"#B6E880\",\"pattern\":{\"shape\":\"\"}},\"name\":\"Cherry\",\"offsetgroup\":\"Cherry\",\"orientation\":\"v\",\"showlegend\":true,\"text\":[\"$5,250,000\"],\"textposition\":\"auto\",\"x\":[\"Cherry\"],\"xaxis\":\"x\",\"y\":[\"$5,250,000\"],\"yaxis\":\"y\",\"type\":\"bar\"},{\"alignmentgroup\":\"True\",\"hovertemplate\":\"Name=%{x}<br>Funding=%{text}<extra></extra>\",\"legendgroup\":\"Jitjajo\",\"marker\":{\"color\":\"#FF97FF\",\"pattern\":{\"shape\":\"\"}},\"name\":\"Jitjajo\",\"offsetgroup\":\"Jitjajo\",\"orientation\":\"v\",\"showlegend\":true,\"text\":[\"$5,000,000\"],\"textposition\":\"auto\",\"x\":[\"Jitjajo\"],\"xaxis\":\"x\",\"y\":[\"$5,000,000\"],\"yaxis\":\"y\",\"type\":\"bar\"},{\"alignmentgroup\":\"True\",\"hovertemplate\":\"Name=%{x}<br>Funding=%{text}<extra></extra>\",\"legendgroup\":\"Manicube\",\"marker\":{\"color\":\"#FECB52\",\"pattern\":{\"shape\":\"\"}},\"name\":\"Manicube\",\"offsetgroup\":\"Manicube\",\"orientation\":\"v\",\"showlegend\":true,\"text\":[\"$5,000,000\"],\"textposition\":\"auto\",\"x\":[\"Manicube\"],\"xaxis\":\"x\",\"y\":[\"$5,000,000\"],\"yaxis\":\"y\",\"type\":\"bar\"},{\"alignmentgroup\":\"True\",\"hovertemplate\":\"Name=%{x}<br>Funding=%{text}<extra></extra>\",\"legendgroup\":\"LoungeBuddy\",\"marker\":{\"color\":\"#636efa\",\"pattern\":{\"shape\":\"\"}},\"name\":\"LoungeBuddy\",\"offsetgroup\":\"LoungeBuddy\",\"orientation\":\"v\",\"showlegend\":true,\"text\":[\"$4,000,000\"],\"textposition\":\"auto\",\"x\":[\"LoungeBuddy\"],\"xaxis\":\"x\",\"y\":[\"$4,000,000\"],\"yaxis\":\"y\",\"type\":\"bar\"},{\"alignmentgroup\":\"True\",\"hovertemplate\":\"Name=%{x}<br>Funding=%{text}<extra></extra>\",\"legendgroup\":\"Swipecast\",\"marker\":{\"color\":\"#EF553B\",\"pattern\":{\"shape\":\"\"}},\"name\":\"Swipecast\",\"offsetgroup\":\"Swipecast\",\"orientation\":\"v\",\"showlegend\":true,\"text\":[\"$4,000,000\"],\"textposition\":\"auto\",\"x\":[\"Swipecast\"],\"xaxis\":\"x\",\"y\":[\"$4,000,000\"],\"yaxis\":\"y\",\"type\":\"bar\"},{\"alignmentgroup\":\"True\",\"hovertemplate\":\"Name=%{x}<br>Funding=%{text}<extra></extra>\",\"legendgroup\":\"Thirstie\",\"marker\":{\"color\":\"#00cc96\",\"pattern\":{\"shape\":\"\"}},\"name\":\"Thirstie\",\"offsetgroup\":\"Thirstie\",\"orientation\":\"v\",\"showlegend\":true,\"text\":[\"$4,000,000\"],\"textposition\":\"auto\",\"x\":[\"Thirstie\"],\"xaxis\":\"x\",\"y\":[\"$4,000,000\"],\"yaxis\":\"y\",\"type\":\"bar\"},{\"alignmentgroup\":\"True\",\"hovertemplate\":\"Name=%{x}<br>Funding=%{text}<extra></extra>\",\"legendgroup\":\"Lugg\",\"marker\":{\"color\":\"#ab63fa\",\"pattern\":{\"shape\":\"\"}},\"name\":\"Lugg\",\"offsetgroup\":\"Lugg\",\"orientation\":\"v\",\"showlegend\":true,\"text\":[\"$3,900,000\"],\"textposition\":\"auto\",\"x\":[\"Lugg\"],\"xaxis\":\"x\",\"y\":[\"$3,900,000\"],\"yaxis\":\"y\",\"type\":\"bar\"},{\"alignmentgroup\":\"True\",\"hovertemplate\":\"Name=%{x}<br>Funding=%{text}<extra></extra>\",\"legendgroup\":\"Exec\",\"marker\":{\"color\":\"#FFA15A\",\"pattern\":{\"shape\":\"\"}},\"name\":\"Exec\",\"offsetgroup\":\"Exec\",\"orientation\":\"v\",\"showlegend\":true,\"text\":[\"$3,300,000\"],\"textposition\":\"auto\",\"x\":[\"Exec\"],\"xaxis\":\"x\",\"y\":[\"$3,300,000\"],\"yaxis\":\"y\",\"type\":\"bar\"},{\"alignmentgroup\":\"True\",\"hovertemplate\":\"Name=%{x}<br>Funding=%{text}<extra></extra>\",\"legendgroup\":\"Vetted\",\"marker\":{\"color\":\"#19d3f3\",\"pattern\":{\"shape\":\"\"}},\"name\":\"Vetted\",\"offsetgroup\":\"Vetted\",\"orientation\":\"v\",\"showlegend\":true,\"text\":[\"$3,300,000\"],\"textposition\":\"auto\",\"x\":[\"Vetted\"],\"xaxis\":\"x\",\"y\":[\"$3,300,000\"],\"yaxis\":\"y\",\"type\":\"bar\"},{\"alignmentgroup\":\"True\",\"hovertemplate\":\"Name=%{x}<br>Funding=%{text}<extra></extra>\",\"legendgroup\":\"BlackJet\",\"marker\":{\"color\":\"#FF6692\",\"pattern\":{\"shape\":\"\"}},\"name\":\"BlackJet\",\"offsetgroup\":\"BlackJet\",\"orientation\":\"v\",\"showlegend\":true,\"text\":[\"$3,100,000\"],\"textposition\":\"auto\",\"x\":[\"BlackJet\"],\"xaxis\":\"x\",\"y\":[\"$3,100,000\"],\"yaxis\":\"y\",\"type\":\"bar\"},{\"alignmentgroup\":\"True\",\"hovertemplate\":\"Name=%{x}<br>Funding=%{text}<extra></extra>\",\"legendgroup\":\"Swifto\",\"marker\":{\"color\":\"#B6E880\",\"pattern\":{\"shape\":\"\"}},\"name\":\"Swifto\",\"offsetgroup\":\"Swifto\",\"orientation\":\"v\",\"showlegend\":true,\"text\":[\"$2,500,000\"],\"textposition\":\"auto\",\"x\":[\"Swifto\"],\"xaxis\":\"x\",\"y\":[\"$2,500,000\"],\"yaxis\":\"y\",\"type\":\"bar\"},{\"alignmentgroup\":\"True\",\"hovertemplate\":\"Name=%{x}<br>Funding=%{text}<extra></extra>\",\"legendgroup\":\"Geekatoo\",\"marker\":{\"color\":\"#FF97FF\",\"pattern\":{\"shape\":\"\"}},\"name\":\"Geekatoo\",\"offsetgroup\":\"Geekatoo\",\"orientation\":\"v\",\"showlegend\":true,\"text\":[\"$2,200,000\"],\"textposition\":\"auto\",\"x\":[\"Geekatoo\"],\"xaxis\":\"x\",\"y\":[\"$2,200,000\"],\"yaxis\":\"y\",\"type\":\"bar\"},{\"alignmentgroup\":\"True\",\"hovertemplate\":\"Name=%{x}<br>Funding=%{text}<extra></extra>\",\"legendgroup\":\"FlyCleaners\",\"marker\":{\"color\":\"#FECB52\",\"pattern\":{\"shape\":\"\"}},\"name\":\"FlyCleaners\",\"offsetgroup\":\"FlyCleaners\",\"orientation\":\"v\",\"showlegend\":true,\"text\":[\"$2,000,000\"],\"textposition\":\"auto\",\"x\":[\"FlyCleaners\"],\"xaxis\":\"x\",\"y\":[\"$2,000,000\"],\"yaxis\":\"y\",\"type\":\"bar\"},{\"alignmentgroup\":\"True\",\"hovertemplate\":\"Name=%{x}<br>Funding=%{text}<extra></extra>\",\"legendgroup\":\"Lawn Love\",\"marker\":{\"color\":\"#636efa\",\"pattern\":{\"shape\":\"\"}},\"name\":\"Lawn Love\",\"offsetgroup\":\"Lawn Love\",\"orientation\":\"v\",\"showlegend\":true,\"text\":[\"$1,900,000\"],\"textposition\":\"auto\",\"x\":[\"Lawn Love\"],\"xaxis\":\"x\",\"y\":[\"$1,900,000\"],\"yaxis\":\"y\",\"type\":\"bar\"},{\"alignmentgroup\":\"True\",\"hovertemplate\":\"Name=%{x}<br>Funding=%{text}<extra></extra>\",\"legendgroup\":\"Medicast\",\"marker\":{\"color\":\"#EF553B\",\"pattern\":{\"shape\":\"\"}},\"name\":\"Medicast\",\"offsetgroup\":\"Medicast\",\"orientation\":\"v\",\"showlegend\":true,\"text\":[\"$1,900,000\"],\"textposition\":\"auto\",\"x\":[\"Medicast\"],\"xaxis\":\"x\",\"y\":[\"$1,900,000\"],\"yaxis\":\"y\",\"type\":\"bar\"},{\"alignmentgroup\":\"True\",\"hovertemplate\":\"Name=%{x}<br>Funding=%{text}<extra></extra>\",\"legendgroup\":\"RingaDoc\",\"marker\":{\"color\":\"#00cc96\",\"pattern\":{\"shape\":\"\"}},\"name\":\"RingaDoc\",\"offsetgroup\":\"RingaDoc\",\"orientation\":\"v\",\"showlegend\":true,\"text\":[\"$1,900,000\"],\"textposition\":\"auto\",\"x\":[\"RingaDoc\"],\"xaxis\":\"x\",\"y\":[\"$1,900,000\"],\"yaxis\":\"y\",\"type\":\"bar\"},{\"alignmentgroup\":\"True\",\"hovertemplate\":\"Name=%{x}<br>Funding=%{text}<extra></extra>\",\"legendgroup\":\"Tutorspree\",\"marker\":{\"color\":\"#ab63fa\",\"pattern\":{\"shape\":\"\"}},\"name\":\"Tutorspree\",\"offsetgroup\":\"Tutorspree\",\"orientation\":\"v\",\"showlegend\":true,\"text\":[\"$1,800,000\"],\"textposition\":\"auto\",\"x\":[\"Tutorspree\"],\"xaxis\":\"x\",\"y\":[\"$1,800,000\"],\"yaxis\":\"y\",\"type\":\"bar\"},{\"alignmentgroup\":\"True\",\"hovertemplate\":\"Name=%{x}<br>Funding=%{text}<extra></extra>\",\"legendgroup\":\"Changelane\",\"marker\":{\"color\":\"#FFA15A\",\"pattern\":{\"shape\":\"\"}},\"name\":\"Changelane\",\"offsetgroup\":\"Changelane\",\"orientation\":\"v\",\"showlegend\":true,\"text\":[\"$1,200,000\"],\"textposition\":\"auto\",\"x\":[\"Changelane\"],\"xaxis\":\"x\",\"y\":[\"$1,200,000\"],\"yaxis\":\"y\",\"type\":\"bar\"},{\"alignmentgroup\":\"True\",\"hovertemplate\":\"Name=%{x}<br>Funding=%{text}<extra></extra>\",\"legendgroup\":\"Flinja\",\"marker\":{\"color\":\"#19d3f3\",\"pattern\":{\"shape\":\"\"}},\"name\":\"Flinja\",\"offsetgroup\":\"Flinja\",\"orientation\":\"v\",\"showlegend\":true,\"text\":[\"$1,200,000\"],\"textposition\":\"auto\",\"x\":[\"Flinja\"],\"xaxis\":\"x\",\"y\":[\"$1,200,000\"],\"yaxis\":\"y\",\"type\":\"bar\"},{\"alignmentgroup\":\"True\",\"hovertemplate\":\"Name=%{x}<br>Funding=%{text}<extra></extra>\",\"legendgroup\":\"VetPronto\",\"marker\":{\"color\":\"#FF6692\",\"pattern\":{\"shape\":\"\"}},\"name\":\"VetPronto\",\"offsetgroup\":\"VetPronto\",\"orientation\":\"v\",\"showlegend\":true,\"text\":[\"$1,100,000\"],\"textposition\":\"auto\",\"x\":[\"VetPronto\"],\"xaxis\":\"x\",\"y\":[\"$1,100,000\"],\"yaxis\":\"y\",\"type\":\"bar\"},{\"alignmentgroup\":\"True\",\"hovertemplate\":\"Name=%{x}<br>Funding=%{text}<extra></extra>\",\"legendgroup\":\"Doughbies\",\"marker\":{\"color\":\"#B6E880\",\"pattern\":{\"shape\":\"\"}},\"name\":\"Doughbies\",\"offsetgroup\":\"Doughbies\",\"orientation\":\"v\",\"showlegend\":true,\"text\":[\"$670,000\"],\"textposition\":\"auto\",\"x\":[\"Doughbies\"],\"xaxis\":\"x\",\"y\":[\"$670,000\"],\"yaxis\":\"y\",\"type\":\"bar\"},{\"alignmentgroup\":\"True\",\"hovertemplate\":\"Name=%{x}<br>Funding=%{text}<extra></extra>\",\"legendgroup\":\"SixDoors\",\"marker\":{\"color\":\"#FF97FF\",\"pattern\":{\"shape\":\"\"}},\"name\":\"SixDoors\",\"offsetgroup\":\"SixDoors\",\"orientation\":\"v\",\"showlegend\":true,\"text\":[\"$650,000\"],\"textposition\":\"auto\",\"x\":[\"SixDoors\"],\"xaxis\":\"x\",\"y\":[\"$650,000\"],\"yaxis\":\"y\",\"type\":\"bar\"},{\"alignmentgroup\":\"True\",\"hovertemplate\":\"Name=%{x}<br>Funding=%{text}<extra></extra>\",\"legendgroup\":\"JetMe\",\"marker\":{\"color\":\"#FECB52\",\"pattern\":{\"shape\":\"\"}},\"name\":\"JetMe\",\"offsetgroup\":\"JetMe\",\"orientation\":\"v\",\"showlegend\":true,\"text\":[\"$400,000\"],\"textposition\":\"auto\",\"x\":[\"JetMe\"],\"xaxis\":\"x\",\"y\":[\"$400,000\"],\"yaxis\":\"y\",\"type\":\"bar\"},{\"alignmentgroup\":\"True\",\"hovertemplate\":\"Name=%{x}<br>Funding=%{text}<extra></extra>\",\"legendgroup\":\"BottlesTonight\",\"marker\":{\"color\":\"#636efa\",\"pattern\":{\"shape\":\"\"}},\"name\":\"BottlesTonight\",\"offsetgroup\":\"BottlesTonight\",\"orientation\":\"v\",\"showlegend\":true,\"text\":[\"$260,000\"],\"textposition\":\"auto\",\"x\":[\"BottlesTonight\"],\"xaxis\":\"x\",\"y\":[\"$260,000\"],\"yaxis\":\"y\",\"type\":\"bar\"},{\"alignmentgroup\":\"True\",\"hovertemplate\":\"Name=%{x}<br>Funding=%{text}<extra></extra>\",\"legendgroup\":\"Shortcut\",\"marker\":{\"color\":\"#EF553B\",\"pattern\":{\"shape\":\"\"}},\"name\":\"Shortcut\",\"offsetgroup\":\"Shortcut\",\"orientation\":\"v\",\"showlegend\":true,\"text\":[\"$215,000\"],\"textposition\":\"auto\",\"x\":[\"Shortcut\"],\"xaxis\":\"x\",\"y\":[\"$215,000\"],\"yaxis\":\"y\",\"type\":\"bar\"},{\"alignmentgroup\":\"True\",\"hovertemplate\":\"Name=%{x}<br>Funding=%{text}<extra></extra>\",\"legendgroup\":\"Laborocity\",\"marker\":{\"color\":\"#00cc96\",\"pattern\":{\"shape\":\"\"}},\"name\":\"Laborocity\",\"offsetgroup\":\"Laborocity\",\"orientation\":\"v\",\"showlegend\":true,\"text\":[\"$125,000\"],\"textposition\":\"auto\",\"x\":[\"Laborocity\"],\"xaxis\":\"x\",\"y\":[\"$125,000\"],\"yaxis\":\"y\",\"type\":\"bar\"},{\"alignmentgroup\":\"True\",\"hovertemplate\":\"Name=%{x}<br>Funding=%{text}<extra></extra>\",\"legendgroup\":\"StyleBee\",\"marker\":{\"color\":\"#ab63fa\",\"pattern\":{\"shape\":\"\"}},\"name\":\"StyleBee\",\"offsetgroup\":\"StyleBee\",\"orientation\":\"v\",\"showlegend\":true,\"text\":[\"$120,000\"],\"textposition\":\"auto\",\"x\":[\"StyleBee\"],\"xaxis\":\"x\",\"y\":[\"$120,000\"],\"yaxis\":\"y\",\"type\":\"bar\"},{\"alignmentgroup\":\"True\",\"hovertemplate\":\"Name=%{x}<br>Funding=%{text}<extra></extra>\",\"legendgroup\":\"Dinnr\",\"marker\":{\"color\":\"#FFA15A\",\"pattern\":{\"shape\":\"\"}},\"name\":\"Dinnr\",\"offsetgroup\":\"Dinnr\",\"orientation\":\"v\",\"showlegend\":true,\"text\":[\"$90,700\"],\"textposition\":\"auto\",\"x\":[\"Dinnr\"],\"xaxis\":\"x\",\"y\":[\"$90,700\"],\"yaxis\":\"y\",\"type\":\"bar\"}],                        {\"template\":{\"data\":{\"bar\":[{\"error_x\":{\"color\":\"#2a3f5f\"},\"error_y\":{\"color\":\"#2a3f5f\"},\"marker\":{\"line\":{\"color\":\"#E5ECF6\",\"width\":0.5},\"pattern\":{\"fillmode\":\"overlay\",\"size\":10,\"solidity\":0.2}},\"type\":\"bar\"}],\"barpolar\":[{\"marker\":{\"line\":{\"color\":\"#E5ECF6\",\"width\":0.5},\"pattern\":{\"fillmode\":\"overlay\",\"size\":10,\"solidity\":0.2}},\"type\":\"barpolar\"}],\"carpet\":[{\"aaxis\":{\"endlinecolor\":\"#2a3f5f\",\"gridcolor\":\"white\",\"linecolor\":\"white\",\"minorgridcolor\":\"white\",\"startlinecolor\":\"#2a3f5f\"},\"baxis\":{\"endlinecolor\":\"#2a3f5f\",\"gridcolor\":\"white\",\"linecolor\":\"white\",\"minorgridcolor\":\"white\",\"startlinecolor\":\"#2a3f5f\"},\"type\":\"carpet\"}],\"choropleth\":[{\"colorbar\":{\"outlinewidth\":0,\"ticks\":\"\"},\"type\":\"choropleth\"}],\"contour\":[{\"colorbar\":{\"outlinewidth\":0,\"ticks\":\"\"},\"colorscale\":[[0.0,\"#0d0887\"],[0.1111111111111111,\"#46039f\"],[0.2222222222222222,\"#7201a8\"],[0.3333333333333333,\"#9c179e\"],[0.4444444444444444,\"#bd3786\"],[0.5555555555555556,\"#d8576b\"],[0.6666666666666666,\"#ed7953\"],[0.7777777777777778,\"#fb9f3a\"],[0.8888888888888888,\"#fdca26\"],[1.0,\"#f0f921\"]],\"type\":\"contour\"}],\"contourcarpet\":[{\"colorbar\":{\"outlinewidth\":0,\"ticks\":\"\"},\"type\":\"contourcarpet\"}],\"heatmap\":[{\"colorbar\":{\"outlinewidth\":0,\"ticks\":\"\"},\"colorscale\":[[0.0,\"#0d0887\"],[0.1111111111111111,\"#46039f\"],[0.2222222222222222,\"#7201a8\"],[0.3333333333333333,\"#9c179e\"],[0.4444444444444444,\"#bd3786\"],[0.5555555555555556,\"#d8576b\"],[0.6666666666666666,\"#ed7953\"],[0.7777777777777778,\"#fb9f3a\"],[0.8888888888888888,\"#fdca26\"],[1.0,\"#f0f921\"]],\"type\":\"heatmap\"}],\"heatmapgl\":[{\"colorbar\":{\"outlinewidth\":0,\"ticks\":\"\"},\"colorscale\":[[0.0,\"#0d0887\"],[0.1111111111111111,\"#46039f\"],[0.2222222222222222,\"#7201a8\"],[0.3333333333333333,\"#9c179e\"],[0.4444444444444444,\"#bd3786\"],[0.5555555555555556,\"#d8576b\"],[0.6666666666666666,\"#ed7953\"],[0.7777777777777778,\"#fb9f3a\"],[0.8888888888888888,\"#fdca26\"],[1.0,\"#f0f921\"]],\"type\":\"heatmapgl\"}],\"histogram\":[{\"marker\":{\"pattern\":{\"fillmode\":\"overlay\",\"size\":10,\"solidity\":0.2}},\"type\":\"histogram\"}],\"histogram2d\":[{\"colorbar\":{\"outlinewidth\":0,\"ticks\":\"\"},\"colorscale\":[[0.0,\"#0d0887\"],[0.1111111111111111,\"#46039f\"],[0.2222222222222222,\"#7201a8\"],[0.3333333333333333,\"#9c179e\"],[0.4444444444444444,\"#bd3786\"],[0.5555555555555556,\"#d8576b\"],[0.6666666666666666,\"#ed7953\"],[0.7777777777777778,\"#fb9f3a\"],[0.8888888888888888,\"#fdca26\"],[1.0,\"#f0f921\"]],\"type\":\"histogram2d\"}],\"histogram2dcontour\":[{\"colorbar\":{\"outlinewidth\":0,\"ticks\":\"\"},\"colorscale\":[[0.0,\"#0d0887\"],[0.1111111111111111,\"#46039f\"],[0.2222222222222222,\"#7201a8\"],[0.3333333333333333,\"#9c179e\"],[0.4444444444444444,\"#bd3786\"],[0.5555555555555556,\"#d8576b\"],[0.6666666666666666,\"#ed7953\"],[0.7777777777777778,\"#fb9f3a\"],[0.8888888888888888,\"#fdca26\"],[1.0,\"#f0f921\"]],\"type\":\"histogram2dcontour\"}],\"mesh3d\":[{\"colorbar\":{\"outlinewidth\":0,\"ticks\":\"\"},\"type\":\"mesh3d\"}],\"parcoords\":[{\"line\":{\"colorbar\":{\"outlinewidth\":0,\"ticks\":\"\"}},\"type\":\"parcoords\"}],\"pie\":[{\"automargin\":true,\"type\":\"pie\"}],\"scatter\":[{\"marker\":{\"colorbar\":{\"outlinewidth\":0,\"ticks\":\"\"}},\"type\":\"scatter\"}],\"scatter3d\":[{\"line\":{\"colorbar\":{\"outlinewidth\":0,\"ticks\":\"\"}},\"marker\":{\"colorbar\":{\"outlinewidth\":0,\"ticks\":\"\"}},\"type\":\"scatter3d\"}],\"scattercarpet\":[{\"marker\":{\"colorbar\":{\"outlinewidth\":0,\"ticks\":\"\"}},\"type\":\"scattercarpet\"}],\"scattergeo\":[{\"marker\":{\"colorbar\":{\"outlinewidth\":0,\"ticks\":\"\"}},\"type\":\"scattergeo\"}],\"scattergl\":[{\"marker\":{\"colorbar\":{\"outlinewidth\":0,\"ticks\":\"\"}},\"type\":\"scattergl\"}],\"scattermapbox\":[{\"marker\":{\"colorbar\":{\"outlinewidth\":0,\"ticks\":\"\"}},\"type\":\"scattermapbox\"}],\"scatterpolar\":[{\"marker\":{\"colorbar\":{\"outlinewidth\":0,\"ticks\":\"\"}},\"type\":\"scatterpolar\"}],\"scatterpolargl\":[{\"marker\":{\"colorbar\":{\"outlinewidth\":0,\"ticks\":\"\"}},\"type\":\"scatterpolargl\"}],\"scatterternary\":[{\"marker\":{\"colorbar\":{\"outlinewidth\":0,\"ticks\":\"\"}},\"type\":\"scatterternary\"}],\"surface\":[{\"colorbar\":{\"outlinewidth\":0,\"ticks\":\"\"},\"colorscale\":[[0.0,\"#0d0887\"],[0.1111111111111111,\"#46039f\"],[0.2222222222222222,\"#7201a8\"],[0.3333333333333333,\"#9c179e\"],[0.4444444444444444,\"#bd3786\"],[0.5555555555555556,\"#d8576b\"],[0.6666666666666666,\"#ed7953\"],[0.7777777777777778,\"#fb9f3a\"],[0.8888888888888888,\"#fdca26\"],[1.0,\"#f0f921\"]],\"type\":\"surface\"}],\"table\":[{\"cells\":{\"fill\":{\"color\":\"#EBF0F8\"},\"line\":{\"color\":\"white\"}},\"header\":{\"fill\":{\"color\":\"#C8D4E3\"},\"line\":{\"color\":\"white\"}},\"type\":\"table\"}]},\"layout\":{\"annotationdefaults\":{\"arrowcolor\":\"#2a3f5f\",\"arrowhead\":0,\"arrowwidth\":1},\"autotypenumbers\":\"strict\",\"coloraxis\":{\"colorbar\":{\"outlinewidth\":0,\"ticks\":\"\"}},\"colorscale\":{\"diverging\":[[0,\"#8e0152\"],[0.1,\"#c51b7d\"],[0.2,\"#de77ae\"],[0.3,\"#f1b6da\"],[0.4,\"#fde0ef\"],[0.5,\"#f7f7f7\"],[0.6,\"#e6f5d0\"],[0.7,\"#b8e186\"],[0.8,\"#7fbc41\"],[0.9,\"#4d9221\"],[1,\"#276419\"]],\"sequential\":[[0.0,\"#0d0887\"],[0.1111111111111111,\"#46039f\"],[0.2222222222222222,\"#7201a8\"],[0.3333333333333333,\"#9c179e\"],[0.4444444444444444,\"#bd3786\"],[0.5555555555555556,\"#d8576b\"],[0.6666666666666666,\"#ed7953\"],[0.7777777777777778,\"#fb9f3a\"],[0.8888888888888888,\"#fdca26\"],[1.0,\"#f0f921\"]],\"sequentialminus\":[[0.0,\"#0d0887\"],[0.1111111111111111,\"#46039f\"],[0.2222222222222222,\"#7201a8\"],[0.3333333333333333,\"#9c179e\"],[0.4444444444444444,\"#bd3786\"],[0.5555555555555556,\"#d8576b\"],[0.6666666666666666,\"#ed7953\"],[0.7777777777777778,\"#fb9f3a\"],[0.8888888888888888,\"#fdca26\"],[1.0,\"#f0f921\"]]},\"colorway\":[\"#636efa\",\"#EF553B\",\"#00cc96\",\"#ab63fa\",\"#FFA15A\",\"#19d3f3\",\"#FF6692\",\"#B6E880\",\"#FF97FF\",\"#FECB52\"],\"font\":{\"color\":\"#2a3f5f\"},\"geo\":{\"bgcolor\":\"white\",\"lakecolor\":\"white\",\"landcolor\":\"#E5ECF6\",\"showlakes\":true,\"showland\":true,\"subunitcolor\":\"white\"},\"hoverlabel\":{\"align\":\"left\"},\"hovermode\":\"closest\",\"mapbox\":{\"style\":\"light\"},\"paper_bgcolor\":\"white\",\"plot_bgcolor\":\"#E5ECF6\",\"polar\":{\"angularaxis\":{\"gridcolor\":\"white\",\"linecolor\":\"white\",\"ticks\":\"\"},\"bgcolor\":\"#E5ECF6\",\"radialaxis\":{\"gridcolor\":\"white\",\"linecolor\":\"white\",\"ticks\":\"\"}},\"scene\":{\"xaxis\":{\"backgroundcolor\":\"#E5ECF6\",\"gridcolor\":\"white\",\"gridwidth\":2,\"linecolor\":\"white\",\"showbackground\":true,\"ticks\":\"\",\"zerolinecolor\":\"white\"},\"yaxis\":{\"backgroundcolor\":\"#E5ECF6\",\"gridcolor\":\"white\",\"gridwidth\":2,\"linecolor\":\"white\",\"showbackground\":true,\"ticks\":\"\",\"zerolinecolor\":\"white\"},\"zaxis\":{\"backgroundcolor\":\"#E5ECF6\",\"gridcolor\":\"white\",\"gridwidth\":2,\"linecolor\":\"white\",\"showbackground\":true,\"ticks\":\"\",\"zerolinecolor\":\"white\"}},\"shapedefaults\":{\"line\":{\"color\":\"#2a3f5f\"}},\"ternary\":{\"aaxis\":{\"gridcolor\":\"white\",\"linecolor\":\"white\",\"ticks\":\"\"},\"baxis\":{\"gridcolor\":\"white\",\"linecolor\":\"white\",\"ticks\":\"\"},\"bgcolor\":\"#E5ECF6\",\"caxis\":{\"gridcolor\":\"white\",\"linecolor\":\"white\",\"ticks\":\"\"}},\"title\":{\"x\":0.05},\"xaxis\":{\"automargin\":true,\"gridcolor\":\"white\",\"linecolor\":\"white\",\"ticks\":\"\",\"title\":{\"standoff\":15},\"zerolinecolor\":\"white\",\"zerolinewidth\":2},\"yaxis\":{\"automargin\":true,\"gridcolor\":\"white\",\"linecolor\":\"white\",\"ticks\":\"\",\"title\":{\"standoff\":15},\"zerolinecolor\":\"white\",\"zerolinewidth\":2}}},\"xaxis\":{\"anchor\":\"y\",\"domain\":[0.0,1.0],\"title\":{\"text\":\"Name\"},\"categoryorder\":\"array\",\"categoryarray\":[\"BiteSquad\",\"Canary\",\"Bannerman\",\"Buttery\",\"Caarbon\",\"iCracked\",\"Prim\",\"Rewinery\",\"Unwind Me\",\"Vatler\",\"Washly\",\"Coaster\",\"DashLocker\",\"dVisit\",\"FloristNow\",\"FoodNow\",\"Handii\",\"KallDoc\",\"Nimbl\",\"Squeegy \",\"Worthee\",\"Instacart\",\"DoorDash\",\"Postmates\",\"Wag\",\"Rover\",\"GrubHub\",\"Boxed\",\"Blue Apron\",\"Doctor on Demand\",\"Munchery\",\"Eaze\",\"Handy\",\"Enjoy\",\"Soothe\",\"Heal\",\"Drizly\",\"HomeJoy\",\"Good Eggs\",\"Victor\",\"Shyp\",\"BellHops\",\"Shiftgig\",\"Wonolo\",\"TaskRabbit\",\"Bouqs Company\",\"HelloTech\",\"Nurx\",\"Chef'd\",\"Pager\",\"Urgently\",\"YourMechanic\",\"Honk\",\"Maple\",\"Upcounsel\",\"Operator\",\"Rinse\",\"HouseCall\",\"Spiffy\",\"Wrench\",\"Washio\",\"Workpop\",\"Urban\",\"FitMob\",\"Spoonrocket\",\"Zeel\",\"Saucey\",\"Waitr\",\"Dolly\",\"GoPuff\",\"FoxTrot\",\"BloomThat\",\"Tablelist\",\"Cleanly\",\"Plowz and Mowz\",\"Minibar\",\"Curbstand\",\"Cherry\",\"Jitjajo\",\"Manicube\",\"LoungeBuddy\",\"Swipecast\",\"Thirstie\",\"Lugg\",\"Exec\",\"Vetted\",\"BlackJet\",\"Swifto\",\"Geekatoo\",\"FlyCleaners\",\"Lawn Love\",\"Medicast\",\"RingaDoc\",\"Tutorspree\",\"Changelane\",\"Flinja\",\"VetPronto\",\"Doughbies\",\"SixDoors\",\"JetMe\",\"BottlesTonight\",\"Shortcut\",\"Laborocity\",\"StyleBee\",\"Dinnr\"]},\"yaxis\":{\"anchor\":\"x\",\"domain\":[0.0,1.0],\"title\":{\"text\":\"Funding\"}},\"legend\":{\"title\":{\"text\":\"Name\"},\"tracegroupgap\":0},\"margin\":{\"t\":60},\"barmode\":\"relative\"},                        {\"responsive\": true}                    ).then(function(){\n",
       "                            \n",
       "var gd = document.getElementById('c0fd70b2-d10a-4e01-88c5-3e9596fafeb7');\n",
       "var x = new MutationObserver(function (mutations, observer) {{\n",
       "        var display = window.getComputedStyle(gd).display;\n",
       "        if (!display || display === 'none') {{\n",
       "            console.log([gd, 'removed!']);\n",
       "            Plotly.purge(gd);\n",
       "            observer.disconnect();\n",
       "        }}\n",
       "}});\n",
       "\n",
       "// Listen for the removal of the full notebook cells\n",
       "var notebookContainer = gd.closest('#notebook-container');\n",
       "if (notebookContainer) {{\n",
       "    x.observe(notebookContainer, {childList: true});\n",
       "}}\n",
       "\n",
       "// Listen for the clearing of the current output cell\n",
       "var outputEl = gd.closest('.output');\n",
       "if (outputEl) {{\n",
       "    x.observe(outputEl, {childList: true});\n",
       "}}\n",
       "\n",
       "                        })                };                });            </script>        </div>"
      ]
     },
     "metadata": {},
     "output_type": "display_data"
    }
   ],
   "source": [
    "fig = px.bar(df, y='Funding', x='Name', text='Funding', color='Name')\n",
    "fig"
   ]
  },
  {
   "cell_type": "code",
   "execution_count": 52,
   "id": "73272601",
   "metadata": {
    "scrolled": false
   },
   "outputs": [
    {
     "data": {
      "application/vnd.plotly.v1+json": {
       "config": {
        "plotlyServerURL": "https://plot.ly"
       },
       "data": [
        {
         "alignmentgroup": "True",
         "hovertemplate": "Name=%{x}<br>Funding=%{y}<br>Fate=%{text}<br>Founded=%{marker.color}<extra></extra>",
         "legendgroup": "",
         "marker": {
          "color": [
           2012,
           2014,
           2014,
           2015,
           2014,
           2010,
           2013,
           2012,
           2013,
           2014,
           2011,
           2012,
           2012,
           2012,
           2012,
           2011,
           2012,
           2016,
           2014,
           2015,
           2013,
           2012,
           2013,
           2011,
           2014,
           2011,
           2004,
           2013,
           2012,
           2012,
           2011,
           2014,
           2012,
           2014,
           2013,
           2014,
           2012,
           2010,
           2011,
           2010,
           2018,
           2013,
           2012,
           2013,
           2008,
           2012,
           2014,
           2014,
           2013,
           2014,
           2013,
           2012,
           2014,
           2014,
           2012,
           2014,
           2013,
           2013,
           2014,
           2015,
           2013,
           2014,
           2014,
           2015,
           2013,
           2010,
           2013,
           2013,
           2013,
           2013,
           2013,
           2013,
           2013,
           2015,
           2013,
           2013,
           2013,
           2011,
           2015,
           2012,
           2013,
           2015,
           2013,
           2014,
           2011,
           2015,
           2012,
           2010,
           2010,
           2013,
           2014,
           2013,
           2010,
           2010,
           2014,
           2013,
           2014,
           2014,
           2013,
           2013,
           2013,
           2014,
           2014,
           2014,
           2012
          ],
          "coloraxis": "coloraxis",
          "pattern": {
           "shape": ""
          }
         },
         "name": "",
         "offsetgroup": "",
         "orientation": "v",
         "showlegend": false,
         "text": [
          "Acquired",
          "Gone",
          "Alive",
          "Acquired",
          "Gone",
          "Acquired",
          "Gone",
          "Gone",
          "Acquired",
          "Gone",
          "Gone",
          "Gone",
          "Gone",
          "Gone",
          "Gone",
          "Acquired",
          "Gone",
          "Gone",
          "Gone",
          "Gone",
          "Gone",
          "Unicorn",
          "Unicorn",
          "Unicorn",
          "Alive",
          "Alive",
          "Unicorn",
          "Alive",
          "Alive",
          "Alive",
          "Gone",
          "Alive",
          "Acquired",
          "Alive",
          "Alive",
          "Alive",
          "Alive",
          "Gone",
          "Alive",
          "Alive",
          "Gone",
          "Alive",
          "Alive",
          "Alive",
          "Acquired",
          "Alive",
          "Alive",
          "Alive",
          "Gone",
          "Alive",
          "Alive",
          "Alive",
          "Alive",
          "Acquired",
          "Alive",
          "Alive",
          "Alive",
          "Alive",
          "Alive",
          "Alive",
          "Gone",
          "Acquired",
          "Alive",
          "Acquired",
          "Acquired",
          "Alive",
          "Alive",
          "Alive",
          "Alive",
          "Alive",
          "Alive",
          "Acquired",
          "Alive",
          "Alive",
          "Alive",
          "Alive",
          "Alive",
          "Gone",
          "Alive",
          "Acquired",
          "Alive",
          "Alive",
          "Alive",
          "Alive",
          "Acquired",
          "Alive",
          "Gone",
          "Alive",
          "Acquired",
          "Alive",
          "Alive",
          "Acquired",
          "Acquired",
          "Acquired",
          "Gone",
          "Gone",
          "Acquired",
          "Gone",
          "Gone",
          "Gone",
          "Alive",
          "Alive",
          "Alive",
          "Alive",
          "Gone"
         ],
         "textposition": "auto",
         "type": "bar",
         "x": [
          "BiteSquad",
          "Canary",
          "Bannerman",
          "Buttery",
          "Caarbon",
          "iCracked",
          "Prim",
          "Rewinery",
          "Unwind Me",
          "Vatler",
          "Washly",
          "Coaster",
          "DashLocker",
          "dVisit",
          "FloristNow",
          "FoodNow",
          "Handii",
          "KallDoc",
          "Nimbl",
          "Squeegy ",
          "Worthee",
          "Instacart",
          "DoorDash",
          "Postmates",
          "Wag",
          "Rover",
          "GrubHub",
          "Boxed",
          "Blue Apron",
          "Doctor on Demand",
          "Munchery",
          "Eaze",
          "Handy",
          "Enjoy",
          "Soothe",
          "Heal",
          "Drizly",
          "HomeJoy",
          "Good Eggs",
          "Victor",
          "Shyp",
          "BellHops",
          "Shiftgig",
          "Wonolo",
          "TaskRabbit",
          "Bouqs Company",
          "HelloTech",
          "Nurx",
          "Chef'd",
          "Pager",
          "Urgently",
          "YourMechanic",
          "Honk",
          "Maple",
          "Upcounsel",
          "Operator",
          "Rinse",
          "HouseCall",
          "Spiffy",
          "Wrench",
          "Washio",
          "Workpop",
          "Urban",
          "FitMob",
          "Spoonrocket",
          "Zeel",
          "Saucey",
          "Waitr",
          "Dolly",
          "GoPuff",
          "FoxTrot",
          "BloomThat",
          "Tablelist",
          "Cleanly",
          "Plowz and Mowz",
          "Minibar",
          "Curbstand",
          "Cherry",
          "Jitjajo",
          "Manicube",
          "LoungeBuddy",
          "Swipecast",
          "Thirstie",
          "Lugg",
          "Exec",
          "Vetted",
          "BlackJet",
          "Swifto",
          "Geekatoo",
          "FlyCleaners",
          "Lawn Love",
          "Medicast",
          "RingaDoc",
          "Tutorspree",
          "Changelane",
          "Flinja",
          "VetPronto",
          "Doughbies",
          "SixDoors",
          "JetMe",
          "BottlesTonight",
          "Shortcut",
          "Laborocity",
          "StyleBee",
          "Dinnr"
         ],
         "xaxis": "x",
         "y": [
          "Self",
          "Self",
          "Seed",
          "Seed",
          "Seed",
          "Seed",
          "Seed",
          "Seed",
          "Seed",
          "Seed",
          "Seed",
          null,
          null,
          null,
          null,
          null,
          null,
          null,
          null,
          null,
          null,
          "$1,900,000,000",
          "$1,400,000,000",
          "$678,000,000",
          "$361,500,000",
          "$311,000,000",
          "$284,100,000",
          "$243,600,000",
          "$199,400,000",
          "$160,700,000",
          "$125,400,000",
          "$117,000,000",
          "$110,700,000",
          "$80,000,000",
          "$78,300,000",
          "$71,000,000",
          "$67,500,000",
          "$65,900,000",
          "$65,000,000",
          "$62,500,000",
          "$62,100,000",
          "$58,600,000",
          "$56,000,000",
          "$52,900,000",
          "$50,000,000",
          "$43,100,000",
          "$42,000,000",
          "$41,400,000",
          "$40,500,000",
          "$40,000,000",
          "$39,600,000",
          "$38,500,000",
          "$31,800,000",
          "$29,000,000",
          "$26,000,000",
          "$25,000,000",
          "$25,000,000",
          "$20,000,000",
          "$18,100,000",
          "$17,200,000",
          "$16,800,000",
          "$16,100,000",
          "$15,400,000",
          "$14,750,000",
          "$13,500,000",
          "$13,200,000",
          "$10,200,000",
          "$10,000,000",
          "$9,700,000",
          "$8,300,000",
          "$7,800,000",
          "$7,700,000",
          "$7,400,000",
          "$7,300,000",
          "$7,000,000",
          "$6,800,000",
          "$6,500,000",
          "$5,250,000",
          "$5,000,000",
          "$5,000,000",
          "$4,000,000",
          "$4,000,000",
          "$4,000,000",
          "$3,900,000",
          "$3,300,000",
          "$3,300,000",
          "$3,100,000",
          "$2,500,000",
          "$2,200,000",
          "$2,000,000",
          "$1,900,000",
          "$1,900,000",
          "$1,900,000",
          "$1,800,000",
          "$1,200,000",
          "$1,200,000",
          "$1,100,000",
          "$670,000",
          "$650,000",
          "$400,000",
          "$260,000",
          "$215,000",
          "$125,000",
          "$120,000",
          "$90,700"
         ],
         "yaxis": "y"
        }
       ],
       "layout": {
        "barmode": "relative",
        "coloraxis": {
         "colorbar": {
          "title": {
           "text": "Founded"
          }
         },
         "colorscale": [
          [
           0,
           "#0d0887"
          ],
          [
           0.1111111111111111,
           "#46039f"
          ],
          [
           0.2222222222222222,
           "#7201a8"
          ],
          [
           0.3333333333333333,
           "#9c179e"
          ],
          [
           0.4444444444444444,
           "#bd3786"
          ],
          [
           0.5555555555555556,
           "#d8576b"
          ],
          [
           0.6666666666666666,
           "#ed7953"
          ],
          [
           0.7777777777777778,
           "#fb9f3a"
          ],
          [
           0.8888888888888888,
           "#fdca26"
          ],
          [
           1,
           "#f0f921"
          ]
         ]
        },
        "legend": {
         "tracegroupgap": 0
        },
        "margin": {
         "t": 60
        },
        "template": {
         "data": {
          "bar": [
           {
            "error_x": {
             "color": "#2a3f5f"
            },
            "error_y": {
             "color": "#2a3f5f"
            },
            "marker": {
             "line": {
              "color": "#E5ECF6",
              "width": 0.5
             },
             "pattern": {
              "fillmode": "overlay",
              "size": 10,
              "solidity": 0.2
             }
            },
            "type": "bar"
           }
          ],
          "barpolar": [
           {
            "marker": {
             "line": {
              "color": "#E5ECF6",
              "width": 0.5
             },
             "pattern": {
              "fillmode": "overlay",
              "size": 10,
              "solidity": 0.2
             }
            },
            "type": "barpolar"
           }
          ],
          "carpet": [
           {
            "aaxis": {
             "endlinecolor": "#2a3f5f",
             "gridcolor": "white",
             "linecolor": "white",
             "minorgridcolor": "white",
             "startlinecolor": "#2a3f5f"
            },
            "baxis": {
             "endlinecolor": "#2a3f5f",
             "gridcolor": "white",
             "linecolor": "white",
             "minorgridcolor": "white",
             "startlinecolor": "#2a3f5f"
            },
            "type": "carpet"
           }
          ],
          "choropleth": [
           {
            "colorbar": {
             "outlinewidth": 0,
             "ticks": ""
            },
            "type": "choropleth"
           }
          ],
          "contour": [
           {
            "colorbar": {
             "outlinewidth": 0,
             "ticks": ""
            },
            "colorscale": [
             [
              0,
              "#0d0887"
             ],
             [
              0.1111111111111111,
              "#46039f"
             ],
             [
              0.2222222222222222,
              "#7201a8"
             ],
             [
              0.3333333333333333,
              "#9c179e"
             ],
             [
              0.4444444444444444,
              "#bd3786"
             ],
             [
              0.5555555555555556,
              "#d8576b"
             ],
             [
              0.6666666666666666,
              "#ed7953"
             ],
             [
              0.7777777777777778,
              "#fb9f3a"
             ],
             [
              0.8888888888888888,
              "#fdca26"
             ],
             [
              1,
              "#f0f921"
             ]
            ],
            "type": "contour"
           }
          ],
          "contourcarpet": [
           {
            "colorbar": {
             "outlinewidth": 0,
             "ticks": ""
            },
            "type": "contourcarpet"
           }
          ],
          "heatmap": [
           {
            "colorbar": {
             "outlinewidth": 0,
             "ticks": ""
            },
            "colorscale": [
             [
              0,
              "#0d0887"
             ],
             [
              0.1111111111111111,
              "#46039f"
             ],
             [
              0.2222222222222222,
              "#7201a8"
             ],
             [
              0.3333333333333333,
              "#9c179e"
             ],
             [
              0.4444444444444444,
              "#bd3786"
             ],
             [
              0.5555555555555556,
              "#d8576b"
             ],
             [
              0.6666666666666666,
              "#ed7953"
             ],
             [
              0.7777777777777778,
              "#fb9f3a"
             ],
             [
              0.8888888888888888,
              "#fdca26"
             ],
             [
              1,
              "#f0f921"
             ]
            ],
            "type": "heatmap"
           }
          ],
          "heatmapgl": [
           {
            "colorbar": {
             "outlinewidth": 0,
             "ticks": ""
            },
            "colorscale": [
             [
              0,
              "#0d0887"
             ],
             [
              0.1111111111111111,
              "#46039f"
             ],
             [
              0.2222222222222222,
              "#7201a8"
             ],
             [
              0.3333333333333333,
              "#9c179e"
             ],
             [
              0.4444444444444444,
              "#bd3786"
             ],
             [
              0.5555555555555556,
              "#d8576b"
             ],
             [
              0.6666666666666666,
              "#ed7953"
             ],
             [
              0.7777777777777778,
              "#fb9f3a"
             ],
             [
              0.8888888888888888,
              "#fdca26"
             ],
             [
              1,
              "#f0f921"
             ]
            ],
            "type": "heatmapgl"
           }
          ],
          "histogram": [
           {
            "marker": {
             "pattern": {
              "fillmode": "overlay",
              "size": 10,
              "solidity": 0.2
             }
            },
            "type": "histogram"
           }
          ],
          "histogram2d": [
           {
            "colorbar": {
             "outlinewidth": 0,
             "ticks": ""
            },
            "colorscale": [
             [
              0,
              "#0d0887"
             ],
             [
              0.1111111111111111,
              "#46039f"
             ],
             [
              0.2222222222222222,
              "#7201a8"
             ],
             [
              0.3333333333333333,
              "#9c179e"
             ],
             [
              0.4444444444444444,
              "#bd3786"
             ],
             [
              0.5555555555555556,
              "#d8576b"
             ],
             [
              0.6666666666666666,
              "#ed7953"
             ],
             [
              0.7777777777777778,
              "#fb9f3a"
             ],
             [
              0.8888888888888888,
              "#fdca26"
             ],
             [
              1,
              "#f0f921"
             ]
            ],
            "type": "histogram2d"
           }
          ],
          "histogram2dcontour": [
           {
            "colorbar": {
             "outlinewidth": 0,
             "ticks": ""
            },
            "colorscale": [
             [
              0,
              "#0d0887"
             ],
             [
              0.1111111111111111,
              "#46039f"
             ],
             [
              0.2222222222222222,
              "#7201a8"
             ],
             [
              0.3333333333333333,
              "#9c179e"
             ],
             [
              0.4444444444444444,
              "#bd3786"
             ],
             [
              0.5555555555555556,
              "#d8576b"
             ],
             [
              0.6666666666666666,
              "#ed7953"
             ],
             [
              0.7777777777777778,
              "#fb9f3a"
             ],
             [
              0.8888888888888888,
              "#fdca26"
             ],
             [
              1,
              "#f0f921"
             ]
            ],
            "type": "histogram2dcontour"
           }
          ],
          "mesh3d": [
           {
            "colorbar": {
             "outlinewidth": 0,
             "ticks": ""
            },
            "type": "mesh3d"
           }
          ],
          "parcoords": [
           {
            "line": {
             "colorbar": {
              "outlinewidth": 0,
              "ticks": ""
             }
            },
            "type": "parcoords"
           }
          ],
          "pie": [
           {
            "automargin": true,
            "type": "pie"
           }
          ],
          "scatter": [
           {
            "marker": {
             "colorbar": {
              "outlinewidth": 0,
              "ticks": ""
             }
            },
            "type": "scatter"
           }
          ],
          "scatter3d": [
           {
            "line": {
             "colorbar": {
              "outlinewidth": 0,
              "ticks": ""
             }
            },
            "marker": {
             "colorbar": {
              "outlinewidth": 0,
              "ticks": ""
             }
            },
            "type": "scatter3d"
           }
          ],
          "scattercarpet": [
           {
            "marker": {
             "colorbar": {
              "outlinewidth": 0,
              "ticks": ""
             }
            },
            "type": "scattercarpet"
           }
          ],
          "scattergeo": [
           {
            "marker": {
             "colorbar": {
              "outlinewidth": 0,
              "ticks": ""
             }
            },
            "type": "scattergeo"
           }
          ],
          "scattergl": [
           {
            "marker": {
             "colorbar": {
              "outlinewidth": 0,
              "ticks": ""
             }
            },
            "type": "scattergl"
           }
          ],
          "scattermapbox": [
           {
            "marker": {
             "colorbar": {
              "outlinewidth": 0,
              "ticks": ""
             }
            },
            "type": "scattermapbox"
           }
          ],
          "scatterpolar": [
           {
            "marker": {
             "colorbar": {
              "outlinewidth": 0,
              "ticks": ""
             }
            },
            "type": "scatterpolar"
           }
          ],
          "scatterpolargl": [
           {
            "marker": {
             "colorbar": {
              "outlinewidth": 0,
              "ticks": ""
             }
            },
            "type": "scatterpolargl"
           }
          ],
          "scatterternary": [
           {
            "marker": {
             "colorbar": {
              "outlinewidth": 0,
              "ticks": ""
             }
            },
            "type": "scatterternary"
           }
          ],
          "surface": [
           {
            "colorbar": {
             "outlinewidth": 0,
             "ticks": ""
            },
            "colorscale": [
             [
              0,
              "#0d0887"
             ],
             [
              0.1111111111111111,
              "#46039f"
             ],
             [
              0.2222222222222222,
              "#7201a8"
             ],
             [
              0.3333333333333333,
              "#9c179e"
             ],
             [
              0.4444444444444444,
              "#bd3786"
             ],
             [
              0.5555555555555556,
              "#d8576b"
             ],
             [
              0.6666666666666666,
              "#ed7953"
             ],
             [
              0.7777777777777778,
              "#fb9f3a"
             ],
             [
              0.8888888888888888,
              "#fdca26"
             ],
             [
              1,
              "#f0f921"
             ]
            ],
            "type": "surface"
           }
          ],
          "table": [
           {
            "cells": {
             "fill": {
              "color": "#EBF0F8"
             },
             "line": {
              "color": "white"
             }
            },
            "header": {
             "fill": {
              "color": "#C8D4E3"
             },
             "line": {
              "color": "white"
             }
            },
            "type": "table"
           }
          ]
         },
         "layout": {
          "annotationdefaults": {
           "arrowcolor": "#2a3f5f",
           "arrowhead": 0,
           "arrowwidth": 1
          },
          "autotypenumbers": "strict",
          "coloraxis": {
           "colorbar": {
            "outlinewidth": 0,
            "ticks": ""
           }
          },
          "colorscale": {
           "diverging": [
            [
             0,
             "#8e0152"
            ],
            [
             0.1,
             "#c51b7d"
            ],
            [
             0.2,
             "#de77ae"
            ],
            [
             0.3,
             "#f1b6da"
            ],
            [
             0.4,
             "#fde0ef"
            ],
            [
             0.5,
             "#f7f7f7"
            ],
            [
             0.6,
             "#e6f5d0"
            ],
            [
             0.7,
             "#b8e186"
            ],
            [
             0.8,
             "#7fbc41"
            ],
            [
             0.9,
             "#4d9221"
            ],
            [
             1,
             "#276419"
            ]
           ],
           "sequential": [
            [
             0,
             "#0d0887"
            ],
            [
             0.1111111111111111,
             "#46039f"
            ],
            [
             0.2222222222222222,
             "#7201a8"
            ],
            [
             0.3333333333333333,
             "#9c179e"
            ],
            [
             0.4444444444444444,
             "#bd3786"
            ],
            [
             0.5555555555555556,
             "#d8576b"
            ],
            [
             0.6666666666666666,
             "#ed7953"
            ],
            [
             0.7777777777777778,
             "#fb9f3a"
            ],
            [
             0.8888888888888888,
             "#fdca26"
            ],
            [
             1,
             "#f0f921"
            ]
           ],
           "sequentialminus": [
            [
             0,
             "#0d0887"
            ],
            [
             0.1111111111111111,
             "#46039f"
            ],
            [
             0.2222222222222222,
             "#7201a8"
            ],
            [
             0.3333333333333333,
             "#9c179e"
            ],
            [
             0.4444444444444444,
             "#bd3786"
            ],
            [
             0.5555555555555556,
             "#d8576b"
            ],
            [
             0.6666666666666666,
             "#ed7953"
            ],
            [
             0.7777777777777778,
             "#fb9f3a"
            ],
            [
             0.8888888888888888,
             "#fdca26"
            ],
            [
             1,
             "#f0f921"
            ]
           ]
          },
          "colorway": [
           "#636efa",
           "#EF553B",
           "#00cc96",
           "#ab63fa",
           "#FFA15A",
           "#19d3f3",
           "#FF6692",
           "#B6E880",
           "#FF97FF",
           "#FECB52"
          ],
          "font": {
           "color": "#2a3f5f"
          },
          "geo": {
           "bgcolor": "white",
           "lakecolor": "white",
           "landcolor": "#E5ECF6",
           "showlakes": true,
           "showland": true,
           "subunitcolor": "white"
          },
          "hoverlabel": {
           "align": "left"
          },
          "hovermode": "closest",
          "mapbox": {
           "style": "light"
          },
          "paper_bgcolor": "white",
          "plot_bgcolor": "#E5ECF6",
          "polar": {
           "angularaxis": {
            "gridcolor": "white",
            "linecolor": "white",
            "ticks": ""
           },
           "bgcolor": "#E5ECF6",
           "radialaxis": {
            "gridcolor": "white",
            "linecolor": "white",
            "ticks": ""
           }
          },
          "scene": {
           "xaxis": {
            "backgroundcolor": "#E5ECF6",
            "gridcolor": "white",
            "gridwidth": 2,
            "linecolor": "white",
            "showbackground": true,
            "ticks": "",
            "zerolinecolor": "white"
           },
           "yaxis": {
            "backgroundcolor": "#E5ECF6",
            "gridcolor": "white",
            "gridwidth": 2,
            "linecolor": "white",
            "showbackground": true,
            "ticks": "",
            "zerolinecolor": "white"
           },
           "zaxis": {
            "backgroundcolor": "#E5ECF6",
            "gridcolor": "white",
            "gridwidth": 2,
            "linecolor": "white",
            "showbackground": true,
            "ticks": "",
            "zerolinecolor": "white"
           }
          },
          "shapedefaults": {
           "line": {
            "color": "#2a3f5f"
           }
          },
          "ternary": {
           "aaxis": {
            "gridcolor": "white",
            "linecolor": "white",
            "ticks": ""
           },
           "baxis": {
            "gridcolor": "white",
            "linecolor": "white",
            "ticks": ""
           },
           "bgcolor": "#E5ECF6",
           "caxis": {
            "gridcolor": "white",
            "linecolor": "white",
            "ticks": ""
           }
          },
          "title": {
           "x": 0.05
          },
          "xaxis": {
           "automargin": true,
           "gridcolor": "white",
           "linecolor": "white",
           "ticks": "",
           "title": {
            "standoff": 15
           },
           "zerolinecolor": "white",
           "zerolinewidth": 2
          },
          "yaxis": {
           "automargin": true,
           "gridcolor": "white",
           "linecolor": "white",
           "ticks": "",
           "title": {
            "standoff": 15
           },
           "zerolinecolor": "white",
           "zerolinewidth": 2
          }
         }
        },
        "xaxis": {
         "anchor": "y",
         "domain": [
          0,
          1
         ],
         "title": {
          "text": "Name"
         }
        },
        "yaxis": {
         "anchor": "x",
         "domain": [
          0,
          1
         ],
         "title": {
          "text": "Funding"
         }
        }
       }
      },
      "text/html": [
       "<div>                            <div id=\"017e9860-e897-427a-aa8a-737260c87198\" class=\"plotly-graph-div\" style=\"height:525px; width:100%;\"></div>            <script type=\"text/javascript\">                require([\"plotly\"], function(Plotly) {                    window.PLOTLYENV=window.PLOTLYENV || {};                                    if (document.getElementById(\"017e9860-e897-427a-aa8a-737260c87198\")) {                    Plotly.newPlot(                        \"017e9860-e897-427a-aa8a-737260c87198\",                        [{\"alignmentgroup\":\"True\",\"hovertemplate\":\"Name=%{x}<br>Funding=%{y}<br>Fate=%{text}<br>Founded=%{marker.color}<extra></extra>\",\"legendgroup\":\"\",\"marker\":{\"color\":[2012,2014,2014,2015,2014,2010,2013,2012,2013,2014,2011,2012,2012,2012,2012,2011,2012,2016,2014,2015,2013,2012,2013,2011,2014,2011,2004,2013,2012,2012,2011,2014,2012,2014,2013,2014,2012,2010,2011,2010,2018,2013,2012,2013,2008,2012,2014,2014,2013,2014,2013,2012,2014,2014,2012,2014,2013,2013,2014,2015,2013,2014,2014,2015,2013,2010,2013,2013,2013,2013,2013,2013,2013,2015,2013,2013,2013,2011,2015,2012,2013,2015,2013,2014,2011,2015,2012,2010,2010,2013,2014,2013,2010,2010,2014,2013,2014,2014,2013,2013,2013,2014,2014,2014,2012],\"coloraxis\":\"coloraxis\",\"pattern\":{\"shape\":\"\"}},\"name\":\"\",\"offsetgroup\":\"\",\"orientation\":\"v\",\"showlegend\":false,\"text\":[\"Acquired\",\"Gone\",\"Alive\",\"Acquired\",\"Gone\",\"Acquired\",\"Gone\",\"Gone\",\"Acquired\",\"Gone\",\"Gone\",\"Gone\",\"Gone\",\"Gone\",\"Gone\",\"Acquired\",\"Gone\",\"Gone\",\"Gone\",\"Gone\",\"Gone\",\"Unicorn\",\"Unicorn\",\"Unicorn\",\"Alive\",\"Alive\",\"Unicorn\",\"Alive\",\"Alive\",\"Alive\",\"Gone\",\"Alive\",\"Acquired\",\"Alive\",\"Alive\",\"Alive\",\"Alive\",\"Gone\",\"Alive\",\"Alive\",\"Gone\",\"Alive\",\"Alive\",\"Alive\",\"Acquired\",\"Alive\",\"Alive\",\"Alive\",\"Gone\",\"Alive\",\"Alive\",\"Alive\",\"Alive\",\"Acquired\",\"Alive\",\"Alive\",\"Alive\",\"Alive\",\"Alive\",\"Alive\",\"Gone\",\"Acquired\",\"Alive\",\"Acquired\",\"Acquired\",\"Alive\",\"Alive\",\"Alive\",\"Alive\",\"Alive\",\"Alive\",\"Acquired\",\"Alive\",\"Alive\",\"Alive\",\"Alive\",\"Alive\",\"Gone\",\"Alive\",\"Acquired\",\"Alive\",\"Alive\",\"Alive\",\"Alive\",\"Acquired\",\"Alive\",\"Gone\",\"Alive\",\"Acquired\",\"Alive\",\"Alive\",\"Acquired\",\"Acquired\",\"Acquired\",\"Gone\",\"Gone\",\"Acquired\",\"Gone\",\"Gone\",\"Gone\",\"Alive\",\"Alive\",\"Alive\",\"Alive\",\"Gone\"],\"textposition\":\"auto\",\"x\":[\"BiteSquad\",\"Canary\",\"Bannerman\",\"Buttery\",\"Caarbon\",\"iCracked\",\"Prim\",\"Rewinery\",\"Unwind Me\",\"Vatler\",\"Washly\",\"Coaster\",\"DashLocker\",\"dVisit\",\"FloristNow\",\"FoodNow\",\"Handii\",\"KallDoc\",\"Nimbl\",\"Squeegy \",\"Worthee\",\"Instacart\",\"DoorDash\",\"Postmates\",\"Wag\",\"Rover\",\"GrubHub\",\"Boxed\",\"Blue Apron\",\"Doctor on Demand\",\"Munchery\",\"Eaze\",\"Handy\",\"Enjoy\",\"Soothe\",\"Heal\",\"Drizly\",\"HomeJoy\",\"Good Eggs\",\"Victor\",\"Shyp\",\"BellHops\",\"Shiftgig\",\"Wonolo\",\"TaskRabbit\",\"Bouqs Company\",\"HelloTech\",\"Nurx\",\"Chef'd\",\"Pager\",\"Urgently\",\"YourMechanic\",\"Honk\",\"Maple\",\"Upcounsel\",\"Operator\",\"Rinse\",\"HouseCall\",\"Spiffy\",\"Wrench\",\"Washio\",\"Workpop\",\"Urban\",\"FitMob\",\"Spoonrocket\",\"Zeel\",\"Saucey\",\"Waitr\",\"Dolly\",\"GoPuff\",\"FoxTrot\",\"BloomThat\",\"Tablelist\",\"Cleanly\",\"Plowz and Mowz\",\"Minibar\",\"Curbstand\",\"Cherry\",\"Jitjajo\",\"Manicube\",\"LoungeBuddy\",\"Swipecast\",\"Thirstie\",\"Lugg\",\"Exec\",\"Vetted\",\"BlackJet\",\"Swifto\",\"Geekatoo\",\"FlyCleaners\",\"Lawn Love\",\"Medicast\",\"RingaDoc\",\"Tutorspree\",\"Changelane\",\"Flinja\",\"VetPronto\",\"Doughbies\",\"SixDoors\",\"JetMe\",\"BottlesTonight\",\"Shortcut\",\"Laborocity\",\"StyleBee\",\"Dinnr\"],\"xaxis\":\"x\",\"y\":[\"Self\",\"Self\",\"Seed\",\"Seed\",\"Seed\",\"Seed\",\"Seed\",\"Seed\",\"Seed\",\"Seed\",\"Seed\",null,null,null,null,null,null,null,null,null,null,\"$1,900,000,000\",\"$1,400,000,000\",\"$678,000,000\",\"$361,500,000\",\"$311,000,000\",\"$284,100,000\",\"$243,600,000\",\"$199,400,000\",\"$160,700,000\",\"$125,400,000\",\"$117,000,000\",\"$110,700,000\",\"$80,000,000\",\"$78,300,000\",\"$71,000,000\",\"$67,500,000\",\"$65,900,000\",\"$65,000,000\",\"$62,500,000\",\"$62,100,000\",\"$58,600,000\",\"$56,000,000\",\"$52,900,000\",\"$50,000,000\",\"$43,100,000\",\"$42,000,000\",\"$41,400,000\",\"$40,500,000\",\"$40,000,000\",\"$39,600,000\",\"$38,500,000\",\"$31,800,000\",\"$29,000,000\",\"$26,000,000\",\"$25,000,000\",\"$25,000,000\",\"$20,000,000\",\"$18,100,000\",\"$17,200,000\",\"$16,800,000\",\"$16,100,000\",\"$15,400,000\",\"$14,750,000\",\"$13,500,000\",\"$13,200,000\",\"$10,200,000\",\"$10,000,000\",\"$9,700,000\",\"$8,300,000\",\"$7,800,000\",\"$7,700,000\",\"$7,400,000\",\"$7,300,000\",\"$7,000,000\",\"$6,800,000\",\"$6,500,000\",\"$5,250,000\",\"$5,000,000\",\"$5,000,000\",\"$4,000,000\",\"$4,000,000\",\"$4,000,000\",\"$3,900,000\",\"$3,300,000\",\"$3,300,000\",\"$3,100,000\",\"$2,500,000\",\"$2,200,000\",\"$2,000,000\",\"$1,900,000\",\"$1,900,000\",\"$1,900,000\",\"$1,800,000\",\"$1,200,000\",\"$1,200,000\",\"$1,100,000\",\"$670,000\",\"$650,000\",\"$400,000\",\"$260,000\",\"$215,000\",\"$125,000\",\"$120,000\",\"$90,700\"],\"yaxis\":\"y\",\"type\":\"bar\"}],                        {\"template\":{\"data\":{\"bar\":[{\"error_x\":{\"color\":\"#2a3f5f\"},\"error_y\":{\"color\":\"#2a3f5f\"},\"marker\":{\"line\":{\"color\":\"#E5ECF6\",\"width\":0.5},\"pattern\":{\"fillmode\":\"overlay\",\"size\":10,\"solidity\":0.2}},\"type\":\"bar\"}],\"barpolar\":[{\"marker\":{\"line\":{\"color\":\"#E5ECF6\",\"width\":0.5},\"pattern\":{\"fillmode\":\"overlay\",\"size\":10,\"solidity\":0.2}},\"type\":\"barpolar\"}],\"carpet\":[{\"aaxis\":{\"endlinecolor\":\"#2a3f5f\",\"gridcolor\":\"white\",\"linecolor\":\"white\",\"minorgridcolor\":\"white\",\"startlinecolor\":\"#2a3f5f\"},\"baxis\":{\"endlinecolor\":\"#2a3f5f\",\"gridcolor\":\"white\",\"linecolor\":\"white\",\"minorgridcolor\":\"white\",\"startlinecolor\":\"#2a3f5f\"},\"type\":\"carpet\"}],\"choropleth\":[{\"colorbar\":{\"outlinewidth\":0,\"ticks\":\"\"},\"type\":\"choropleth\"}],\"contour\":[{\"colorbar\":{\"outlinewidth\":0,\"ticks\":\"\"},\"colorscale\":[[0.0,\"#0d0887\"],[0.1111111111111111,\"#46039f\"],[0.2222222222222222,\"#7201a8\"],[0.3333333333333333,\"#9c179e\"],[0.4444444444444444,\"#bd3786\"],[0.5555555555555556,\"#d8576b\"],[0.6666666666666666,\"#ed7953\"],[0.7777777777777778,\"#fb9f3a\"],[0.8888888888888888,\"#fdca26\"],[1.0,\"#f0f921\"]],\"type\":\"contour\"}],\"contourcarpet\":[{\"colorbar\":{\"outlinewidth\":0,\"ticks\":\"\"},\"type\":\"contourcarpet\"}],\"heatmap\":[{\"colorbar\":{\"outlinewidth\":0,\"ticks\":\"\"},\"colorscale\":[[0.0,\"#0d0887\"],[0.1111111111111111,\"#46039f\"],[0.2222222222222222,\"#7201a8\"],[0.3333333333333333,\"#9c179e\"],[0.4444444444444444,\"#bd3786\"],[0.5555555555555556,\"#d8576b\"],[0.6666666666666666,\"#ed7953\"],[0.7777777777777778,\"#fb9f3a\"],[0.8888888888888888,\"#fdca26\"],[1.0,\"#f0f921\"]],\"type\":\"heatmap\"}],\"heatmapgl\":[{\"colorbar\":{\"outlinewidth\":0,\"ticks\":\"\"},\"colorscale\":[[0.0,\"#0d0887\"],[0.1111111111111111,\"#46039f\"],[0.2222222222222222,\"#7201a8\"],[0.3333333333333333,\"#9c179e\"],[0.4444444444444444,\"#bd3786\"],[0.5555555555555556,\"#d8576b\"],[0.6666666666666666,\"#ed7953\"],[0.7777777777777778,\"#fb9f3a\"],[0.8888888888888888,\"#fdca26\"],[1.0,\"#f0f921\"]],\"type\":\"heatmapgl\"}],\"histogram\":[{\"marker\":{\"pattern\":{\"fillmode\":\"overlay\",\"size\":10,\"solidity\":0.2}},\"type\":\"histogram\"}],\"histogram2d\":[{\"colorbar\":{\"outlinewidth\":0,\"ticks\":\"\"},\"colorscale\":[[0.0,\"#0d0887\"],[0.1111111111111111,\"#46039f\"],[0.2222222222222222,\"#7201a8\"],[0.3333333333333333,\"#9c179e\"],[0.4444444444444444,\"#bd3786\"],[0.5555555555555556,\"#d8576b\"],[0.6666666666666666,\"#ed7953\"],[0.7777777777777778,\"#fb9f3a\"],[0.8888888888888888,\"#fdca26\"],[1.0,\"#f0f921\"]],\"type\":\"histogram2d\"}],\"histogram2dcontour\":[{\"colorbar\":{\"outlinewidth\":0,\"ticks\":\"\"},\"colorscale\":[[0.0,\"#0d0887\"],[0.1111111111111111,\"#46039f\"],[0.2222222222222222,\"#7201a8\"],[0.3333333333333333,\"#9c179e\"],[0.4444444444444444,\"#bd3786\"],[0.5555555555555556,\"#d8576b\"],[0.6666666666666666,\"#ed7953\"],[0.7777777777777778,\"#fb9f3a\"],[0.8888888888888888,\"#fdca26\"],[1.0,\"#f0f921\"]],\"type\":\"histogram2dcontour\"}],\"mesh3d\":[{\"colorbar\":{\"outlinewidth\":0,\"ticks\":\"\"},\"type\":\"mesh3d\"}],\"parcoords\":[{\"line\":{\"colorbar\":{\"outlinewidth\":0,\"ticks\":\"\"}},\"type\":\"parcoords\"}],\"pie\":[{\"automargin\":true,\"type\":\"pie\"}],\"scatter\":[{\"marker\":{\"colorbar\":{\"outlinewidth\":0,\"ticks\":\"\"}},\"type\":\"scatter\"}],\"scatter3d\":[{\"line\":{\"colorbar\":{\"outlinewidth\":0,\"ticks\":\"\"}},\"marker\":{\"colorbar\":{\"outlinewidth\":0,\"ticks\":\"\"}},\"type\":\"scatter3d\"}],\"scattercarpet\":[{\"marker\":{\"colorbar\":{\"outlinewidth\":0,\"ticks\":\"\"}},\"type\":\"scattercarpet\"}],\"scattergeo\":[{\"marker\":{\"colorbar\":{\"outlinewidth\":0,\"ticks\":\"\"}},\"type\":\"scattergeo\"}],\"scattergl\":[{\"marker\":{\"colorbar\":{\"outlinewidth\":0,\"ticks\":\"\"}},\"type\":\"scattergl\"}],\"scattermapbox\":[{\"marker\":{\"colorbar\":{\"outlinewidth\":0,\"ticks\":\"\"}},\"type\":\"scattermapbox\"}],\"scatterpolar\":[{\"marker\":{\"colorbar\":{\"outlinewidth\":0,\"ticks\":\"\"}},\"type\":\"scatterpolar\"}],\"scatterpolargl\":[{\"marker\":{\"colorbar\":{\"outlinewidth\":0,\"ticks\":\"\"}},\"type\":\"scatterpolargl\"}],\"scatterternary\":[{\"marker\":{\"colorbar\":{\"outlinewidth\":0,\"ticks\":\"\"}},\"type\":\"scatterternary\"}],\"surface\":[{\"colorbar\":{\"outlinewidth\":0,\"ticks\":\"\"},\"colorscale\":[[0.0,\"#0d0887\"],[0.1111111111111111,\"#46039f\"],[0.2222222222222222,\"#7201a8\"],[0.3333333333333333,\"#9c179e\"],[0.4444444444444444,\"#bd3786\"],[0.5555555555555556,\"#d8576b\"],[0.6666666666666666,\"#ed7953\"],[0.7777777777777778,\"#fb9f3a\"],[0.8888888888888888,\"#fdca26\"],[1.0,\"#f0f921\"]],\"type\":\"surface\"}],\"table\":[{\"cells\":{\"fill\":{\"color\":\"#EBF0F8\"},\"line\":{\"color\":\"white\"}},\"header\":{\"fill\":{\"color\":\"#C8D4E3\"},\"line\":{\"color\":\"white\"}},\"type\":\"table\"}]},\"layout\":{\"annotationdefaults\":{\"arrowcolor\":\"#2a3f5f\",\"arrowhead\":0,\"arrowwidth\":1},\"autotypenumbers\":\"strict\",\"coloraxis\":{\"colorbar\":{\"outlinewidth\":0,\"ticks\":\"\"}},\"colorscale\":{\"diverging\":[[0,\"#8e0152\"],[0.1,\"#c51b7d\"],[0.2,\"#de77ae\"],[0.3,\"#f1b6da\"],[0.4,\"#fde0ef\"],[0.5,\"#f7f7f7\"],[0.6,\"#e6f5d0\"],[0.7,\"#b8e186\"],[0.8,\"#7fbc41\"],[0.9,\"#4d9221\"],[1,\"#276419\"]],\"sequential\":[[0.0,\"#0d0887\"],[0.1111111111111111,\"#46039f\"],[0.2222222222222222,\"#7201a8\"],[0.3333333333333333,\"#9c179e\"],[0.4444444444444444,\"#bd3786\"],[0.5555555555555556,\"#d8576b\"],[0.6666666666666666,\"#ed7953\"],[0.7777777777777778,\"#fb9f3a\"],[0.8888888888888888,\"#fdca26\"],[1.0,\"#f0f921\"]],\"sequentialminus\":[[0.0,\"#0d0887\"],[0.1111111111111111,\"#46039f\"],[0.2222222222222222,\"#7201a8\"],[0.3333333333333333,\"#9c179e\"],[0.4444444444444444,\"#bd3786\"],[0.5555555555555556,\"#d8576b\"],[0.6666666666666666,\"#ed7953\"],[0.7777777777777778,\"#fb9f3a\"],[0.8888888888888888,\"#fdca26\"],[1.0,\"#f0f921\"]]},\"colorway\":[\"#636efa\",\"#EF553B\",\"#00cc96\",\"#ab63fa\",\"#FFA15A\",\"#19d3f3\",\"#FF6692\",\"#B6E880\",\"#FF97FF\",\"#FECB52\"],\"font\":{\"color\":\"#2a3f5f\"},\"geo\":{\"bgcolor\":\"white\",\"lakecolor\":\"white\",\"landcolor\":\"#E5ECF6\",\"showlakes\":true,\"showland\":true,\"subunitcolor\":\"white\"},\"hoverlabel\":{\"align\":\"left\"},\"hovermode\":\"closest\",\"mapbox\":{\"style\":\"light\"},\"paper_bgcolor\":\"white\",\"plot_bgcolor\":\"#E5ECF6\",\"polar\":{\"angularaxis\":{\"gridcolor\":\"white\",\"linecolor\":\"white\",\"ticks\":\"\"},\"bgcolor\":\"#E5ECF6\",\"radialaxis\":{\"gridcolor\":\"white\",\"linecolor\":\"white\",\"ticks\":\"\"}},\"scene\":{\"xaxis\":{\"backgroundcolor\":\"#E5ECF6\",\"gridcolor\":\"white\",\"gridwidth\":2,\"linecolor\":\"white\",\"showbackground\":true,\"ticks\":\"\",\"zerolinecolor\":\"white\"},\"yaxis\":{\"backgroundcolor\":\"#E5ECF6\",\"gridcolor\":\"white\",\"gridwidth\":2,\"linecolor\":\"white\",\"showbackground\":true,\"ticks\":\"\",\"zerolinecolor\":\"white\"},\"zaxis\":{\"backgroundcolor\":\"#E5ECF6\",\"gridcolor\":\"white\",\"gridwidth\":2,\"linecolor\":\"white\",\"showbackground\":true,\"ticks\":\"\",\"zerolinecolor\":\"white\"}},\"shapedefaults\":{\"line\":{\"color\":\"#2a3f5f\"}},\"ternary\":{\"aaxis\":{\"gridcolor\":\"white\",\"linecolor\":\"white\",\"ticks\":\"\"},\"baxis\":{\"gridcolor\":\"white\",\"linecolor\":\"white\",\"ticks\":\"\"},\"bgcolor\":\"#E5ECF6\",\"caxis\":{\"gridcolor\":\"white\",\"linecolor\":\"white\",\"ticks\":\"\"}},\"title\":{\"x\":0.05},\"xaxis\":{\"automargin\":true,\"gridcolor\":\"white\",\"linecolor\":\"white\",\"ticks\":\"\",\"title\":{\"standoff\":15},\"zerolinecolor\":\"white\",\"zerolinewidth\":2},\"yaxis\":{\"automargin\":true,\"gridcolor\":\"white\",\"linecolor\":\"white\",\"ticks\":\"\",\"title\":{\"standoff\":15},\"zerolinecolor\":\"white\",\"zerolinewidth\":2}}},\"xaxis\":{\"anchor\":\"y\",\"domain\":[0.0,1.0],\"title\":{\"text\":\"Name\"}},\"yaxis\":{\"anchor\":\"x\",\"domain\":[0.0,1.0],\"title\":{\"text\":\"Funding\"}},\"coloraxis\":{\"colorbar\":{\"title\":{\"text\":\"Founded\"}},\"colorscale\":[[0.0,\"#0d0887\"],[0.1111111111111111,\"#46039f\"],[0.2222222222222222,\"#7201a8\"],[0.3333333333333333,\"#9c179e\"],[0.4444444444444444,\"#bd3786\"],[0.5555555555555556,\"#d8576b\"],[0.6666666666666666,\"#ed7953\"],[0.7777777777777778,\"#fb9f3a\"],[0.8888888888888888,\"#fdca26\"],[1.0,\"#f0f921\"]]},\"legend\":{\"tracegroupgap\":0},\"margin\":{\"t\":60},\"barmode\":\"relative\"},                        {\"responsive\": true}                    ).then(function(){\n",
       "                            \n",
       "var gd = document.getElementById('017e9860-e897-427a-aa8a-737260c87198');\n",
       "var x = new MutationObserver(function (mutations, observer) {{\n",
       "        var display = window.getComputedStyle(gd).display;\n",
       "        if (!display || display === 'none') {{\n",
       "            console.log([gd, 'removed!']);\n",
       "            Plotly.purge(gd);\n",
       "            observer.disconnect();\n",
       "        }}\n",
       "}});\n",
       "\n",
       "// Listen for the removal of the full notebook cells\n",
       "var notebookContainer = gd.closest('#notebook-container');\n",
       "if (notebookContainer) {{\n",
       "    x.observe(notebookContainer, {childList: true});\n",
       "}}\n",
       "\n",
       "// Listen for the clearing of the current output cell\n",
       "var outputEl = gd.closest('.output');\n",
       "if (outputEl) {{\n",
       "    x.observe(outputEl, {childList: true});\n",
       "}}\n",
       "\n",
       "                        })                };                });            </script>        </div>"
      ]
     },
     "metadata": {},
     "output_type": "display_data"
    }
   ],
   "source": [
    "fig = px.bar(df, y='Funding', x='Name', text='Fate', color='Founded')\n",
    "fig"
   ]
  },
  {
   "cell_type": "code",
   "execution_count": 54,
   "id": "06232715",
   "metadata": {},
   "outputs": [
    {
     "data": {
      "text/html": [
       "<div>\n",
       "<style scoped>\n",
       "    .dataframe tbody tr th:only-of-type {\n",
       "        vertical-align: middle;\n",
       "    }\n",
       "\n",
       "    .dataframe tbody tr th {\n",
       "        vertical-align: top;\n",
       "    }\n",
       "\n",
       "    .dataframe thead th {\n",
       "        text-align: right;\n",
       "    }\n",
       "</style>\n",
       "<table border=\"1\" class=\"dataframe\">\n",
       "  <thead>\n",
       "    <tr style=\"text-align: right;\">\n",
       "      <th></th>\n",
       "      <th>Name</th>\n",
       "      <th>Funding</th>\n",
       "      <th>Business</th>\n",
       "      <th>Founded</th>\n",
       "      <th>Fate</th>\n",
       "      <th>Comment</th>\n",
       "      <th>Unnamed: 6</th>\n",
       "      <th>Unnamed: 7</th>\n",
       "    </tr>\n",
       "  </thead>\n",
       "  <tbody>\n",
       "    <tr>\n",
       "      <th>30</th>\n",
       "      <td>Munchery</td>\n",
       "      <td>$125,400,000</td>\n",
       "      <td>Delivery-Food</td>\n",
       "      <td>2011</td>\n",
       "      <td>Gone</td>\n",
       "      <td>Bust in 2019</td>\n",
       "      <td>https://www.sfchronicle.com/business/article/M...</td>\n",
       "      <td>NaN</td>\n",
       "    </tr>\n",
       "  </tbody>\n",
       "</table>\n",
       "</div>"
      ],
      "text/plain": [
       "        Name       Funding       Business  Founded  Fate       Comment  \\\n",
       "30  Munchery  $125,400,000  Delivery-Food     2011  Gone  Bust in 2019   \n",
       "\n",
       "                                           Unnamed: 6 Unnamed: 7  \n",
       "30  https://www.sfchronicle.com/business/article/M...        NaN  "
      ]
     },
     "execution_count": 54,
     "metadata": {},
     "output_type": "execute_result"
    }
   ],
   "source": [
    "df[df[\"Name\"] == \"Munchery\"]"
   ]
  },
  {
   "cell_type": "code",
   "execution_count": null,
   "id": "83d4efcc",
   "metadata": {},
   "outputs": [],
   "source": []
  }
 ],
 "metadata": {
  "kernelspec": {
   "display_name": "Python 3 (ipykernel)",
   "language": "python",
   "name": "python3"
  },
  "language_info": {
   "codemirror_mode": {
    "name": "ipython",
    "version": 3
   },
   "file_extension": ".py",
   "mimetype": "text/x-python",
   "name": "python",
   "nbconvert_exporter": "python",
   "pygments_lexer": "ipython3",
   "version": "3.9.12"
  }
 },
 "nbformat": 4,
 "nbformat_minor": 5
}
