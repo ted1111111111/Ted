{
 "cells": [
  {
   "cell_type": "markdown",
   "id": "23a203ca",
   "metadata": {},
   "source": [
    "# Assignment #1"
   ]
  },
  {
   "cell_type": "markdown",
   "id": "700669c0",
   "metadata": {},
   "source": [
    "1. Make two list's one of clothing items and accesories such as shirts, shorts, jeans etc and another list of atleast five colours such as red, white etc.\n",
    "\n",
    "\n",
    "2. Write a nested loop printing out each clothing item and accessory in every colour with the string statment \n",
    "- 'item from list of clothing item' are of 'colour from list of colour'. \n",
    "- Example statment \"shirts are of white colour\", \"shirts are of red colour\""
   ]
  },
  {
   "cell_type": "markdown",
   "id": "f745fab0",
   "metadata": {},
   "source": [
    "# Solution "
   ]
  },
  {
   "cell_type": "code",
   "execution_count": null,
   "id": "ab5918dd",
   "metadata": {},
   "outputs": [],
   "source": []
  }
 ],
 "metadata": {
  "kernelspec": {
   "display_name": "Python 3 (ipykernel)",
   "language": "python",
   "name": "python3"
  },
  "language_info": {
   "codemirror_mode": {
    "name": "ipython",
    "version": 3
   },
   "file_extension": ".py",
   "mimetype": "text/x-python",
   "name": "python",
   "nbconvert_exporter": "python",
   "pygments_lexer": "ipython3",
   "version": "3.8.12"
  }
 },
 "nbformat": 4,
 "nbformat_minor": 5
}
